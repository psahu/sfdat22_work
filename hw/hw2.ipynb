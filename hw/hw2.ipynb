{
 "cells": [
  {
   "cell_type": "code",
   "execution_count": 1,
   "metadata": {
    "collapsed": false
   },
   "outputs": [],
   "source": [
    "import tweepy       # python wrapper for twitter api\n",
    "import json\n",
    "import time\n",
    "import requests\n",
    "import pandas as pd\n",
    "import scipy as sp\n",
    "import numpy as np\n",
    "import matplotlib.pyplot as plt\n",
    "%matplotlib inline\n",
    "\n",
    "# step 0, get your own twitter credentials!"
   ]
  },
  {
   "cell_type": "code",
   "execution_count": 2,
   "metadata": {
    "collapsed": false
   },
   "outputs": [],
   "source": [
    "# this is my own personal twitter api information\n",
    "# if you could be so kind as to sign up yourself on both twitter and mashape that'd be great :)\n",
    "# It's FREEEEEEE\n",
    "api_key = 'D6gWKTXWN7zo6FxYaCrDEoqK6'\n",
    "api_secret = 'B0adaRE1E61AL9loEZiVF4nyjv4DmCGxrakBZSkoFbt7qJpjkw'\n",
    "access_token = '41174820-IayjKYSiNgnwGMce0LustGQTCsdZaBcUbyiHbFA80'\n",
    "access_secret = 'lP5UjMoh7fhxl23T5fWeasLy37ze9SyOU8IBjRT7oCNjY'"
   ]
  },
  {
   "cell_type": "code",
   "execution_count": 3,
   "metadata": {
    "collapsed": false
   },
   "outputs": [],
   "source": [
    "# Documentation is your friend! http://docs.tweepy.org/en/v3.1.0/\n",
    "auth = tweepy.OAuthHandler(api_key, api_secret)\n",
    "auth.set_access_token(access_token, access_secret)\n",
    "api = tweepy.API(auth) # returns a tweepy authorization handler object"
   ]
  },
  {
   "cell_type": "code",
   "execution_count": 13,
   "metadata": {
    "collapsed": false
   },
   "outputs": [],
   "source": [
    "# 1. Use Twitter API to stream and store tweets (300 per candidate)\n",
    "# explain geocode is doing\n",
    "bernie_tweets =  api.search(q=\"#berniesanders\", count=100, geocode=\"37.781157,-122.398720,50mi\") \\\n",
    "                + api.search(q='#bernie', count=100, geocode=\"37.781157,-122.398720,50mi\") \\\n",
    "                + api.search(q='#FeelTheBern', count=100, geocode=\"37.781157,-122.398720,50mi\")\n",
    "hillary_tweets = api.search(q='#ImWithHer', count=100, geocode=\"37.781157,-122.398720,50mi\") \\\n",
    "                + api.search(q='#hillaryclinton', count=100, geocode=\"37.781157,-122.398720,50mi\") \\\n",
    "                + api.search(q='#hillary2016', count=100, geocode=\"37.781157,-122.398720,50mi\")\n",
    "the_donald_tweets = api.search(q='#donaldtrump', count=100, geocode=\"37.781157,-122.398720,50mi\") \\\n",
    "                + api.search(q='#trump2016', count=100, geocode=\"37.781157,-122.398720,50mi\") \\\n",
    "                + api.search(q='#trump', count=100, geocode=\"37.781157,-122.398720,50mi\") \\\n",
    "                + api.search(q='#makeamericagreatagain', count=100, geocode=\"37.781157,-122.398720,50mi\")"
   ]
  },
  {
   "cell_type": "code",
   "execution_count": 14,
   "metadata": {
    "collapsed": false
   },
   "outputs": [
    {
     "data": {
      "text/plain": [
       "Status(contributors=None, truncated=False, text=u'Music to my ears Folks!\\nWay to go! \\n#Education\\n#Latinos\\n#HillaryClinton \\n#Immigration \\n#DonaldTrump \\n#CNN #FoxNews https://t.co/cnb1hvVpcB', is_quote_status=True, in_reply_to_status_id=None, id=731559575564914688, favorite_count=1, _api=<tweepy.api.API object at 0x10bbaab10>, source=u'Twitter Web Client', quoted_status_id=731514172584792064, _json={u'contributors': None, u'truncated': False, u'text': u'Music to my ears Folks!\\nWay to go! \\n#Education\\n#Latinos\\n#HillaryClinton \\n#Immigration \\n#DonaldTrump \\n#CNN #FoxNews https://t.co/cnb1hvVpcB', u'is_quote_status': True, u'in_reply_to_status_id': None, u'id': 731559575564914688, u'favorite_count': 1, u'entities': {u'symbols': [], u'user_mentions': [], u'hashtags': [{u'indices': [36, 46], u'text': u'Education'}, {u'indices': [47, 55], u'text': u'Latinos'}, {u'indices': [56, 71], u'text': u'HillaryClinton'}, {u'indices': [73, 85], u'text': u'Immigration'}, {u'indices': [87, 99], u'text': u'DonaldTrump'}, {u'indices': [101, 105], u'text': u'CNN'}, {u'indices': [106, 114], u'text': u'FoxNews'}], u'urls': [{u'url': u'https://t.co/cnb1hvVpcB', u'indices': [115, 138], u'expanded_url': u'https://twitter.com/immcouncil/status/731514172584792064', u'display_url': u'twitter.com/immcouncil/sta\\u2026'}]}, u'quoted_status_id': 731514172584792064, u'retweeted': False, u'coordinates': None, u'quoted_status': {u'contributors': None, u'truncated': False, u'text': u'University of California announces $8.4 million in support for #undocumented students \\u2192 https://t.co/EmzQabTHYL #immigration', u'is_quote_status': False, u'in_reply_to_status_id': None, u'id': 731514172584792064, u'favorite_count': 8, u'entities': {u'symbols': [], u'user_mentions': [], u'hashtags': [{u'indices': [63, 76], u'text': u'undocumented'}, {u'indices': [112, 124], u'text': u'immigration'}], u'urls': [{u'url': u'https://t.co/EmzQabTHYL', u'indices': [88, 111], u'expanded_url': u'http://nbcnews.to/1T9WMs3', u'display_url': u'nbcnews.to/1T9WMs3'}]}, u'retweeted': False, u'coordinates': None, u'source': u'<a href=\"https://about.twitter.com/products/tweetdeck\" rel=\"nofollow\">TweetDeck</a>', u'in_reply_to_screen_name': None, u'in_reply_to_user_id': None, u'retweet_count': 13, u'id_str': u'731514172584792064', u'favorited': False, u'user': {u'follow_request_sent': False, u'has_extended_profile': False, u'profile_use_background_image': False, u'default_profile_image': False, u'id': 21346365, u'profile_background_image_url_https': u'https://abs.twimg.com/images/themes/theme15/bg.png', u'verified': False, u'profile_text_color': u'000000', u'profile_image_url_https': u'https://pbs.twimg.com/profile_images/661680422666006528/BO6lSI2i_normal.png', u'profile_sidebar_fill_color': u'000000', u'entities': {u'url': {u'urls': [{u'url': u'https://t.co/89fkVfR4mf', u'indices': [0, 23], u'expanded_url': u'http://AmericanImmigrationCouncil.org', u'display_url': u'AmericanImmigrationCouncil.org'}]}, u'description': {u'urls': []}}, u'followers_count': 35736, u'profile_sidebar_border_color': u'000000', u'id_str': u'21346365', u'profile_background_color': u'9FB9E2', u'listed_count': 996, u'is_translation_enabled': False, u'utc_offset': -18000, u'statuses_count': 8795, u'description': u'We work to strengthen America by honoring our immigrant history and shape how Americans think and act towards immigration now and in the future.', u'friends_count': 1852, u'location': u'Washington, DC', u'profile_link_color': u'576683', u'profile_image_url': u'http://pbs.twimg.com/profile_images/661680422666006528/BO6lSI2i_normal.png', u'following': False, u'geo_enabled': True, u'profile_banner_url': u'https://pbs.twimg.com/profile_banners/21346365/1448317039', u'profile_background_image_url': u'http://abs.twimg.com/images/themes/theme15/bg.png', u'screen_name': u'immcouncil', u'lang': u'en', u'profile_background_tile': False, u'favourites_count': 1027, u'name': u'Immigration Council', u'notifications': False, u'url': u'https://t.co/89fkVfR4mf', u'created_at': u'Thu Feb 19 22:22:35 +0000 2009', u'contributors_enabled': False, u'time_zone': u'Central Time (US & Canada)', u'protected': False, u'default_profile': False, u'is_translator': False}, u'geo': None, u'in_reply_to_user_id_str': None, u'possibly_sensitive': False, u'lang': u'en', u'created_at': u'Sat May 14 15:59:04 +0000 2016', u'in_reply_to_status_id_str': None, u'place': None, u'metadata': {u'iso_language_code': u'en', u'result_type': u'recent'}}, u'source': u'<a href=\"http://twitter.com\" rel=\"nofollow\">Twitter Web Client</a>', u'in_reply_to_screen_name': None, u'in_reply_to_user_id': None, u'retweet_count': 0, u'id_str': u'731559575564914688', u'favorited': False, u'user': {u'follow_request_sent': False, u'has_extended_profile': True, u'profile_use_background_image': True, u'default_profile_image': False, u'id': 29584150, u'profile_background_image_url_https': u'https://pbs.twimg.com/profile_background_images/604738059897143296/dzCp250L.png', u'verified': False, u'profile_text_color': u'333333', u'profile_image_url_https': u'https://pbs.twimg.com/profile_images/730774049945608192/qalog2i1_normal.jpg', u'profile_sidebar_fill_color': u'F6F6F6', u'entities': {u'description': {u'urls': []}}, u'followers_count': 10963, u'profile_sidebar_border_color': u'FFFFFF', u'id_str': u'29584150', u'profile_background_color': u'EBEBEB', u'listed_count': 237, u'is_translation_enabled': False, u'utc_offset': -25200, u'statuses_count': 31987, u'description': u'Peace, Amazon Rainforest, Climate Change, Ocean & Human Rights Activist.   THE AMAZON RAINFOREST recycles 20% of the oxygen in our planet. Keep the AMAZON ALIVE', u'friends_count': 12773, u'location': u'Mill Valley, CA', u'profile_link_color': u'990000', u'profile_image_url': u'http://pbs.twimg.com/profile_images/730774049945608192/qalog2i1_normal.jpg', u'following': False, u'geo_enabled': True, u'profile_banner_url': u'https://pbs.twimg.com/profile_banners/29584150/1463065112', u'profile_background_image_url': u'http://pbs.twimg.com/profile_background_images/604738059897143296/dzCp250L.png', u'screen_name': u'Yolibeans', u'lang': u'en', u'profile_background_tile': True, u'favourites_count': 10312, u'name': u'Yolanda G. Lemaitre', u'notifications': False, u'url': None, u'created_at': u'Wed Apr 08 00:00:47 +0000 2009', u'contributors_enabled': False, u'time_zone': u'Pacific Time (US & Canada)', u'protected': False, u'default_profile': False, u'is_translator': False}, u'geo': None, u'in_reply_to_user_id_str': None, u'possibly_sensitive': False, u'lang': u'en', u'created_at': u'Sat May 14 18:59:29 +0000 2016', u'quoted_status_id_str': u'731514172584792064', u'in_reply_to_status_id_str': None, u'place': None, u'metadata': {u'iso_language_code': u'en', u'result_type': u'recent'}}, coordinates=None, quoted_status={u'contributors': None, u'truncated': False, u'text': u'University of California announces $8.4 million in support for #undocumented students \\u2192 https://t.co/EmzQabTHYL #immigration', u'is_quote_status': False, u'in_reply_to_status_id': None, u'id': 731514172584792064, u'favorite_count': 8, u'entities': {u'symbols': [], u'user_mentions': [], u'hashtags': [{u'indices': [63, 76], u'text': u'undocumented'}, {u'indices': [112, 124], u'text': u'immigration'}], u'urls': [{u'url': u'https://t.co/EmzQabTHYL', u'indices': [88, 111], u'expanded_url': u'http://nbcnews.to/1T9WMs3', u'display_url': u'nbcnews.to/1T9WMs3'}]}, u'retweeted': False, u'coordinates': None, u'source': u'<a href=\"https://about.twitter.com/products/tweetdeck\" rel=\"nofollow\">TweetDeck</a>', u'in_reply_to_screen_name': None, u'in_reply_to_user_id': None, u'retweet_count': 13, u'id_str': u'731514172584792064', u'favorited': False, u'user': {u'follow_request_sent': False, u'has_extended_profile': False, u'profile_use_background_image': False, u'default_profile_image': False, u'id': 21346365, u'profile_background_image_url_https': u'https://abs.twimg.com/images/themes/theme15/bg.png', u'verified': False, u'profile_text_color': u'000000', u'profile_image_url_https': u'https://pbs.twimg.com/profile_images/661680422666006528/BO6lSI2i_normal.png', u'profile_sidebar_fill_color': u'000000', u'entities': {u'url': {u'urls': [{u'url': u'https://t.co/89fkVfR4mf', u'indices': [0, 23], u'expanded_url': u'http://AmericanImmigrationCouncil.org', u'display_url': u'AmericanImmigrationCouncil.org'}]}, u'description': {u'urls': []}}, u'followers_count': 35736, u'profile_sidebar_border_color': u'000000', u'id_str': u'21346365', u'profile_background_color': u'9FB9E2', u'listed_count': 996, u'is_translation_enabled': False, u'utc_offset': -18000, u'statuses_count': 8795, u'description': u'We work to strengthen America by honoring our immigrant history and shape how Americans think and act towards immigration now and in the future.', u'friends_count': 1852, u'location': u'Washington, DC', u'profile_link_color': u'576683', u'profile_image_url': u'http://pbs.twimg.com/profile_images/661680422666006528/BO6lSI2i_normal.png', u'following': False, u'geo_enabled': True, u'profile_banner_url': u'https://pbs.twimg.com/profile_banners/21346365/1448317039', u'profile_background_image_url': u'http://abs.twimg.com/images/themes/theme15/bg.png', u'screen_name': u'immcouncil', u'lang': u'en', u'profile_background_tile': False, u'favourites_count': 1027, u'name': u'Immigration Council', u'notifications': False, u'url': u'https://t.co/89fkVfR4mf', u'created_at': u'Thu Feb 19 22:22:35 +0000 2009', u'contributors_enabled': False, u'time_zone': u'Central Time (US & Canada)', u'protected': False, u'default_profile': False, u'is_translator': False}, u'geo': None, u'in_reply_to_user_id_str': None, u'possibly_sensitive': False, u'lang': u'en', u'created_at': u'Sat May 14 15:59:04 +0000 2016', u'in_reply_to_status_id_str': None, u'place': None, u'metadata': {u'iso_language_code': u'en', u'result_type': u'recent'}}, entities={u'symbols': [], u'user_mentions': [], u'hashtags': [{u'indices': [36, 46], u'text': u'Education'}, {u'indices': [47, 55], u'text': u'Latinos'}, {u'indices': [56, 71], u'text': u'HillaryClinton'}, {u'indices': [73, 85], u'text': u'Immigration'}, {u'indices': [87, 99], u'text': u'DonaldTrump'}, {u'indices': [101, 105], u'text': u'CNN'}, {u'indices': [106, 114], u'text': u'FoxNews'}], u'urls': [{u'url': u'https://t.co/cnb1hvVpcB', u'indices': [115, 138], u'expanded_url': u'https://twitter.com/immcouncil/status/731514172584792064', u'display_url': u'twitter.com/immcouncil/sta\\u2026'}]}, in_reply_to_screen_name=None, id_str=u'731559575564914688', retweet_count=0, in_reply_to_user_id=None, favorited=False, source_url=u'http://twitter.com', user=User(follow_request_sent=False, has_extended_profile=True, profile_use_background_image=True, _json={u'follow_request_sent': False, u'has_extended_profile': True, u'profile_use_background_image': True, u'default_profile_image': False, u'id': 29584150, u'profile_background_image_url_https': u'https://pbs.twimg.com/profile_background_images/604738059897143296/dzCp250L.png', u'verified': False, u'profile_text_color': u'333333', u'profile_image_url_https': u'https://pbs.twimg.com/profile_images/730774049945608192/qalog2i1_normal.jpg', u'profile_sidebar_fill_color': u'F6F6F6', u'entities': {u'description': {u'urls': []}}, u'followers_count': 10963, u'profile_sidebar_border_color': u'FFFFFF', u'id_str': u'29584150', u'profile_background_color': u'EBEBEB', u'listed_count': 237, u'is_translation_enabled': False, u'utc_offset': -25200, u'statuses_count': 31987, u'description': u'Peace, Amazon Rainforest, Climate Change, Ocean & Human Rights Activist.   THE AMAZON RAINFOREST recycles 20% of the oxygen in our planet. Keep the AMAZON ALIVE', u'friends_count': 12773, u'location': u'Mill Valley, CA', u'profile_link_color': u'990000', u'profile_image_url': u'http://pbs.twimg.com/profile_images/730774049945608192/qalog2i1_normal.jpg', u'following': False, u'geo_enabled': True, u'profile_banner_url': u'https://pbs.twimg.com/profile_banners/29584150/1463065112', u'profile_background_image_url': u'http://pbs.twimg.com/profile_background_images/604738059897143296/dzCp250L.png', u'screen_name': u'Yolibeans', u'lang': u'en', u'profile_background_tile': True, u'favourites_count': 10312, u'name': u'Yolanda G. Lemaitre', u'notifications': False, u'url': None, u'created_at': u'Wed Apr 08 00:00:47 +0000 2009', u'contributors_enabled': False, u'time_zone': u'Pacific Time (US & Canada)', u'protected': False, u'default_profile': False, u'is_translator': False}, time_zone=u'Pacific Time (US & Canada)', id=29584150, _api=<tweepy.api.API object at 0x10bbaab10>, verified=False, profile_text_color=u'333333', profile_image_url_https=u'https://pbs.twimg.com/profile_images/730774049945608192/qalog2i1_normal.jpg', profile_sidebar_fill_color=u'F6F6F6', is_translator=False, geo_enabled=True, entities={u'description': {u'urls': []}}, followers_count=10963, protected=False, id_str=u'29584150', default_profile_image=False, listed_count=237, lang=u'en', utc_offset=-25200, statuses_count=31987, description=u'Peace, Amazon Rainforest, Climate Change, Ocean & Human Rights Activist.   THE AMAZON RAINFOREST recycles 20% of the oxygen in our planet. Keep the AMAZON ALIVE', friends_count=12773, profile_link_color=u'990000', profile_image_url=u'http://pbs.twimg.com/profile_images/730774049945608192/qalog2i1_normal.jpg', notifications=False, profile_background_image_url_https=u'https://pbs.twimg.com/profile_background_images/604738059897143296/dzCp250L.png', profile_background_color=u'EBEBEB', profile_banner_url=u'https://pbs.twimg.com/profile_banners/29584150/1463065112', profile_background_image_url=u'http://pbs.twimg.com/profile_background_images/604738059897143296/dzCp250L.png', name=u'Yolanda G. Lemaitre', is_translation_enabled=False, profile_background_tile=True, favourites_count=10312, screen_name=u'Yolibeans', url=None, created_at=datetime.datetime(2009, 4, 8, 0, 0, 47), contributors_enabled=False, location=u'Mill Valley, CA', profile_sidebar_border_color=u'FFFFFF', default_profile=False, following=False), geo=None, in_reply_to_user_id_str=None, possibly_sensitive=False, lang=u'en', created_at=datetime.datetime(2016, 5, 14, 18, 59, 29), author=User(follow_request_sent=False, has_extended_profile=True, profile_use_background_image=True, _json={u'follow_request_sent': False, u'has_extended_profile': True, u'profile_use_background_image': True, u'default_profile_image': False, u'id': 29584150, u'profile_background_image_url_https': u'https://pbs.twimg.com/profile_background_images/604738059897143296/dzCp250L.png', u'verified': False, u'profile_text_color': u'333333', u'profile_image_url_https': u'https://pbs.twimg.com/profile_images/730774049945608192/qalog2i1_normal.jpg', u'profile_sidebar_fill_color': u'F6F6F6', u'entities': {u'description': {u'urls': []}}, u'followers_count': 10963, u'profile_sidebar_border_color': u'FFFFFF', u'id_str': u'29584150', u'profile_background_color': u'EBEBEB', u'listed_count': 237, u'is_translation_enabled': False, u'utc_offset': -25200, u'statuses_count': 31987, u'description': u'Peace, Amazon Rainforest, Climate Change, Ocean & Human Rights Activist.   THE AMAZON RAINFOREST recycles 20% of the oxygen in our planet. Keep the AMAZON ALIVE', u'friends_count': 12773, u'location': u'Mill Valley, CA', u'profile_link_color': u'990000', u'profile_image_url': u'http://pbs.twimg.com/profile_images/730774049945608192/qalog2i1_normal.jpg', u'following': False, u'geo_enabled': True, u'profile_banner_url': u'https://pbs.twimg.com/profile_banners/29584150/1463065112', u'profile_background_image_url': u'http://pbs.twimg.com/profile_background_images/604738059897143296/dzCp250L.png', u'screen_name': u'Yolibeans', u'lang': u'en', u'profile_background_tile': True, u'favourites_count': 10312, u'name': u'Yolanda G. Lemaitre', u'notifications': False, u'url': None, u'created_at': u'Wed Apr 08 00:00:47 +0000 2009', u'contributors_enabled': False, u'time_zone': u'Pacific Time (US & Canada)', u'protected': False, u'default_profile': False, u'is_translator': False}, time_zone=u'Pacific Time (US & Canada)', id=29584150, _api=<tweepy.api.API object at 0x10bbaab10>, verified=False, profile_text_color=u'333333', profile_image_url_https=u'https://pbs.twimg.com/profile_images/730774049945608192/qalog2i1_normal.jpg', profile_sidebar_fill_color=u'F6F6F6', is_translator=False, geo_enabled=True, entities={u'description': {u'urls': []}}, followers_count=10963, protected=False, id_str=u'29584150', default_profile_image=False, listed_count=237, lang=u'en', utc_offset=-25200, statuses_count=31987, description=u'Peace, Amazon Rainforest, Climate Change, Ocean & Human Rights Activist.   THE AMAZON RAINFOREST recycles 20% of the oxygen in our planet. Keep the AMAZON ALIVE', friends_count=12773, profile_link_color=u'990000', profile_image_url=u'http://pbs.twimg.com/profile_images/730774049945608192/qalog2i1_normal.jpg', notifications=False, profile_background_image_url_https=u'https://pbs.twimg.com/profile_background_images/604738059897143296/dzCp250L.png', profile_background_color=u'EBEBEB', profile_banner_url=u'https://pbs.twimg.com/profile_banners/29584150/1463065112', profile_background_image_url=u'http://pbs.twimg.com/profile_background_images/604738059897143296/dzCp250L.png', name=u'Yolanda G. Lemaitre', is_translation_enabled=False, profile_background_tile=True, favourites_count=10312, screen_name=u'Yolibeans', url=None, created_at=datetime.datetime(2009, 4, 8, 0, 0, 47), contributors_enabled=False, location=u'Mill Valley, CA', profile_sidebar_border_color=u'FFFFFF', default_profile=False, following=False), quoted_status_id_str=u'731514172584792064', in_reply_to_status_id_str=None, place=None, retweeted=False, metadata={u'iso_language_code': u'en', u'result_type': u'recent'})"
      ]
     },
     "execution_count": 14,
     "metadata": {},
     "output_type": "execute_result"
    }
   ],
   "source": [
    "the_donald_tweets[0]"
   ]
  },
  {
   "cell_type": "code",
   "execution_count": 16,
   "metadata": {
    "collapsed": false
   },
   "outputs": [
    {
     "name": "stdout",
     "output_type": "stream",
     "text": [
      "['__class__', '__delattr__', '__dict__', '__doc__', '__eq__', '__format__', '__getattribute__', '__getstate__', '__hash__', '__init__', '__module__', '__ne__', '__new__', '__reduce__', '__reduce_ex__', '__repr__', '__setattr__', '__sizeof__', '__str__', '__subclasshook__', '__weakref__', '_api', '_json', 'author', 'contributors', 'coordinates', 'created_at', 'destroy', 'entities', 'favorite', 'favorite_count', 'favorited', 'geo', 'id', 'id_str', 'in_reply_to_screen_name', 'in_reply_to_status_id', 'in_reply_to_status_id_str', 'in_reply_to_user_id', 'in_reply_to_user_id_str', 'is_quote_status', 'lang', 'metadata', 'parse', 'parse_list', 'place', 'possibly_sensitive', 'quoted_status', 'quoted_status_id', 'quoted_status_id_str', 'retweet', 'retweet_count', 'retweeted', 'retweets', 'source', 'source_url', 'text', 'truncated', 'user']\n"
     ]
    }
   ],
   "source": [
    "# wrappers come with built in python attributes and methods!\n",
    "print dir(the_donald_tweets[0])"
   ]
  },
  {
   "cell_type": "code",
   "execution_count": 17,
   "metadata": {
    "collapsed": false
   },
   "outputs": [
    {
     "name": "stdout",
     "output_type": "stream",
     "text": [
      "2016-05-14 18:59:29\n",
      "Music to my ears Folks!\n",
      "Way to go! \n",
      "#Education\n",
      "#Latinos\n",
      "#HillaryClinton \n",
      "#Immigration \n",
      "#DonaldTrump \n",
      "#CNN #FoxNews https://t.co/cnb1hvVpcB\n",
      "1\n",
      "False\n",
      "en\n",
      "None\n",
      "0\n",
      "False\n",
      "False\n",
      "None\n"
     ]
    }
   ],
   "source": [
    "print the_donald_tweets[0].created_at\n",
    "print the_donald_tweets[0].text\n",
    "print the_donald_tweets[0].favorite_count\n",
    "print the_donald_tweets[0].favorited\n",
    "print the_donald_tweets[0].lang\n",
    "print the_donald_tweets[0].geo\n",
    "print the_donald_tweets[0].retweet_count\n",
    "print the_donald_tweets[0].retweeted\n",
    "print the_donald_tweets[0].possibly_sensitive\n",
    "print the_donald_tweets[0].coordinates"
   ]
  },
  {
   "cell_type": "code",
   "execution_count": 18,
   "metadata": {
    "collapsed": false
   },
   "outputs": [],
   "source": [
    "def parse_status_objects(tweet_list, main_candidate, main_party):\n",
    "    modified_tweets = list()\n",
    "    for x in tweet_list:\n",
    "        modified_tweets.append( [\n",
    "                    x.created_at,\n",
    "                    x.text,\n",
    "                    x.favorite_count,\n",
    "                    x.favorited,\n",
    "                    x.lang,\n",
    "                    x.geo,\n",
    "                    x.retweet_count,\n",
    "                    x.retweeted,\n",
    "                    x.coordinates,\n",
    "                    main_candidate,\n",
    "                    main_party\n",
    "                ])\n",
    "    return modified_tweets\n",
    "        \n",
    "hillary_tweets = parse_status_objects(hillary_tweets, 0, 1)\n",
    "the_donald_tweets = parse_status_objects(the_donald_tweets, 2, 0)\n",
    "bernie_tweets = parse_status_objects(bernie_tweets, 1, 1)"
   ]
  },
  {
   "cell_type": "code",
   "execution_count": 19,
   "metadata": {
    "collapsed": false
   },
   "outputs": [
    {
     "name": "stdout",
     "output_type": "stream",
     "text": [
      "[datetime.datetime(2016, 5, 14, 18, 29, 23), u'NYC CORRUPT #electionjusticeusa #berniesanders @ San Mateo CA 94401 https://t.co/efpkQkcypI', 0, False, u'en', None, 0, False, None, 1, 1]\n",
      "[datetime.datetime(2016, 5, 14, 18, 59, 29), u'Music to my ears Folks!\\nWay to go! \\n#Education\\n#Latinos\\n#HillaryClinton \\n#Immigration \\n#DonaldTrump \\n#CNN #FoxNews https://t.co/cnb1hvVpcB', 1, False, u'en', None, 0, False, None, 2, 0]\n",
      "[datetime.datetime(2016, 5, 14, 19, 10, 12), u\"That's why @BernieSanders is losing. His followers are rude, loud &amp; obnoxious.  This tactic isn't working #ImWithHer https://t.co/9u9fzOEW05\", 0, False, u'en', None, 0, False, None, 0, 1]\n"
     ]
    }
   ],
   "source": [
    "print bernie_tweets[0]\n",
    "print the_donald_tweets[0]\n",
    "print hillary_tweets[0]"
   ]
  },
  {
   "cell_type": "code",
   "execution_count": 20,
   "metadata": {
    "collapsed": false
   },
   "outputs": [
    {
     "data": {
      "text/plain": [
       "list"
      ]
     },
     "execution_count": 20,
     "metadata": {},
     "output_type": "execute_result"
    }
   ],
   "source": [
    "type(hillary_tweets)"
   ]
  },
  {
   "cell_type": "code",
   "execution_count": 21,
   "metadata": {
    "collapsed": false
   },
   "outputs": [],
   "source": [
    "# 2 Create a dataframe that combines all of the tweets from each candidate\n",
    "# To do so, you will need to concat the data frames\n",
    "# so each row is a tweet and your columns should be \n",
    "# date, text, favorite_count,favorited, language, geocode, rwtweet count, retweeted, coordinates, # candidate, party\n",
    "\n",
    "tweets = pd.concat([pd.DataFrame(bernie_tweets), pd.DataFrame(hillary_tweets), pd.DataFrame(the_donald_tweets)])\n",
    "tweets.columns = ['date', 'text', 'favorite_count','favorited', 'language', 'geocode', \\\n",
    "                      'retweet_count', 'retweeted', 'coordinates', 'main_candidate', 'main_party']\n",
    "\n"
   ]
  },
  {
   "cell_type": "code",
   "execution_count": 22,
   "metadata": {
    "collapsed": true
   },
   "outputs": [],
   "source": [
    "# 3 Create a function to take in a string and output the textblob sentiment of that string\n",
    "\n",
    "#NLP\n",
    "from textblob import TextBlob, Word\n",
    "import sys\n",
    "\n",
    "def stringToSentiment(text):\n",
    "    try: \n",
    "        return TextBlob(text.decode('ascii', 'ignore')).sentiment.polarity\n",
    "    except:\n",
    "        pass\n",
    "    try:\n",
    "        return TextBlob(text.encode('ascii', 'ignore')).sentiment.polarity\n",
    "    except:\n",
    "        pass\n",
    "    return 0"
   ]
  },
  {
   "cell_type": "code",
   "execution_count": 23,
   "metadata": {
    "collapsed": true
   },
   "outputs": [],
   "source": [
    "# 4 Add a column to your data frame called 'sentiment' which holds the sentiment of that tweet \n",
    "#(hint: use the function from #3)\n",
    "\n",
    "tweets['sentiment'] = tweets.text.apply(stringToSentiment)"
   ]
  },
  {
   "cell_type": "code",
   "execution_count": 24,
   "metadata": {
    "collapsed": true
   },
   "outputs": [],
   "source": [
    "# 5 create a word count column, which holds the number of words in the text column\n",
    "def wordCount(text):\n",
    "    return len(TextBlob(text.encode('ascii', 'ignore')).words)\n",
    "\n",
    "tweets['word_count'] = [wordCount(x) for x in tweets.text]"
   ]
  },
  {
   "cell_type": "code",
   "execution_count": 25,
   "metadata": {
    "collapsed": true
   },
   "outputs": [],
   "source": [
    "# use countvectorizer to create a document-term matrix and concatinate it to your main dataframe\n",
    "#(hint you should now have thousands of columns)\n",
    "from sklearn.feature_extraction.text import CountVectorizer, TfidfVectorizer\n",
    "\n",
    "countVect = CountVectorizer(stop_words='english')\n",
    "doc_matrix = countVect.fit_transform(tweets.text)\n",
    "\n",
    "# converting the document-matrix to a dataframe(term frquency count)\n",
    "doc_matrix_df = pd.DataFrame(doc_matrix.toarray(), columns=countVect.get_feature_names())\n",
    "\n",
    "# concatinating doc_matrix_df with allTweets\n",
    "overall = pd.concat([tweets, doc_matrix_df], axis=1, join_axes=[tweets.index])\n"
   ]
  },
  {
   "cell_type": "code",
   "execution_count": 26,
   "metadata": {
    "collapsed": false
   },
   "outputs": [
    {
     "data": {
      "text/html": [
       "<div>\n",
       "<table border=\"1\" class=\"dataframe\">\n",
       "  <thead>\n",
       "    <tr style=\"text-align: right;\">\n",
       "      <th></th>\n",
       "      <th>date</th>\n",
       "      <th>text</th>\n",
       "      <th>favorite_count</th>\n",
       "      <th>favorited</th>\n",
       "      <th>language</th>\n",
       "      <th>geocode</th>\n",
       "      <th>retweet_count</th>\n",
       "      <th>retweeted</th>\n",
       "      <th>coordinates</th>\n",
       "      <th>main_candidate</th>\n",
       "      <th>...</th>\n",
       "      <th>zesty_lambo</th>\n",
       "      <th>zg</th>\n",
       "      <th>zgsdaqulrq</th>\n",
       "      <th>zika</th>\n",
       "      <th>znffmff0dd</th>\n",
       "      <th>zpum0flkkq</th>\n",
       "      <th>zvpprrysz4</th>\n",
       "      <th>zvsx2u3u7x</th>\n",
       "      <th>zzkadbzesi</th>\n",
       "      <th>cluster</th>\n",
       "    </tr>\n",
       "  </thead>\n",
       "  <tbody>\n",
       "    <tr>\n",
       "      <th>0</th>\n",
       "      <td>2016-05-14 18:29:23</td>\n",
       "      <td>NYC CORRUPT #electionjusticeusa #berniesanders...</td>\n",
       "      <td>0</td>\n",
       "      <td>False</td>\n",
       "      <td>en</td>\n",
       "      <td>None</td>\n",
       "      <td>0</td>\n",
       "      <td>False</td>\n",
       "      <td>None</td>\n",
       "      <td>1</td>\n",
       "      <td>...</td>\n",
       "      <td>0</td>\n",
       "      <td>0</td>\n",
       "      <td>0</td>\n",
       "      <td>0</td>\n",
       "      <td>0</td>\n",
       "      <td>0</td>\n",
       "      <td>0</td>\n",
       "      <td>0</td>\n",
       "      <td>0</td>\n",
       "      <td>0</td>\n",
       "    </tr>\n",
       "    <tr>\n",
       "      <th>288</th>\n",
       "      <td>2016-05-12 02:42:35</td>\n",
       "      <td>RT @Melomelly2: The key to a successful phone ...</td>\n",
       "      <td>0</td>\n",
       "      <td>False</td>\n",
       "      <td>en</td>\n",
       "      <td>None</td>\n",
       "      <td>12</td>\n",
       "      <td>False</td>\n",
       "      <td>None</td>\n",
       "      <td>0</td>\n",
       "      <td>...</td>\n",
       "      <td>0</td>\n",
       "      <td>0</td>\n",
       "      <td>0</td>\n",
       "      <td>0</td>\n",
       "      <td>0</td>\n",
       "      <td>0</td>\n",
       "      <td>0</td>\n",
       "      <td>0</td>\n",
       "      <td>0</td>\n",
       "      <td>0</td>\n",
       "    </tr>\n",
       "  </tbody>\n",
       "</table>\n",
       "<p>2 rows × 2100 columns</p>\n",
       "</div>"
      ],
      "text/plain": [
       "                   date                                               text  \\\n",
       "0   2016-05-14 18:29:23  NYC CORRUPT #electionjusticeusa #berniesanders...   \n",
       "288 2016-05-12 02:42:35  RT @Melomelly2: The key to a successful phone ...   \n",
       "\n",
       "     favorite_count favorited language geocode  retweet_count retweeted  \\\n",
       "0                 0     False       en    None              0     False   \n",
       "288               0     False       en    None             12     False   \n",
       "\n",
       "    coordinates  main_candidate   ...     zesty_lambo  zg  zgsdaqulrq  zika  \\\n",
       "0          None               1   ...               0   0           0     0   \n",
       "288        None               0   ...               0   0           0     0   \n",
       "\n",
       "     znffmff0dd  zpum0flkkq  zvpprrysz4  zvsx2u3u7x  zzkadbzesi  cluster  \n",
       "0             0           0           0           0           0        0  \n",
       "288           0           0           0           0           0        0  \n",
       "\n",
       "[2 rows x 2100 columns]"
      ]
     },
     "execution_count": 26,
     "metadata": {},
     "output_type": "execute_result"
    }
   ],
   "source": [
    "# 6 Use kmean to create clusters for the dataframe\n",
    "from sklearn.cluster import KMeans\n",
    "from sklearn import metrics\n",
    "\n",
    "tweets_cluster = KMeans(n_clusters = 3, init = 'random')\n",
    "Xc = overall.drop(['date', 'text', 'language','geocode','coordinates', 'sentiment'], axis=1)\n",
    "tweets_cluster.fit(Xc) \n",
    "\n",
    "# save the clustering labels\n",
    "overall['cluster'] = tweets_cluster.labels_\n",
    "\n",
    "# cluster centroids\n",
    "centers = tweets_cluster.cluster_centers_\n",
    "\n",
    "# print the dataframe with cluster column\n",
    "overall.sort_values(by='cluster').head(2)"
   ]
  },
  {
   "cell_type": "code",
   "execution_count": 27,
   "metadata": {
    "collapsed": false
   },
   "outputs": [
    {
     "data": {
      "text/html": [
       "<div>\n",
       "<table border=\"1\" class=\"dataframe\">\n",
       "  <thead>\n",
       "    <tr style=\"text-align: right;\">\n",
       "      <th></th>\n",
       "      <th>favorite_count</th>\n",
       "      <th>favorited</th>\n",
       "      <th>retweet_count</th>\n",
       "      <th>retweeted</th>\n",
       "      <th>main_candidate</th>\n",
       "      <th>main_party</th>\n",
       "      <th>sentiment</th>\n",
       "      <th>word_count</th>\n",
       "      <th>0b0botchgo</th>\n",
       "      <th>0bvedpij2w</th>\n",
       "      <th>...</th>\n",
       "      <th>zbegb208k1</th>\n",
       "      <th>zesty_lambo</th>\n",
       "      <th>zg</th>\n",
       "      <th>zgsdaqulrq</th>\n",
       "      <th>zika</th>\n",
       "      <th>znffmff0dd</th>\n",
       "      <th>zpum0flkkq</th>\n",
       "      <th>zvpprrysz4</th>\n",
       "      <th>zvsx2u3u7x</th>\n",
       "      <th>zzkadbzesi</th>\n",
       "    </tr>\n",
       "    <tr>\n",
       "      <th>cluster</th>\n",
       "      <th></th>\n",
       "      <th></th>\n",
       "      <th></th>\n",
       "      <th></th>\n",
       "      <th></th>\n",
       "      <th></th>\n",
       "      <th></th>\n",
       "      <th></th>\n",
       "      <th></th>\n",
       "      <th></th>\n",
       "      <th></th>\n",
       "      <th></th>\n",
       "      <th></th>\n",
       "      <th></th>\n",
       "      <th></th>\n",
       "      <th></th>\n",
       "      <th></th>\n",
       "      <th></th>\n",
       "      <th></th>\n",
       "      <th></th>\n",
       "      <th></th>\n",
       "    </tr>\n",
       "  </thead>\n",
       "  <tbody>\n",
       "    <tr>\n",
       "      <th>0</th>\n",
       "      <td>0.466131</td>\n",
       "      <td>False</td>\n",
       "      <td>8.786452</td>\n",
       "      <td>False</td>\n",
       "      <td>1.009185</td>\n",
       "      <td>0.656716</td>\n",
       "      <td>0.067876</td>\n",
       "      <td>15.329506</td>\n",
       "      <td>0.0</td>\n",
       "      <td>0.0</td>\n",
       "      <td>...</td>\n",
       "      <td>0.0</td>\n",
       "      <td>0.0</td>\n",
       "      <td>0.0</td>\n",
       "      <td>0.0</td>\n",
       "      <td>0.0</td>\n",
       "      <td>0.003444</td>\n",
       "      <td>0.0</td>\n",
       "      <td>0.0</td>\n",
       "      <td>0.006889</td>\n",
       "      <td>0.001148</td>\n",
       "    </tr>\n",
       "    <tr>\n",
       "      <th>1</th>\n",
       "      <td>0.000000</td>\n",
       "      <td>False</td>\n",
       "      <td>200.020833</td>\n",
       "      <td>False</td>\n",
       "      <td>1.791667</td>\n",
       "      <td>0.208333</td>\n",
       "      <td>0.449870</td>\n",
       "      <td>21.229167</td>\n",
       "      <td>0.0</td>\n",
       "      <td>0.0</td>\n",
       "      <td>...</td>\n",
       "      <td>0.0</td>\n",
       "      <td>0.0</td>\n",
       "      <td>0.0</td>\n",
       "      <td>0.0</td>\n",
       "      <td>0.0</td>\n",
       "      <td>0.000000</td>\n",
       "      <td>0.0</td>\n",
       "      <td>0.0</td>\n",
       "      <td>0.000000</td>\n",
       "      <td>0.000000</td>\n",
       "    </tr>\n",
       "    <tr>\n",
       "      <th>2</th>\n",
       "      <td>0.000000</td>\n",
       "      <td>False</td>\n",
       "      <td>730.935484</td>\n",
       "      <td>False</td>\n",
       "      <td>1.935484</td>\n",
       "      <td>0.064516</td>\n",
       "      <td>0.405376</td>\n",
       "      <td>22.161290</td>\n",
       "      <td>0.0</td>\n",
       "      <td>0.0</td>\n",
       "      <td>...</td>\n",
       "      <td>0.0</td>\n",
       "      <td>0.0</td>\n",
       "      <td>0.0</td>\n",
       "      <td>0.0</td>\n",
       "      <td>0.0</td>\n",
       "      <td>0.000000</td>\n",
       "      <td>0.0</td>\n",
       "      <td>0.0</td>\n",
       "      <td>0.000000</td>\n",
       "      <td>0.000000</td>\n",
       "    </tr>\n",
       "  </tbody>\n",
       "</table>\n",
       "<p>3 rows × 2094 columns</p>\n",
       "</div>"
      ],
      "text/plain": [
       "         favorite_count favorited  retweet_count retweeted  main_candidate  \\\n",
       "cluster                                                                      \n",
       "0              0.466131     False       8.786452     False        1.009185   \n",
       "1              0.000000     False     200.020833     False        1.791667   \n",
       "2              0.000000     False     730.935484     False        1.935484   \n",
       "\n",
       "         main_party  sentiment  word_count  0b0botchgo  0bvedpij2w  \\\n",
       "cluster                                                              \n",
       "0          0.656716   0.067876   15.329506         0.0         0.0   \n",
       "1          0.208333   0.449870   21.229167         0.0         0.0   \n",
       "2          0.064516   0.405376   22.161290         0.0         0.0   \n",
       "\n",
       "            ...      zbegb208k1  zesty_lambo   zg  zgsdaqulrq  zika  \\\n",
       "cluster     ...                                                       \n",
       "0           ...             0.0          0.0  0.0         0.0   0.0   \n",
       "1           ...             0.0          0.0  0.0         0.0   0.0   \n",
       "2           ...             0.0          0.0  0.0         0.0   0.0   \n",
       "\n",
       "         znffmff0dd  zpum0flkkq  zvpprrysz4  zvsx2u3u7x  zzkadbzesi  \n",
       "cluster                                                              \n",
       "0          0.003444         0.0         0.0    0.006889    0.001148  \n",
       "1          0.000000         0.0         0.0    0.000000    0.000000  \n",
       "2          0.000000         0.0         0.0    0.000000    0.000000  \n",
       "\n",
       "[3 rows x 2094 columns]"
      ]
     },
     "execution_count": 27,
     "metadata": {},
     "output_type": "execute_result"
    }
   ],
   "source": [
    "#print mean values for each cluster\n",
    "overall.groupby('cluster').mean()"
   ]
  },
  {
   "cell_type": "code",
   "execution_count": null,
   "metadata": {
    "collapsed": true
   },
   "outputs": [],
   "source": [
    "# 7 Explore the clusters\n",
    "# What is interesting? Surprising? Can you draw any inferences about each cluster?\n",
    "# Write your answer to these questions in markdown"
   ]
  },
  {
   "cell_type": "markdown",
   "metadata": {},
   "source": [
    "#Exploring the clusters"
   ]
  },
  {
   "cell_type": "markdown",
   "metadata": {},
   "source": [
    "# Cluster-1 : \n",
    "* This cluster seems to be the \"most favorite tweets of election 2016\""
   ]
  },
  {
   "cell_type": "code",
   "execution_count": 28,
   "metadata": {
    "collapsed": false
   },
   "outputs": [
    {
     "data": {
      "text/plain": [
       "word_count             15.3295\n",
       "retweet_count          8.78645\n",
       "main_candidate         1.00918\n",
       "https                 0.944891\n",
       "main_party            0.656716\n",
       "rt                    0.632606\n",
       "bernie                0.476464\n",
       "favorite_count        0.466131\n",
       "feelthebern           0.438576\n",
       "berniesanders          0.43628\n",
       "sanders               0.177956\n",
       "caprimary             0.159587\n",
       "bernie2016            0.144661\n",
       "hillaryclinton        0.142365\n",
       "itsnotradicaltosay    0.134328\n",
       "dropouthillary         0.12744\n",
       "supporters            0.114811\n",
       "bayarea4bernie         0.10907\n",
       "imwithher             0.105626\n",
       "vote                  0.105626\n",
       "Name: 0, dtype: object"
      ]
     },
     "execution_count": 28,
     "metadata": {},
     "output_type": "execute_result"
    }
   ],
   "source": [
    "# Cluster-1\n",
    "overall.groupby('cluster').mean().iloc[0].sort_values(ascending = False).head(20)"
   ]
  },
  {
   "cell_type": "markdown",
   "metadata": {},
   "source": [
    "# Cluster-2 : \n",
    "* This cluster seems to be \"General tweets about all the candidates of election 2016\""
   ]
  },
  {
   "cell_type": "code",
   "execution_count": 29,
   "metadata": {
    "collapsed": false
   },
   "outputs": [
    {
     "data": {
      "text/plain": [
       "retweet_count          200.021\n",
       "word_count             21.2292\n",
       "main_candidate         1.79167\n",
       "https                 0.979167\n",
       "rt                    0.729167\n",
       "feelthebern             0.6875\n",
       "sentiment              0.44987\n",
       "caprimary             0.416667\n",
       "bernie                0.291667\n",
       "berniesanders         0.229167\n",
       "bernieorbust          0.229167\n",
       "itsnotradicaltosay    0.208333\n",
       "main_party            0.208333\n",
       "bayarea4bernie          0.1875\n",
       "dropouthillary        0.166667\n",
       "campaign              0.145833\n",
       "donthecon             0.145833\n",
       "orprimary             0.145833\n",
       "aapiforbernie         0.145833\n",
       "vote                  0.145833\n",
       "Name: 1, dtype: object"
      ]
     },
     "execution_count": 29,
     "metadata": {},
     "output_type": "execute_result"
    }
   ],
   "source": [
    "# Cluster-2\n",
    "overall.groupby('cluster').mean().iloc[1].sort_values(ascending = False).head(20)"
   ]
  },
  {
   "cell_type": "markdown",
   "metadata": {},
   "source": [
    "# Cluster-3 : \n",
    "* This cluster seems to be \"the most retweeted tweets of election 2016\""
   ]
  },
  {
   "cell_type": "code",
   "execution_count": 30,
   "metadata": {
    "collapsed": false
   },
   "outputs": [
    {
     "data": {
      "text/plain": [
       "retweet_count          730.935\n",
       "word_count             22.1613\n",
       "main_candidate         1.93548\n",
       "https                 0.935484\n",
       "feelthebern           0.854839\n",
       "rt                    0.806452\n",
       "itsnotradicaltosay    0.467742\n",
       "sentiment             0.405376\n",
       "bayarea4bernie        0.403226\n",
       "campaign              0.225806\n",
       "dropouthillary        0.225806\n",
       "big                   0.209677\n",
       "security              0.209677\n",
       "income                0.209677\n",
       "corporate             0.209677\n",
       "bgznq0mfy8            0.209677\n",
       "run                   0.209677\n",
       "anymore               0.209677\n",
       "taxes                 0.209677\n",
       "donations             0.209677\n",
       "Name: 2, dtype: object"
      ]
     },
     "execution_count": 30,
     "metadata": {},
     "output_type": "execute_result"
    }
   ],
   "source": [
    "# Cluster-3\n",
    "overall.groupby('cluster').mean().iloc[2].sort_values(ascending = False).head(20)"
   ]
  },
  {
   "cell_type": "code",
   "execution_count": 31,
   "metadata": {
    "collapsed": false
   },
   "outputs": [
    {
     "data": {
      "text/plain": [
       "<matplotlib.text.Text at 0x11c54fbd0>"
      ]
     },
     "execution_count": 31,
     "metadata": {},
     "output_type": "execute_result"
    },
    {
     "data": {
      "image/png": "[encoded data removed]",
      "text/plain": [
       "<matplotlib.figure.Figure at 0x11668f350>"
      ]
     },
     "metadata": {},
     "output_type": "display_data"
    }
   ],
   "source": [
    "#plotting the cluseters:\n",
    "plt.rcParams['font.size'] = 14\n",
    "colors = np.array(['red', 'blue', 'yellow'])\n",
    "\n",
    "# scatter plot of fav_count versus retweets, colored by cluster (0=red, 1=blue, 2=yellow)\n",
    "plt.scatter(overall.favorite_count, overall.retweet_count, c=colors[list(overall.cluster)], s=50)\n",
    "plt.scatter(centers[:,0], centers[:,1], linewidths=3, marker='+', s=300, c='black')\n",
    "\n",
    "# add labels\n",
    "plt.xlabel('favorite_count')\n",
    "plt.ylabel('retweet_count')"
   ]
  },
  {
   "cell_type": "code",
   "execution_count": null,
   "metadata": {
    "collapsed": true
   },
   "outputs": [],
   "source": [
    "# 8 Create a column called 'democrat' and assign it to the corresponding candidate name for all the records\n",
    "# 1 for bernie and hillary and 0 for donald trump\n",
    "# NOT APPLICABLE SINCE IT IS DONE AT THE BEGINNING OF THIS EXCERCISE"
   ]
  },
  {
   "cell_type": "code",
   "execution_count": null,
   "metadata": {
    "collapsed": true
   },
   "outputs": [],
   "source": []
  },
  {
   "cell_type": "code",
   "execution_count": 39,
   "metadata": {
    "collapsed": true
   },
   "outputs": [],
   "source": [
    "# 9 Estimate classification models using knn and logistic regession.  Dont forget to use cross validation \n",
    "    # (do not use cross_val_score because we will want a confusion matrix).\n",
    "# Use a three class response variable for knn.  For logistic regression predict democrat or republic?\n",
    "#Assess the pros and cons of both approaches\n",
    "#Extra Credit: Estimate multinomial regression model using the three class response variable\n",
    "\n",
    "#knn\n",
    "from sklearn.neighbors import KNeighborsClassifier\n",
    "\n",
    "#logistic regression\n",
    "from sklearn.linear_model import LogisticRegression\n",
    "\n",
    "#Preping the dataset - Defining X and y\n",
    "#knn\n",
    "Xk = overall.drop(['date', 'text', 'language','geocode','coordinates', 'main_candidate'], axis=1)                      \n",
    "yk = overall['main_candidate'] # Use a three class response variable for knn. 0 - Hillary, 1 - Bernie, 2 - Donald\n",
    "\n",
    "#logistic regression\n",
    "Xr = overall.drop(['date', 'text', 'language','geocode','coordinates', 'main_party'], axis=1)\n",
    "yr = overall['main_party']  #For logistic regression predict democrat or republic? 0 - Republican, 1 - Democrat\n"
   ]
  },
  {
   "cell_type": "code",
   "execution_count": 40,
   "metadata": {
    "collapsed": false
   },
   "outputs": [
    {
     "data": {
      "text/plain": [
       "2    395\n",
       "1    295\n",
       "0    291\n",
       "Name: main_candidate, dtype: int64"
      ]
     },
     "execution_count": 40,
     "metadata": {},
     "output_type": "execute_result"
    }
   ],
   "source": [
    "yk.value_counts()"
   ]
  },
  {
   "cell_type": "code",
   "execution_count": 41,
   "metadata": {
    "collapsed": false
   },
   "outputs": [
    {
     "data": {
      "text/plain": [
       "1    586\n",
       "0    395\n",
       "Name: main_party, dtype: int64"
      ]
     },
     "execution_count": 41,
     "metadata": {},
     "output_type": "execute_result"
    }
   ],
   "source": [
    "yr.value_counts()"
   ]
  },
  {
   "cell_type": "code",
   "execution_count": 42,
   "metadata": {
    "collapsed": false
   },
   "outputs": [
    {
     "name": "stdout",
     "output_type": "stream",
     "text": [
      "KNeighborsClassifier(algorithm='auto', leaf_size=30, metric='minkowski',\n",
      "           metric_params=None, n_neighbors=3, p=2, weights='uniform')\n",
      "LogisticRegression(C=1.0, class_weight=None, dual=False, fit_intercept=True,\n",
      "          intercept_scaling=1, max_iter=100, multi_class='ovr',\n",
      "          penalty='l2', random_state=None, solver='liblinear', tol=0.0001,\n",
      "          verbose=0)\n"
     ]
    }
   ],
   "source": [
    "# 10 Initialize a classification model (for both knn and logistic)\n",
    "#knn\n",
    "knn = KNeighborsClassifier(n_neighbors=3) \n",
    "print knn.fit(Xk,yk)\n",
    "\n",
    "#logistic regression\n",
    "logreg = LogisticRegression()   #(C=1e9)\n",
    "print logreg.fit(Xr, yr)"
   ]
  },
  {
   "cell_type": "code",
   "execution_count": 43,
   "metadata": {
    "collapsed": false
   },
   "outputs": [
    {
     "name": "stdout",
     "output_type": "stream",
     "text": [
      "KNeighborsClassifier(algorithm='auto', leaf_size=30, metric='minkowski',\n",
      "           metric_params=None, n_neighbors=3, p=2, weights='uniform')\n",
      "LogisticRegression(C=1.0, class_weight=None, dual=False, fit_intercept=True,\n",
      "          intercept_scaling=1, max_iter=100, multi_class='ovr',\n",
      "          penalty='l2', random_state=None, solver='liblinear', tol=0.0001,\n",
      "          verbose=0)\n"
     ]
    }
   ],
   "source": [
    "# 11 Train your classification model  (for both knn and logistic)\n",
    "#knn\n",
    "\n",
    "from sklearn.cross_validation import train_test_split\n",
    "\n",
    "Xk_train, Xk_test, yk_train, yk_test = train_test_split(Xk,yk)\n",
    "print knn.fit(Xk_train,yk_train)\n",
    "\n",
    "#logistic regression\n",
    "Xr_train, Xr_test, yr_train, yr_test = train_test_split(Xr,yr)\n",
    "print logreg.fit(Xr_train,yr_train)\n",
    "\n",
    "\n"
   ]
  },
  {
   "cell_type": "code",
   "execution_count": 44,
   "metadata": {
    "collapsed": false
   },
   "outputs": [
    {
     "data": {
      "text/plain": [
       "0.86122448979591837"
      ]
     },
     "execution_count": 44,
     "metadata": {},
     "output_type": "execute_result"
    }
   ],
   "source": [
    "# Check the accuracy score for training set\n",
    "#knn \n",
    "print knn.score(Xk_train, yk_train)\n",
    "\n",
    "#log reg\n",
    "\n",
    "\n"
   ]
  },
  {
   "cell_type": "code",
   "execution_count": 56,
   "metadata": {
    "collapsed": false
   },
   "outputs": [
    {
     "name": "stdout",
     "output_type": "stream",
     "text": [
      "[[ 0 76]\n",
      " [ 1 77]\n",
      " [ 2 93]]\n"
     ]
    }
   ],
   "source": [
    "# 12 Predict on your test features and targets (for both knn and logistic)\n",
    "#knn\n",
    "knn_predict = knn.predict(Xk_test)\n",
    "unique, counts = np.unique(knn_predict, return_counts=True) #np.bincount(knn_predict)\n",
    "print np.asarray((unique, counts)).T\n",
    "\n"
   ]
  },
  {
   "cell_type": "code",
   "execution_count": 61,
   "metadata": {
    "collapsed": false
   },
   "outputs": [
    {
     "name": "stdout",
     "output_type": "stream",
     "text": [
      "[[  0  99]\n",
      " [  1 147]]\n"
     ]
    }
   ],
   "source": [
    "#logreg\n",
    "logreg_predict = logreg.predict(Xr_test)\n",
    "\n",
    "unique, counts = np.unique(logreg_predict, return_counts=True) #np.bincount(knn_predict)\n",
    "print np.asarray((unique, counts)).T\n",
    "\n",
    "\n",
    "assorted_pred_prob = logreg.predict_proba(Xr_test)[:, 1]\n",
    "#print assorted_pred_prob\n"
   ]
  },
  {
   "cell_type": "code",
   "execution_count": 62,
   "metadata": {
    "collapsed": false
   },
   "outputs": [
    {
     "name": "stdout",
     "output_type": "stream",
     "text": [
      "('The null accuracy rate for KNN model is:', 2    0.402650\n",
      "1    0.300714\n",
      "0    0.296636\n",
      "Name: main_candidate, dtype: float64)\n",
      "('The null accuracy rate for logistic regression model is:', 1    0.59735\n",
      "0    0.40265\n",
      "Name: main_party, dtype: float64)\n"
     ]
    }
   ],
   "source": [
    "# 13 output your accuracy (for both knn and logistic)\n",
    "# Null accuracy rate\n",
    "#knn\n",
    "null_accuracyrate = yk.value_counts()/yk.count()\n",
    "print(\"The null accuracy rate for KNN model is:\", null_accuracyrate)\n",
    "\n",
    "#logistic regression\n",
    "null_accuracyrate = yr.value_counts()/yr.count()\n",
    "print(\"The null accuracy rate for logistic regression model is:\", null_accuracyrate)\n",
    "\n"
   ]
  },
  {
   "cell_type": "code",
   "execution_count": 63,
   "metadata": {
    "collapsed": false
   },
   "outputs": [
    {
     "data": {
      "text/plain": [
       "0.72357723577235777"
      ]
     },
     "execution_count": 63,
     "metadata": {},
     "output_type": "execute_result"
    }
   ],
   "source": [
    "# knn\n",
    "knn.score(Xk_test, yk_test)"
   ]
  },
  {
   "cell_type": "code",
   "execution_count": 64,
   "metadata": {
    "collapsed": false
   },
   "outputs": [
    {
     "data": {
      "text/plain": [
       "<matplotlib.text.Text at 0x113326110>"
      ]
     },
     "execution_count": 64,
     "metadata": {},
     "output_type": "execute_result"
    },
    {
     "data": {
      "image/png": "[encoded data removed]",
      "text/plain": [
       "<matplotlib.figure.Figure at 0x11c47ac10>"
      ]
     },
     "metadata": {},
     "output_type": "display_data"
    }
   ],
   "source": [
    "# plotting accuracy for knn:\n",
    "scores = []\n",
    "for i in range(1, 30):\n",
    "    knn = KNeighborsClassifier(n_neighbors=i)\n",
    "    knn.fit(Xk, yk)\n",
    "    scores.append(knn.score(Xk_test, yk_test))\n",
    "    \n",
    "\n",
    "plt.plot(range(1,30), scores)\n",
    "plt.ylabel(\"Accuracy\")\n",
    "plt.xlabel(\"K\")\n"
   ]
  },
  {
   "cell_type": "code",
   "execution_count": 70,
   "metadata": {
    "collapsed": false
   },
   "outputs": [],
   "source": [
    "#assorted_pred_prob = logreg.predict_proba(yr_test)[:, 1]\n",
    "# plot the predicted probabilities again\n",
    "#plt.scatter(Xr_test, yr_test)\n",
    "#plt.plot(Xr_test, assorted_pred_prob, color='red')   # THIS IS THROWING ERROR. NOT SURE HOW TO PLOT THE PROBABILITY GRAPH"
   ]
  },
  {
   "cell_type": "code",
   "execution_count": 72,
   "metadata": {
    "collapsed": false
   },
   "outputs": [
    {
     "name": "stdout",
     "output_type": "stream",
     "text": [
      "0.723577235772\n",
      "1.0\n"
     ]
    }
   ],
   "source": [
    "#knn\n",
    "print np.mean(knn_predict == yk_test)\n",
    "\n",
    "#logreg\n",
    "print np.mean(logreg_predict == yr_test)"
   ]
  },
  {
   "cell_type": "code",
   "execution_count": 89,
   "metadata": {
    "collapsed": false
   },
   "outputs": [
    {
     "name": "stdout",
     "output_type": "stream",
     "text": [
      "[[48 16 13]\n",
      " [11 59  9]\n",
      " [17  2 71]]\n"
     ]
    }
   ],
   "source": [
    "# 14 Create a confusion matrix for your predictions (for both knn and logistic)\n",
    "from sklearn import metrics\n",
    "\n",
    "#knn\n",
    "knn_cm = metrics.confusion_matrix(yk_test, knn_predict)\n",
    "print knn_cm\n",
    "\n"
   ]
  },
  {
   "cell_type": "code",
   "execution_count": 94,
   "metadata": {
    "collapsed": false
   },
   "outputs": [
    {
     "data": {
      "image/png": "[encoded data removed]",
      "text/plain": [
       "<matplotlib.figure.Figure at 0x1264ccbd0>"
      ]
     },
     "metadata": {},
     "output_type": "display_data"
    }
   ],
   "source": [
    "#knn confusion matrix\n",
    "\n",
    "'''\n",
    "From Documentation:\n",
    "def plot_confusion_matrix(cm, title='Confusion matrix', cmap=plt.cm.Blues):\n",
    "    plt.imshow(cm, interpolation='nearest', cmap=cmap)\n",
    "    plt.title(title)\n",
    "    plt.colorbar()\n",
    "    tick_marks = np.arange(len(iris.target_names))\n",
    "    plt.xticks(tick_marks, iris.target_names, rotation=45)\n",
    "    plt.yticks(tick_marks, iris.target_names)\n",
    "    plt.tight_layout()\n",
    "    plt.ylabel('True label')\n",
    "    plt.xlabel('Predicted label')\n",
    "'''\n",
    "    \n",
    "    \n",
    "def plot_confusion_matrix(cm, yk_test, title='KNN Confusion matrix', cmap=plt.cm.Blues):\n",
    "    plt.imshow(cm, interpolation='nearest', cmap=cmap)\n",
    "    plt.title(title)\n",
    "    plt.colorbar()\n",
    "    tick_marks = np.arange(len(yk_test))\n",
    "    plt.xticks(tick_marks, yk_test, rotation=45)\n",
    "    plt.yticks(tick_marks, yk_test)\n",
    "    plt.tight_layout()\n",
    "    plt.ylabel('True label')\n",
    "    plt.xlabel('Predicted label')\n",
    "\n",
    "plt.figure()\n",
    "plot_confusion_matrix(knn_cm,['hillary','bernie','trump'])\n",
    "plt.show()"
   ]
  },
  {
   "cell_type": "code",
   "execution_count": 92,
   "metadata": {
    "collapsed": false
   },
   "outputs": [
    {
     "name": "stdout",
     "output_type": "stream",
     "text": [
      "[[ 99   0]\n",
      " [  0 147]]\n"
     ]
    }
   ],
   "source": [
    "#logistic regression\n",
    "preds = logreg.predict(Xr_test)\n",
    "logreg_cm = metrics.confusion_matrix(yr_test, preds)\n",
    "print logreg_cm\n",
    "\n",
    "#assorted_pred_prob = logreg.predict_proba(yr_test)[:, 1]\n",
    "#print metrics.confusion_matrix(yr, assored_pred_prob)"
   ]
  },
  {
   "cell_type": "code",
   "execution_count": 95,
   "metadata": {
    "collapsed": false
   },
   "outputs": [
    {
     "data": {
      "image/png": "[encoded data removed]",
      "text/plain": [
       "<matplotlib.figure.Figure at 0x118685910>"
      ]
     },
     "metadata": {},
     "output_type": "display_data"
    }
   ],
   "source": [
    "#logreg confusion matrix\n",
    "def plot_confusion_matrix(cm, yr_test, title='Logistics Regression Confusion matrix', cmap=plt.cm.Blues):\n",
    "    plt.imshow(cm, interpolation='nearest', cmap=cmap)\n",
    "    plt.title(title)\n",
    "    plt.colorbar()\n",
    "    tick_marks = np.arange(len(yr_test))\n",
    "    plt.xticks(tick_marks, yr_test, rotation=45)\n",
    "    plt.yticks(tick_marks, yr_test)\n",
    "    plt.tight_layout()\n",
    "    plt.ylabel('Actual label')\n",
    "    plt.xlabel('Predicted label')\n",
    "\n",
    "plt.figure()\n",
    "plot_confusion_matrix(logreg_cm,['repulican','democrat'])\n",
    "plt.show()"
   ]
  },
  {
   "cell_type": "code",
   "execution_count": null,
   "metadata": {
    "collapsed": true
   },
   "outputs": [],
   "source": [
    "# 15 Who is the easiest candidate to predict? Why do you think? Who is the hardest? Why do you think?\n",
    "# Write your answers in markdown (for both knn and logistic)"
   ]
  },
  {
   "cell_type": "markdown",
   "metadata": {},
   "source": [
    "#KNN:\n",
    "\n",
    "The model do a OKAY job in predicting candidate 1 and 2 (Bernie Sanders with 74.6% and Donald Trump with 78.8%). However, It does not predict candidate Hillary very well. % of Correct = 62.3%. This is because the tweets are talking to two candidates at the same time.\n",
    "* Donald Trump is easiest to predict with 78.8% success rate. \n",
    "* Hillary Clinton is the most difficult to predict with 62.3% success rate. \n",
    "\n",
    "#Logistic Regression:\n",
    "\n",
    "* The logistic regression model seems to do a perfect job in predicting party name. I am not sure about my model since it shows 100% success rate. May Be I am doing something wrong while training the model. Hopefully its not overfitting. "
   ]
  },
  {
   "cell_type": "code",
   "execution_count": null,
   "metadata": {
    "collapsed": true
   },
   "outputs": [],
   "source": [
    "# 16 What are some extra features (data points) you would like to add to this data set. Explain in markdown.\n",
    "# (hint maybe something like a boolean, \"has_hashtag\")"
   ]
  },
  {
   "cell_type": "markdown",
   "metadata": {},
   "source": [
    "# Extra Features that might help the model:\n",
    "* Derived data points by each hashtags. This might help segmenting the tweets in a better way to build the model.\n",
    "    some tweets are purely campaign driven. Some tweets are purely hatred or satirical. \n",
    "* Removing tweets that does not make sense. There are so many random spam tweets which is creating noise in the model\n",
    "* deriving user info: Age group, Sex might help in prediction."
   ]
  },
  {
   "cell_type": "code",
   "execution_count": null,
   "metadata": {
    "collapsed": true
   },
   "outputs": [],
   "source": [
    "# 17 Try adding extra features to improve the quality of your predictions (for both knn and logistic)"
   ]
  }
 ],
 "metadata": {
  "kernelspec": {
   "display_name": "Python 2",
   "language": "python",
   "name": "python2"
  },
  "language_info": {
   "codemirror_mode": {
    "name": "ipython",
    "version": 2
   },
   "file_extension": ".py",
   "mimetype": "text/x-python",
   "name": "python",
   "nbconvert_exporter": "python",
   "pygments_lexer": "ipython2",
   "version": "2.7.11"
  }
 },
 "nbformat": 4,
 "nbformat_minor": 0
}
