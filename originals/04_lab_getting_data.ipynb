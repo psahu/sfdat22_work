{
 "cells": [
  {
   "cell_type": "code",
   "execution_count": 1,
   "metadata": {
    "collapsed": true
   },
   "outputs": [],
   "source": [
    "import requests\n",
    "from bs4 import BeautifulSoup\n"
   ]
  },
  {
   "cell_type": "code",
   "execution_count": null,
   "metadata": {
    "collapsed": true
   },
   "outputs": [],
   "source": [
    "##### INDEED #####\n",
    "\n",
    "# a job posting website (as well as resume hosting)\n",
    "# scrape some (or A LOT) of job postings from indeed for the job \"data scientist\"\n",
    "# Plan of Action:\n",
    "# 1. Figure out the url for getting the summaries (by doing it yourself!)\n",
    "# 2. Scrape the summary\n",
    "# 3. Figure out how to change the page by changing the URL (hint, click the next page button and see how the url changes)\n",
    "# 4. BONUS: count the most used words in the sumaries\n"
   ]
  },
  {
   "cell_type": "code",
   "execution_count": 18,
   "metadata": {
    "collapsed": false
   },
   "outputs": [
    {
     "name": "stdout",
     "output_type": "stream",
     "text": [
      "How A Data Scientist Works. Work experience analyzing lots of data, for example in biotechnology, astrophysics or particle physics experiments, quantitative...\n",
      "Work with the data scientists to implement forecasting and prediction algorithms and models in the data infrastructure....\n",
      "Senior Data Scientist with expertise in machine learning, artificial intelligence, statistical data analytics, and applications....\n",
      "\n",
      "Develop and communicate a deep understanding of lifecycle marketing needs, perform analytical deep-dives to identify problems, opportunities and specific...\n",
      "\n",
      "We are looking for scientists who are passionate about creating data driven systems and have experience in statistical programming, machine learning, and use of...\n",
      "\n",
      "Our data scientists are exceptional thinkers, all in their own unique way. The Yammer Analytics team influences decision making across Microsoft by discovering...\n",
      "\n",
      "We're a nimble, sharp, and passionate team, and we're looking for data scientists who want to have impact on a real product used by real people and who have a...\n",
      "\n",
      "Python, R, SQL. Premise is a mobile data and analytics platform bringing visibility to the world’s hardest-to-see places....\n",
      "\n",
      "Use your experience in analytics tools and scientific rigor to produce actionable insights. As a Data Scientist at Square you will lead projects that derive...\n",
      "\n",
      "Experience writing R or Python code and SQL queries. Locus Energy is looking for a talented and motivated Solar Data Engineer / Data Scientist to join our team...\n",
      "\n",
      "Competition experience in data mining or machine learning. As a Data Scientist you will:. Day to day, it’s a mix of machine learning, crowdsourcing, exploratory...\n",
      "\n",
      "Past experience performing data analysis using R, Python, and/or SQL. As a Data Scientist at Blend you will analyze, visualize and model lending data....\n",
      "\n",
      "Our data scientists work on every aspect of the product — whether it's exploratory research to understand user behavior for riders and drivers, or running...\n",
      "Strong analytical background, at least a BS, and preferably an MS or PhD, degree in computer science, statistics or related quantitative field, with an emphasis...\n",
      "SAS, R, SQL, S-Plus, etc.). Quickly understand patterns within large quantity of data and to reference key characteristics using visualization techniques....\n"
     ]
    }
   ],
   "source": [
    "\n",
    "# 1. Figure out the url for getting the summaries (by doing it yourself!)\n",
    "job = 'data scientist'\n",
    "location = 'San Francisco, CA'\n",
    "url = 'http://www.indeed.com/jobs?q=' + job + '&l=' + location\n",
    "r = requests.get(url)\n",
    "b = BeautifulSoup(r.text, \"html.parser\")\n",
    "\n",
    "# 2. Scrape the summary\n",
    "summaries = b.find_all('span', attrs={'class':'summary'})\n",
    "for summary in summaries:\n",
    "    print summary.text"
   ]
  },
  {
   "cell_type": "code",
   "execution_count": 22,
   "metadata": {
    "collapsed": false
   },
   "outputs": [
    {
     "name": "stdout",
     "output_type": "stream",
     "text": [
      "How A Data Scientist Works. Work experience analyzing lots of data, for example in biotechnology, astrophysics or particle physics experiments, quantitative...\n",
      "Work with the data scientists to implement forecasting and prediction algorithms and models in the data infrastructure....\n",
      "Senior Data Scientist with expertise in machine learning, artificial intelligence, statistical data analytics, and applications....\n",
      "\n",
      "Develop and communicate a deep understanding of lifecycle marketing needs, perform analytical deep-dives to identify problems, opportunities and specific...\n",
      "\n",
      "We are looking for scientists who are passionate about creating data driven systems and have experience in statistical programming, machine learning, and use of...\n",
      "\n",
      "Our data scientists are exceptional thinkers, all in their own unique way. The Yammer Analytics team influences decision making across Microsoft by discovering...\n",
      "\n",
      "Use your experience in analytics tools and scientific rigor to produce actionable insights. As a Data Scientist at Square you will lead projects that derive...\n",
      "\n",
      "We're a nimble, sharp, and passionate team, and we're looking for data scientists who want to have impact on a real product used by real people and who have a...\n",
      "\n",
      "Probability, statistics, data mining, predictive modeling, experimental design, computational analytics, econometric modeling....\n",
      "\n",
      "Competition experience in data mining or machine learning. As a Data Scientist you will:. Day to day, it’s a mix of machine learning, crowdsourcing, exploratory...\n",
      "\n",
      "Our data scientists work on every aspect of the product — whether it's exploratory research to understand user behavior for riders and drivers, or running...\n",
      "\n",
      "As a Data Scientist on Pinterest's Product Science team, you love data and want to use it to improve people’s lives....\n",
      "\n",
      "Past experience performing data analysis using R, Python, and/or SQL. As a Data Scientist at Blend you will analyze, visualize and model lending data....\n",
      "Strong analytical background, at least a BS, and preferably an MS or PhD, degree in computer science, statistics or related quantitative field, with an emphasis...\n",
      "SAS, R, SQL, S-Plus, etc.). Quickly understand patterns within large quantity of data and to reference key characteristics using visualization techniques....\n"
     ]
    }
   ],
   "source": [
    "# 1. Figure out the url for getting the summaries (by doing it yourself!)\n",
    "job = 'data scientist'\n",
    "city = 'San Francisco, CA'\n",
    "url = 'http://www.indeed.com/jobs?q='+ job + '&l='+ city\n",
    "\n",
    "# 2. Scrape the summary\n",
    "r = requests.get(url)\n",
    "#print r\n",
    "\n",
    "b = BeautifulSoup(r.text, 'html.parser')\n",
    "#print b\n",
    "span_tag = b.find_all('span', attrs = {'class': 'summary'})\n",
    "for summary in span_tag:\n",
    "    print summary.text\n",
    "\n"
   ]
  },
  {
   "cell_type": "code",
   "execution_count": null,
   "metadata": {
    "collapsed": true
   },
   "outputs": [],
   "source": [
    "#### UFO ######\n",
    "\n",
    "# SCRAPE ALL SIGHTINGS in 2015\n",
    "# Plan of action\n",
    "# 1. Figure out the pattern to get a certain year and month from nuforc\n",
    "# 2. Scrape each sightings\n",
    "# 3. Make a dataframe out of it\n",
    "# 4. make a day column\n",
    "# 5. graph each day in 2015 and see which day had the most! (Is it July 4th?)"
   ]
  },
  {
   "cell_type": "code",
   "execution_count": null,
   "metadata": {
    "collapsed": true
   },
   "outputs": [],
   "source": []
  },
  {
   "cell_type": "code",
   "execution_count": null,
   "metadata": {
    "collapsed": true
   },
   "outputs": [],
   "source": [
    "##### TWITTER ######\n",
    "\n",
    "# Create a dataframe where each row is a tweet that uses any tag you choose!\n",
    "# include a column for date, text, user handle, user name, and user image\n",
    "# You can use the normal query method and not stream for this!"
   ]
  }
 ],
 "metadata": {
  "kernelspec": {
   "display_name": "Python 2",
   "language": "python",
   "name": "python2"
  },
  "language_info": {
   "codemirror_mode": {
    "name": "ipython",
    "version": 2
   },
   "file_extension": ".py",
   "mimetype": "text/x-python",
   "name": "python",
   "nbconvert_exporter": "python",
   "pygments_lexer": "ipython2",
   "version": "2.7.10"
  }
 },
 "nbformat": 4,
 "nbformat_minor": 0
}
