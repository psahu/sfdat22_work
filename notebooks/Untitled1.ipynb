{
 "cells": [
  {
   "cell_type": "code",
   "execution_count": 5,
   "metadata": {
    "collapsed": false
   },
   "outputs": [
    {
     "name": "stdout",
     "output_type": "stream",
     "text": [
      "python python python \n"
     ]
    }
   ],
   "source": [
    "print 'python '*3\n",
    "\n"
   ]
  },
  {
   "cell_type": "code",
   "execution_count": 16,
   "metadata": {
    "collapsed": false
   },
   "outputs": [
    {
     "name": "stdout",
     "output_type": "stream",
     "text": [
      "10:30:12\n"
     ]
    }
   ],
   "source": [
    "import time \n",
    "print (time.strftime(\"%H:%M:%S\"))"
   ]
  },
  {
   "cell_type": "code",
   "execution_count": 17,
   "metadata": {
    "collapsed": true
   },
   "outputs": [],
   "source": [
    "import pandas as pd\n",
    "#import \n",
    "movies = pd.read_csv('../data/imdb_1000.csv')\n"
   ]
  },
  {
   "cell_type": "code",
   "execution_count": 21,
   "metadata": {
    "collapsed": false
   },
   "outputs": [
    {
     "name": "stdout",
     "output_type": "stream",
     "text": [
      "(979, 6)\n"
     ]
    }
   ],
   "source": [
    "movies.describe()\n",
    "movies.head()\n",
    "print movies.shape"
   ]
  },
  {
   "cell_type": "code",
   "execution_count": 22,
   "metadata": {
    "collapsed": false
   },
   "outputs": [
    {
     "data": {
      "text/plain": [
       "Index([u'star_rating', u'title', u'content_rating', u'genre', u'duration',\n",
       "       u'actors_list'],\n",
       "      dtype='object')"
      ]
     },
     "execution_count": 22,
     "metadata": {},
     "output_type": "execute_result"
    }
   ],
   "source": [
    "movies.columns"
   ]
  },
  {
   "cell_type": "code",
   "execution_count": 32,
   "metadata": {
    "collapsed": false
   },
   "outputs": [
    {
     "data": {
      "text/html": [
       "<div>\n",
       "<table border=\"1\" class=\"dataframe\">\n",
       "  <thead>\n",
       "    <tr style=\"text-align: right;\">\n",
       "      <th></th>\n",
       "      <th>star_rating</th>\n",
       "      <th>title</th>\n",
       "      <th>content_rating</th>\n",
       "      <th>genre</th>\n",
       "      <th>duration</th>\n",
       "      <th>actors_list</th>\n",
       "    </tr>\n",
       "  </thead>\n",
       "  <tbody>\n",
       "    <tr>\n",
       "      <th>1</th>\n",
       "      <td>9.2</td>\n",
       "      <td>The Godfather</td>\n",
       "      <td>R</td>\n",
       "      <td>Crime</td>\n",
       "      <td>175</td>\n",
       "      <td>[u'Marlon Brando', u'Al Pacino', u'James Caan']</td>\n",
       "    </tr>\n",
       "    <tr>\n",
       "      <th>2</th>\n",
       "      <td>9.1</td>\n",
       "      <td>The Godfather: Part II</td>\n",
       "      <td>R</td>\n",
       "      <td>Crime</td>\n",
       "      <td>200</td>\n",
       "      <td>[u'Al Pacino', u'Robert De Niro', u'Robert Duv...</td>\n",
       "    </tr>\n",
       "    <tr>\n",
       "      <th>21</th>\n",
       "      <td>8.7</td>\n",
       "      <td>City of God</td>\n",
       "      <td>R</td>\n",
       "      <td>Crime</td>\n",
       "      <td>130</td>\n",
       "      <td>[u'Alexandre Rodrigues', u'Matheus Nachtergael...</td>\n",
       "    </tr>\n",
       "    <tr>\n",
       "      <th>328</th>\n",
       "      <td>8.0</td>\n",
       "      <td>Aguirre, the Wrath of God</td>\n",
       "      <td>NOT RATED</td>\n",
       "      <td>Adventure</td>\n",
       "      <td>93</td>\n",
       "      <td>[u'Klaus Kinski', u'Ruy Guerra', u'Helena Rojo']</td>\n",
       "    </tr>\n",
       "    <tr>\n",
       "      <th>711</th>\n",
       "      <td>7.6</td>\n",
       "      <td>The Godfather: Part III</td>\n",
       "      <td>R</td>\n",
       "      <td>Crime</td>\n",
       "      <td>162</td>\n",
       "      <td>[u'Al Pacino', u'Diane Keaton', u'Andy Garcia']</td>\n",
       "    </tr>\n",
       "  </tbody>\n",
       "</table>\n",
       "</div>"
      ],
      "text/plain": [
       "     star_rating                      title content_rating      genre  \\\n",
       "1            9.2              The Godfather              R      Crime   \n",
       "2            9.1     The Godfather: Part II              R      Crime   \n",
       "21           8.7                City of God              R      Crime   \n",
       "328          8.0  Aguirre, the Wrath of God      NOT RATED  Adventure   \n",
       "711          7.6    The Godfather: Part III              R      Crime   \n",
       "\n",
       "     duration                                        actors_list  \n",
       "1         175    [u'Marlon Brando', u'Al Pacino', u'James Caan']  \n",
       "2         200  [u'Al Pacino', u'Robert De Niro', u'Robert Duv...  \n",
       "21        130  [u'Alexandre Rodrigues', u'Matheus Nachtergael...  \n",
       "328        93   [u'Klaus Kinski', u'Ruy Guerra', u'Helena Rojo']  \n",
       "711       162    [u'Al Pacino', u'Diane Keaton', u'Andy Garcia']  "
      ]
     },
     "execution_count": 32,
     "metadata": {},
     "output_type": "execute_result"
    }
   ],
   "source": [
    "movies[movies['title'].str.contains('God')]\n"
   ]
  },
  {
   "cell_type": "code",
   "execution_count": 33,
   "metadata": {
    "collapsed": true
   },
   "outputs": [],
   "source": [
    "import re"
   ]
  },
  {
   "cell_type": "code",
   "execution_count": 55,
   "metadata": {
    "collapsed": false
   },
   "outputs": [
    {
     "data": {
      "text/plain": [
       "The Girl with the Dragon Tattoo                           2\n",
       "Dracula                                                   2\n",
       "Les Miserables                                            2\n",
       "True Grit                                                 2\n",
       "Kung Fu Hustle                                            1\n",
       "The Bridge on the River Kwai                              1\n",
       "Donnie Brasco                                             1\n",
       "Running Scared                                            1\n",
       "The Evil Dead                                             1\n",
       "My Left Foot                                              1\n",
       "Escape from Alcatraz                                      1\n",
       "The Matrix                                                1\n",
       "Brokeback Mountain                                        1\n",
       "Hachi: A Dog's Tale                                       1\n",
       "The Visitor                                               1\n",
       "Elizabeth                                                 1\n",
       "The Meaning of Life                                       1\n",
       "Repulsion                                                 1\n",
       "Mud                                                       1\n",
       "The Texas Chain Saw Massacre                              1\n",
       "Lust, Caution                                             1\n",
       "The Sandlot                                               1\n",
       "Yojimbo                                                   1\n",
       "Slumdog Millionaire                                       1\n",
       "Spartacus                                                 1\n",
       "The Dirty Dozen                                           1\n",
       "The Lion King                                             1\n",
       "The World's Fastest Indian                                1\n",
       "Ray                                                       1\n",
       "The Fighter                                               1\n",
       "                                                         ..\n",
       "Malena                                                    1\n",
       "The Theory of Everything                                  1\n",
       "A Single Man                                              1\n",
       "Scent of a Woman                                          1\n",
       "Funny Games                                               1\n",
       "Death at a Funeral                                        1\n",
       "Mary Poppins                                              1\n",
       "Little Miss Sunshine                                      1\n",
       "The Lady Vanishes                                         1\n",
       "Interstellar                                              1\n",
       "Halloween                                                 1\n",
       "The Hours                                                 1\n",
       "Midnight Cowboy                                           1\n",
       "Charade                                                   1\n",
       "Spring, Summer, Fall, Winter... and Spring                1\n",
       "Sideways                                                  1\n",
       "Christmas Vacation                                        1\n",
       "Pirates of the Caribbean: The Curse of the Black Pearl    1\n",
       "Transamerica                                              1\n",
       "The Blind Swordsman: Zatoichi                             1\n",
       "Misery                                                    1\n",
       "Calvary                                                   1\n",
       "Sympathy for Mr. Vengeance                                1\n",
       "Shutter Island                                            1\n",
       "Toki o kakeru shojo                                       1\n",
       "Casino                                                    1\n",
       "Crazy, Stupid, Love.                                      1\n",
       "Good Bye Lenin!                                           1\n",
       "Blue Velvet                                               1\n",
       "Fight Club                                                1\n",
       "dtype: int64"
      ]
     },
     "execution_count": 55,
     "metadata": {},
     "output_type": "execute_result"
    }
   ],
   "source": [
    "movies.title.value_counts()\n"
   ]
  },
  {
   "cell_type": "code",
   "execution_count": null,
   "metadata": {
    "collapsed": true
   },
   "outputs": [],
   "source": []
  },
  {
   "cell_type": "code",
   "execution_count": null,
   "metadata": {
    "collapsed": true
   },
   "outputs": [],
   "source": []
  },
  {
   "cell_type": "code",
   "execution_count": 40,
   "metadata": {
    "collapsed": false
   },
   "outputs": [
    {
     "name": "stdout",
     "output_type": "stream",
     "text": [
      "0                               The Shawshank Redemption\n",
      "1                                          The Godfather\n",
      "2                                 The Godfather: Part II\n",
      "3                                        The Dark Knight\n",
      "4                                           Pulp Fiction\n",
      "5                                           12 Angry Men\n",
      "6                         The Good, the Bad and the Ugly\n",
      "7          The Lord of the Rings: The Return of the King\n",
      "8                                       Schindler's List\n",
      "9                                             Fight Club\n",
      "10     The Lord of the Rings: The Fellowship of the Ring\n",
      "11                                             Inception\n",
      "12        Star Wars: Episode V - The Empire Strikes Back\n",
      "13                                          Forrest Gump\n",
      "14                 The Lord of the Rings: The Two Towers\n",
      "15                                          Interstellar\n",
      "16                       One Flew Over the Cuckoo's Nest\n",
      "17                                         Seven Samurai\n",
      "18                                            Goodfellas\n",
      "19                                             Star Wars\n",
      "20                                            The Matrix\n",
      "21                                           City of God\n",
      "22                                 It's a Wonderful Life\n",
      "23                                    The Usual Suspects\n",
      "24                                                 Se7en\n",
      "25                                     Life Is Beautiful\n",
      "26                          Once Upon a Time in the West\n",
      "27                              The Silence of the Lambs\n",
      "28                                Leon: The Professional\n",
      "29                                           City Lights\n",
      "                             ...                        \n",
      "949                                           Home Alone\n",
      "950                                                Bound\n",
      "951                                        Sleepy Hollow\n",
      "952                                         Pirate Radio\n",
      "953                                The NeverEnding Story\n",
      "954                                                X-Men\n",
      "955                                     Zero Dark Thirty\n",
      "956                             Manhattan Murder Mystery\n",
      "957                          National Lampoon's Vacation\n",
      "958                                   My Sister's Keeper\n",
      "959                                 Deconstructing Harry\n",
      "960                                     The Way Way Back\n",
      "961                                               Capote\n",
      "962                                   Driving Miss Daisy\n",
      "963                                      La Femme Nikita\n",
      "964                                              Lincoln\n",
      "965                                            Limitless\n",
      "966                                   The Simpsons Movie\n",
      "967                                             The Rock\n",
      "968                                  The English Patient\n",
      "969                                  Law Abiding Citizen\n",
      "970                                          Wonder Boys\n",
      "971                                   Death at a Funeral\n",
      "972                                       Blue Valentine\n",
      "973                                The Cider House Rules\n",
      "974                                              Tootsie\n",
      "975                          Back to the Future Part III\n",
      "976      Master and Commander: The Far Side of the World\n",
      "977                                          Poltergeist\n",
      "978                                          Wall Street\n",
      "Name: title, dtype: object\n"
     ]
    }
   ],
   "source": [
    "print b"
   ]
  },
  {
   "cell_type": "code",
   "execution_count": 47,
   "metadata": {
    "collapsed": false
   },
   "outputs": [
    {
     "ename": "TypeError",
     "evalue": "expected string or buffer",
     "output_type": "error",
     "traceback": [
      "\u001b[0;31m---------------------------------------------------------------------------\u001b[0m",
      "\u001b[0;31mTypeError\u001b[0m                                 Traceback (most recent call last)",
      "\u001b[0;32m<ipython-input-47-463aab3aa856>\u001b[0m in \u001b[0;36m<module>\u001b[0;34m()\u001b[0m\n\u001b[0;32m----> 1\u001b[0;31m \u001b[0mre\u001b[0m\u001b[0;34m.\u001b[0m\u001b[0mfindall\u001b[0m\u001b[0;34m(\u001b[0m\u001b[0;34m'T.+'\u001b[0m\u001b[0;34m,\u001b[0m \u001b[0mb\u001b[0m\u001b[0;34m)\u001b[0m\u001b[0;34m\u001b[0m\u001b[0m\n\u001b[0m",
      "\u001b[0;32m/Applications/anaconda/lib/python2.7/re.pyc\u001b[0m in \u001b[0;36mfindall\u001b[0;34m(pattern, string, flags)\u001b[0m\n\u001b[1;32m    179\u001b[0m \u001b[0;34m\u001b[0m\u001b[0m\n\u001b[1;32m    180\u001b[0m     Empty matches are included in the result.\"\"\"\n\u001b[0;32m--> 181\u001b[0;31m     \u001b[0;32mreturn\u001b[0m \u001b[0m_compile\u001b[0m\u001b[0;34m(\u001b[0m\u001b[0mpattern\u001b[0m\u001b[0;34m,\u001b[0m \u001b[0mflags\u001b[0m\u001b[0;34m)\u001b[0m\u001b[0;34m.\u001b[0m\u001b[0mfindall\u001b[0m\u001b[0;34m(\u001b[0m\u001b[0mstring\u001b[0m\u001b[0;34m)\u001b[0m\u001b[0;34m\u001b[0m\u001b[0m\n\u001b[0m\u001b[1;32m    182\u001b[0m \u001b[0;34m\u001b[0m\u001b[0m\n\u001b[1;32m    183\u001b[0m \u001b[0;32mif\u001b[0m \u001b[0msys\u001b[0m\u001b[0;34m.\u001b[0m\u001b[0mhexversion\u001b[0m \u001b[0;34m>=\u001b[0m \u001b[0;36m0x02020000\u001b[0m\u001b[0;34m:\u001b[0m\u001b[0;34m\u001b[0m\u001b[0m\n",
      "\u001b[0;31mTypeError\u001b[0m: expected string or buffer"
     ]
    }
   ],
   "source": [
    "a=re.findall('T.+', b)"
   ]
  },
  {
   "cell_type": "code",
   "execution_count": null,
   "metadata": {
    "collapsed": true
   },
   "outputs": [],
   "source": []
  }
 ],
 "metadata": {
  "kernelspec": {
   "display_name": "Python 2",
   "language": "python",
   "name": "python2"
  },
  "language_info": {
   "codemirror_mode": {
    "name": "ipython",
    "version": 2
   },
   "file_extension": ".py",
   "mimetype": "text/x-python",
   "name": "python",
   "nbconvert_exporter": "python",
   "pygments_lexer": "ipython2",
   "version": "2.7.10"
  }
 },
 "nbformat": 4,
 "nbformat_minor": 0
}
