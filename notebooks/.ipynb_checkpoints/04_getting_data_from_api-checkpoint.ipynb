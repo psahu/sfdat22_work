{
 "cells": [
  {
   "cell_type": "code",
   "execution_count": 1,
   "metadata": {
    "collapsed": false
   },
   "outputs": [
    {
     "data": {
      "text/plain": [
       "'\\nCLASS: Getting Data from APIs\\n\\nWhat is an API?\\n- Application Programming Interface\\n- Structured way to expose specific functionality and data access to users\\n- Web APIs usually follow the \"REST\" standard\\n\\nHow to interact with a REST API:\\n- Make a \"request\" to a specific URL (an \"endpoint\"), and get the data back in a \"response\"\\n- Most relevant request method for us is GET (other methods: POST, PUT, DELETE)\\n- Response is often JSON format\\n- Web console is sometimes available (allows you to explore an API)\\n'"
      ]
     },
     "execution_count": 1,
     "metadata": {},
     "output_type": "execute_result"
    }
   ],
   "source": [
    "'''\n",
    "CLASS: Getting Data from APIs\n",
    "\n",
    "What is an API?\n",
    "- Application Programming Interface\n",
    "- Structured way to expose specific functionality and data access to users\n",
    "- Web APIs usually follow the \"REST\" standard\n",
    "\n",
    "How to interact with an API:\n",
    "- Make a \"request\" to a specific URL (an \"endpoint\"), and get the data back in a \"response\"\n",
    "- Most relevant request method for us is GET (other methods: POST, PUT, DELETE)\n",
    "- Response is often JSON format\n",
    "- Web console is sometimes available (allows you to explore an API)\n",
    "'''"
   ]
  },
  {
   "cell_type": "code",
   "execution_count": 44,
   "metadata": {
    "collapsed": false
   },
   "outputs": [],
   "source": [
    "import pandas as pd\n",
    "import requests"
   ]
  },
  {
   "cell_type": "code",
   "execution_count": 45,
   "metadata": {
    "collapsed": false
   },
   "outputs": [
    {
     "data": {
      "text/html": [
       "<div>\n",
       "<table border=\"1\" class=\"dataframe\">\n",
       "  <thead>\n",
       "    <tr style=\"text-align: right;\">\n",
       "      <th></th>\n",
       "      <th>star_rating</th>\n",
       "      <th>title</th>\n",
       "      <th>content_rating</th>\n",
       "      <th>genre</th>\n",
       "      <th>duration</th>\n",
       "      <th>actors_list</th>\n",
       "    </tr>\n",
       "  </thead>\n",
       "  <tbody>\n",
       "    <tr>\n",
       "      <th>0</th>\n",
       "      <td>9.3</td>\n",
       "      <td>The Shawshank Redemption</td>\n",
       "      <td>R</td>\n",
       "      <td>Crime</td>\n",
       "      <td>142</td>\n",
       "      <td>[u'Tim Robbins', u'Morgan Freeman', u'Bob Gunt...</td>\n",
       "    </tr>\n",
       "    <tr>\n",
       "      <th>1</th>\n",
       "      <td>9.2</td>\n",
       "      <td>The Godfather</td>\n",
       "      <td>R</td>\n",
       "      <td>Crime</td>\n",
       "      <td>175</td>\n",
       "      <td>[u'Marlon Brando', u'Al Pacino', u'James Caan']</td>\n",
       "    </tr>\n",
       "    <tr>\n",
       "      <th>2</th>\n",
       "      <td>9.1</td>\n",
       "      <td>The Godfather: Part II</td>\n",
       "      <td>R</td>\n",
       "      <td>Crime</td>\n",
       "      <td>200</td>\n",
       "      <td>[u'Al Pacino', u'Robert De Niro', u'Robert Duv...</td>\n",
       "    </tr>\n",
       "    <tr>\n",
       "      <th>3</th>\n",
       "      <td>9.0</td>\n",
       "      <td>The Dark Knight</td>\n",
       "      <td>PG-13</td>\n",
       "      <td>Action</td>\n",
       "      <td>152</td>\n",
       "      <td>[u'Christian Bale', u'Heath Ledger', u'Aaron E...</td>\n",
       "    </tr>\n",
       "    <tr>\n",
       "      <th>4</th>\n",
       "      <td>8.9</td>\n",
       "      <td>Pulp Fiction</td>\n",
       "      <td>R</td>\n",
       "      <td>Crime</td>\n",
       "      <td>154</td>\n",
       "      <td>[u'John Travolta', u'Uma Thurman', u'Samuel L....</td>\n",
       "    </tr>\n",
       "  </tbody>\n",
       "</table>\n",
       "</div>"
      ],
      "text/plain": [
       "   star_rating                     title content_rating   genre  duration  \\\n",
       "0          9.3  The Shawshank Redemption              R   Crime       142   \n",
       "1          9.2             The Godfather              R   Crime       175   \n",
       "2          9.1    The Godfather: Part II              R   Crime       200   \n",
       "3          9.0           The Dark Knight          PG-13  Action       152   \n",
       "4          8.9              Pulp Fiction              R   Crime       154   \n",
       "\n",
       "                                         actors_list  \n",
       "0  [u'Tim Robbins', u'Morgan Freeman', u'Bob Gunt...  \n",
       "1    [u'Marlon Brando', u'Al Pacino', u'James Caan']  \n",
       "2  [u'Al Pacino', u'Robert De Niro', u'Robert Duv...  \n",
       "3  [u'Christian Bale', u'Heath Ledger', u'Aaron E...  \n",
       "4  [u'John Travolta', u'Uma Thurman', u'Samuel L....  "
      ]
     },
     "execution_count": 45,
     "metadata": {},
     "output_type": "execute_result"
    }
   ],
   "source": [
    "# read IMDb data into a DataFrame: we want a year column!\n",
    "movies = pd.read_csv('../data/imdb_1000.csv')\n",
    "movies.head()"
   ]
  },
  {
   "cell_type": "code",
   "execution_count": 46,
   "metadata": {
    "collapsed": false
   },
   "outputs": [
    {
     "name": "stdout",
     "output_type": "stream",
     "text": [
      "(979, 6)\n"
     ]
    },
    {
     "data": {
      "text/html": [
       "<div>\n",
       "<table border=\"1\" class=\"dataframe\">\n",
       "  <thead>\n",
       "    <tr style=\"text-align: right;\">\n",
       "      <th></th>\n",
       "      <th>star_rating</th>\n",
       "      <th>duration</th>\n",
       "    </tr>\n",
       "  </thead>\n",
       "  <tbody>\n",
       "    <tr>\n",
       "      <th>count</th>\n",
       "      <td>979.000000</td>\n",
       "      <td>979.000000</td>\n",
       "    </tr>\n",
       "    <tr>\n",
       "      <th>mean</th>\n",
       "      <td>7.889785</td>\n",
       "      <td>120.979571</td>\n",
       "    </tr>\n",
       "    <tr>\n",
       "      <th>std</th>\n",
       "      <td>0.336069</td>\n",
       "      <td>26.218010</td>\n",
       "    </tr>\n",
       "    <tr>\n",
       "      <th>min</th>\n",
       "      <td>7.400000</td>\n",
       "      <td>64.000000</td>\n",
       "    </tr>\n",
       "    <tr>\n",
       "      <th>25%</th>\n",
       "      <td>7.600000</td>\n",
       "      <td>102.000000</td>\n",
       "    </tr>\n",
       "    <tr>\n",
       "      <th>50%</th>\n",
       "      <td>7.800000</td>\n",
       "      <td>117.000000</td>\n",
       "    </tr>\n",
       "    <tr>\n",
       "      <th>75%</th>\n",
       "      <td>8.100000</td>\n",
       "      <td>134.000000</td>\n",
       "    </tr>\n",
       "    <tr>\n",
       "      <th>max</th>\n",
       "      <td>9.300000</td>\n",
       "      <td>242.000000</td>\n",
       "    </tr>\n",
       "  </tbody>\n",
       "</table>\n",
       "</div>"
      ],
      "text/plain": [
       "       star_rating    duration\n",
       "count   979.000000  979.000000\n",
       "mean      7.889785  120.979571\n",
       "std       0.336069   26.218010\n",
       "min       7.400000   64.000000\n",
       "25%       7.600000  102.000000\n",
       "50%       7.800000  117.000000\n",
       "75%       8.100000  134.000000\n",
       "max       9.300000  242.000000"
      ]
     },
     "execution_count": 46,
     "metadata": {},
     "output_type": "execute_result"
    }
   ],
   "source": [
    "print movies.shape\n",
    "movies.describe()"
   ]
  },
  {
   "cell_type": "code",
   "execution_count": 48,
   "metadata": {
    "collapsed": false
   },
   "outputs": [
    {
     "data": {
      "text/plain": [
       "The Girl with the Dragon Tattoo                            True\n",
       "Dracula                                                    True\n",
       "Les Miserables                                             True\n",
       "True Grit                                                  True\n",
       "Kung Fu Hustle                                            False\n",
       "The Bridge on the River Kwai                              False\n",
       "Donnie Brasco                                             False\n",
       "Running Scared                                            False\n",
       "The Evil Dead                                             False\n",
       "My Left Foot                                              False\n",
       "Escape from Alcatraz                                      False\n",
       "The Matrix                                                False\n",
       "Brokeback Mountain                                        False\n",
       "Hachi: A Dog's Tale                                       False\n",
       "The Visitor                                               False\n",
       "Elizabeth                                                 False\n",
       "The Meaning of Life                                       False\n",
       "Repulsion                                                 False\n",
       "Mud                                                       False\n",
       "The Texas Chain Saw Massacre                              False\n",
       "Lust, Caution                                             False\n",
       "The Sandlot                                               False\n",
       "Yojimbo                                                   False\n",
       "Slumdog Millionaire                                       False\n",
       "Spartacus                                                 False\n",
       "The Dirty Dozen                                           False\n",
       "The Lion King                                             False\n",
       "The World's Fastest Indian                                False\n",
       "Ray                                                       False\n",
       "The Fighter                                               False\n",
       "                                                          ...  \n",
       "Malena                                                    False\n",
       "The Theory of Everything                                  False\n",
       "A Single Man                                              False\n",
       "Scent of a Woman                                          False\n",
       "Funny Games                                               False\n",
       "Death at a Funeral                                        False\n",
       "Mary Poppins                                              False\n",
       "Little Miss Sunshine                                      False\n",
       "The Lady Vanishes                                         False\n",
       "Interstellar                                              False\n",
       "Halloween                                                 False\n",
       "The Hours                                                 False\n",
       "Midnight Cowboy                                           False\n",
       "Charade                                                   False\n",
       "Spring, Summer, Fall, Winter... and Spring                False\n",
       "Sideways                                                  False\n",
       "Christmas Vacation                                        False\n",
       "Pirates of the Caribbean: The Curse of the Black Pearl    False\n",
       "Transamerica                                              False\n",
       "The Blind Swordsman: Zatoichi                             False\n",
       "Misery                                                    False\n",
       "Calvary                                                   False\n",
       "Sympathy for Mr. Vengeance                                False\n",
       "Shutter Island                                            False\n",
       "Toki o kakeru shojo                                       False\n",
       "Casino                                                    False\n",
       "Crazy, Stupid, Love.                                      False\n",
       "Good Bye Lenin!                                           False\n",
       "Blue Velvet                                               False\n",
       "Fight Club                                                False\n",
       "dtype: bool"
      ]
     },
     "execution_count": 48,
     "metadata": {},
     "output_type": "execute_result"
    }
   ],
   "source": [
    "###### exercise #######\n",
    "\n",
    "# Is the title column unique? If not, what are the non unique names?\n",
    "\n",
    "movies.title.unique()\n",
    "set(movies.title)\n",
    "movies.title.value_counts() > 1\n",
    "\n"
   ]
  },
  {
   "cell_type": "code",
   "execution_count": 55,
   "metadata": {
    "collapsed": false
   },
   "outputs": [
    {
     "name": "stdout",
     "output_type": "stream",
     "text": [
      "The Girl with the Dragon Tattoo\n",
      "Les Miserables\n",
      "True Grit\n",
      "Dracula\n"
     ]
    }
   ],
   "source": [
    "\n",
    "from collections import Counter\n",
    "for title, count in Counter(movies.title).items():\n",
    "    if count > 1:\n",
    "        print title\n",
    "    \n"
   ]
  },
  {
   "cell_type": "code",
   "execution_count": 56,
   "metadata": {
    "collapsed": false
   },
   "outputs": [
    {
     "data": {
      "text/plain": [
       "[('Smoke', 1),\n",
       " ('The Butterfly Effect', 1),\n",
       " ('Jusan-nin no shikaku', 1),\n",
       " ('8 1/2', 1),\n",
       " ('Life of Pi', 1),\n",
       " ('Moon', 1),\n",
       " ('First Blood', 1),\n",
       " ('Snatch.', 1),\n",
       " ('RoboCop', 1),\n",
       " ('Paths of Glory', 1),\n",
       " ('Chungking Express', 1),\n",
       " ('Rashomon', 1),\n",
       " ('Roman Holiday', 1),\n",
       " ('Enemy at the Gates', 1),\n",
       " ('Sherlock Holmes', 1),\n",
       " ('Metropolis', 1),\n",
       " ('The Experiment', 1),\n",
       " ('The Purple Rose of Cairo', 1),\n",
       " ('The Raid 2', 1),\n",
       " ('Sideways', 1),\n",
       " ('Frances Ha', 1),\n",
       " ('Evil', 1),\n",
       " ('Shadow of a Doubt', 1),\n",
       " ('Tae Guk Gi: The Brotherhood of War', 1),\n",
       " ('Citizen Kane', 1),\n",
       " ('We Need to Talk About Kevin', 1),\n",
       " ('Doctor Zhivago', 1),\n",
       " ('Argo', 1),\n",
       " ('Volver', 1),\n",
       " ('Rio Bravo', 1),\n",
       " ('Dances with Wolves', 1),\n",
       " ('The Return', 1),\n",
       " ('Begin Again', 1),\n",
       " ('The Blind Side', 1),\n",
       " ('The Wizard of Oz', 1),\n",
       " (\"It's a Mad, Mad, Mad, Mad World\", 1),\n",
       " ('Back to the Future', 1),\n",
       " ('L.A. Confidential', 1),\n",
       " ('Alice in Wonderland', 1),\n",
       " (\"Adam's Apples\", 1),\n",
       " ('Blade Runner', 1),\n",
       " ('Wonder Boys', 1),\n",
       " ('The Night of the Hunter', 1),\n",
       " (\"L'illusionniste\", 1),\n",
       " ('The City of Lost Children', 1),\n",
       " ('The Man Who Shot Liberty Valance', 1),\n",
       " ('The Maltese Falcon', 1),\n",
       " ('Chaplin', 1),\n",
       " ('Glengarry Glen Ross', 1),\n",
       " ('12 Years a Slave', 1),\n",
       " ('The Sixth Sense', 1),\n",
       " ('Keith', 1),\n",
       " ('Rust and Bone', 1),\n",
       " ('Requiem for a Dream', 1),\n",
       " ('Hard Boiled', 1),\n",
       " (\"Ocean's Eleven\", 1),\n",
       " ('Doubt', 1),\n",
       " ('Fantastic Mr. Fox', 1),\n",
       " ('Boy A', 1),\n",
       " ('The Notebook', 1),\n",
       " ('Psycho', 1),\n",
       " ('La piel que habito', 1),\n",
       " ('Up in the Air', 1),\n",
       " ('Silver Linings Playbook', 1),\n",
       " ('Dancer in the Dark', 1),\n",
       " ('Disconnect', 1),\n",
       " ('A Christmas Story', 1),\n",
       " ('The Green Mile', 1),\n",
       " ('Rain Man', 1),\n",
       " ('The Natural', 1),\n",
       " ('Gravity', 1),\n",
       " ('The Truman Show', 1),\n",
       " ('Watchmen', 1),\n",
       " ('Spellbound', 1),\n",
       " ('The Name of the Rose', 1),\n",
       " ('WALL-E', 1),\n",
       " ('Annie Hall', 1),\n",
       " ('Charade', 1),\n",
       " ('Miracle on 34th Street', 1),\n",
       " ('Total Recall', 1),\n",
       " ('Before Sunrise', 1),\n",
       " ('City of God', 1),\n",
       " ('Suspiria', 1),\n",
       " ('High Noon', 1),\n",
       " ('There Will Be Blood', 1),\n",
       " ('Zulu', 1),\n",
       " ('Dilwale Dulhania Le Jayenge', 1),\n",
       " ('My Fair Lady', 1),\n",
       " ('Spirited Away', 1),\n",
       " ('The White Ribbon', 1),\n",
       " ('The Class', 1),\n",
       " ('Heat', 1),\n",
       " ('True Romance', 1),\n",
       " ('The Gold Rush', 1),\n",
       " ('Star Wars: Episode V - The Empire Strikes Back', 1),\n",
       " ('Dazed and Confused', 1),\n",
       " ('Deconstructing Harry', 1),\n",
       " ('Blue Valentine', 1),\n",
       " ('The Social Network', 1),\n",
       " ('The Constant Gardener', 1),\n",
       " ('Rush', 1),\n",
       " ('The Last Samurai', 1),\n",
       " ('Dead Man', 1),\n",
       " ('Whale Rider', 1),\n",
       " ('The Ice Storm', 1),\n",
       " ('25th Hour', 1),\n",
       " ('Calvary', 1),\n",
       " ('Tangled', 1),\n",
       " ('Trainspotting', 1),\n",
       " ('Dogville', 1),\n",
       " ('Flipped', 1),\n",
       " ('The Chorus', 1),\n",
       " ('2046', 1),\n",
       " ('X-Men', 1),\n",
       " ('Indiana Jones and the Last Crusade', 1),\n",
       " ('Mulan', 1),\n",
       " ('Man Bites Dog', 1),\n",
       " ('Downfall', 1),\n",
       " ('Planes, Trains & Automobiles', 1),\n",
       " ('The Assassination of Jesse James by the Coward Robert Ford', 1),\n",
       " ('Changeling', 1),\n",
       " ('Alien', 1),\n",
       " ('The Incredibles', 1),\n",
       " ('Ice Age', 1),\n",
       " ('Take Shelter', 1),\n",
       " ('Felon', 1),\n",
       " ('The Killer', 1),\n",
       " ('Poltergeist', 1),\n",
       " ('Goldfinger', 1),\n",
       " ('Snow White and the Seven Dwarfs', 1),\n",
       " ('Do the Right Thing', 1),\n",
       " ('The Kite Runner', 1),\n",
       " ('Primal Fear', 1),\n",
       " ('La grande bellezza', 1),\n",
       " ('Cinderella Man', 1),\n",
       " ('Harvey', 1),\n",
       " ('Magnolia', 1),\n",
       " ('Captain Phillips', 1),\n",
       " ('The Conjuring', 1),\n",
       " ('The Fifth Element', 1),\n",
       " ('Law Abiding Citizen', 1),\n",
       " ('Atonement', 1),\n",
       " ('Jurassic Park', 1),\n",
       " ('Crash', 1),\n",
       " ('Edge of Tomorrow', 1),\n",
       " ('Juno', 1),\n",
       " ('Labyrinth', 1),\n",
       " ('A Simple Plan', 1),\n",
       " ('Hannah and Her Sisters', 1),\n",
       " ('No Country for Old Men', 1),\n",
       " ('Midnight Express', 1),\n",
       " ('Monsters, Inc.', 1),\n",
       " ('Ghost World', 1),\n",
       " ('X-Men: First Class', 1),\n",
       " ('Despicable Me 2', 1),\n",
       " ('Three Colors: White', 1),\n",
       " ('Mary and Max', 1),\n",
       " ('Gran Torino', 1),\n",
       " ('Lagaan: Once Upon a Time in India', 1),\n",
       " ('Biutiful', 1),\n",
       " ('Awakenings', 1),\n",
       " ('The Texas Chain Saw Massacre', 1),\n",
       " ('The Mission', 1),\n",
       " ('The Conversation', 1),\n",
       " ('Boogie Nights', 1),\n",
       " ('Mad Max 2: The Road Warrior', 1),\n",
       " ('My Cousin Vinny', 1),\n",
       " ('The NeverEnding Story', 1),\n",
       " ('Children of Men', 1),\n",
       " ('Much Ado About Nothing', 1),\n",
       " (\"Sophie's Choice\", 1),\n",
       " ('The Good, the Bad and the Ugly', 1),\n",
       " ('The Secret World of Arrietty', 1),\n",
       " ('Gone with the Wind', 1),\n",
       " ('Notes on a Scandal', 1),\n",
       " ('The Man from Nowhere', 1),\n",
       " ('Cast Away', 1),\n",
       " ('The Day the Earth Stood Still', 1),\n",
       " ('Rudy', 1),\n",
       " ('E.T. the Extra-Terrestrial', 1),\n",
       " ('Philomena', 1),\n",
       " ('Hamlet', 1),\n",
       " ('Of Mice and Men', 1),\n",
       " ('Battleship Potemkin', 1),\n",
       " ('Willy Wonka & the Chocolate Factory', 1),\n",
       " ('Braindead', 1),\n",
       " ('The Blues Brothers', 1),\n",
       " ('The Searchers', 1),\n",
       " ('How to Train Your Dragon 2', 1),\n",
       " ('Breathless', 1),\n",
       " (\"My Sister's Keeper\", 1),\n",
       " ('The Kid', 1),\n",
       " ('Toy Story 3', 1),\n",
       " ('Moulin Rouge!', 1),\n",
       " ('Mysterious Skin', 1),\n",
       " ('Die Hard: With a Vengeance', 1),\n",
       " ('The Piano', 1),\n",
       " ('Ghostbusters', 1),\n",
       " ('The Apartment', 1),\n",
       " ('Leaving Las Vegas', 1),\n",
       " ('Robin Hood', 1),\n",
       " ('The Fly', 1),\n",
       " ('Falling Down', 1),\n",
       " ('Across the Universe', 1),\n",
       " ('Road to Perdition', 1),\n",
       " ('Sherlock Holmes: A Game of Shadows', 1),\n",
       " ('Beauty and the Beast', 1),\n",
       " ('King Kong', 1),\n",
       " ('The Little Mermaid', 1),\n",
       " ('La Vie en Rose', 1),\n",
       " ('Munich', 1),\n",
       " ('The Princess Bride', 1),\n",
       " ('The Killing', 1),\n",
       " ('Detachment', 1),\n",
       " ('Star Wars: Episode III - Revenge of the Sith', 1),\n",
       " ('The Orphanage', 1),\n",
       " ('Clerks', 1),\n",
       " ('Eternal Sunshine of the Spotless Mind', 1),\n",
       " ('Memento', 1),\n",
       " ('All About Eve', 1),\n",
       " ('The Station Agent', 1),\n",
       " ('Kramer vs. Kramer', 1),\n",
       " ('Sleepers', 1),\n",
       " ('Bullets Over Broadway', 1),\n",
       " ('Perfume: The Story of a Murderer', 1),\n",
       " ('Million Dollar Baby', 1),\n",
       " ('Rope', 1),\n",
       " ('Nebraska', 1),\n",
       " ('Into the Wild', 1),\n",
       " ('Secrets & Lies', 1),\n",
       " ('Shrek', 1),\n",
       " ('The Lives of Others', 1),\n",
       " ('Crouching Tiger, Hidden Dragon', 1),\n",
       " ('Boyhood', 1),\n",
       " ('Solaris', 1),\n",
       " ('The Pianist', 1),\n",
       " ('Fury', 1),\n",
       " ('Pirate Radio', 1),\n",
       " ('The Raid: Redemption', 1),\n",
       " ('Captain America: The Winter Soldier', 1),\n",
       " ('Central Station', 1),\n",
       " ('To Kill a Mockingbird', 1),\n",
       " ('The Wild Bunch', 1),\n",
       " ('Black Book', 1),\n",
       " ('JFK', 1),\n",
       " ('Iron Man', 1),\n",
       " ('Lolita', 1),\n",
       " ('The Nightmare Before Christmas', 1),\n",
       " ('Love Actually', 1),\n",
       " ('The Great Escape', 1),\n",
       " ('Life of Brian', 1),\n",
       " ('Hotel Rwanda', 1),\n",
       " ('Stand by Me', 1),\n",
       " ('Star Trek Into Darkness', 1),\n",
       " ('Once Upon a Time in the West', 1),\n",
       " ('The Battle of Algiers', 1),\n",
       " ('The Secret in Their Eyes', 1),\n",
       " ('Collateral', 1),\n",
       " ('Big Hero 6', 1),\n",
       " ('Witness for the Prosecution', 1),\n",
       " ('A Nightmare on Elm Street', 1),\n",
       " ('The Graduate', 1),\n",
       " ('Diabolique', 1),\n",
       " ('Days of Heaven', 1),\n",
       " ('October Sky', 1),\n",
       " ('Blood Diamond', 1),\n",
       " ('Best in Show', 1),\n",
       " ('A Bronx Tale', 1),\n",
       " ('The Wicker Man', 1),\n",
       " ('Dark City', 1),\n",
       " ('The Last Picture Show', 1),\n",
       " ('Badlands', 1),\n",
       " ('From Here to Eternity', 1),\n",
       " ('Short Cuts', 1),\n",
       " ('Yip Man', 1),\n",
       " ('The African Queen', 1),\n",
       " ('The Wolf of Wall Street', 1),\n",
       " ('The Counterfeiters', 1),\n",
       " ('An American Werewolf in London', 1),\n",
       " ('The Wind That Shakes the Barley', 1),\n",
       " ('Pride & Prejudice', 1),\n",
       " ('The Silence of the Lambs', 1),\n",
       " ('Good Night, and Good Luck.', 1),\n",
       " ('21 Grams', 1),\n",
       " ('Terms of Endearment', 1),\n",
       " ('Bullitt', 1),\n",
       " ('The Straight Story', 1),\n",
       " ('Pi', 1),\n",
       " ('Reign Over Me', 1),\n",
       " ('Gangs of New York', 1),\n",
       " ('Ran', 1),\n",
       " ('Rear Window', 1),\n",
       " ('Aliens', 1),\n",
       " ('Le Samourai', 1),\n",
       " ('The Sound of Music', 1),\n",
       " ('The Meaning of Life', 1),\n",
       " ('The Magnificent Seven', 1),\n",
       " ('Open Range', 1),\n",
       " ('The Evil Dead', 1),\n",
       " ('Saw', 1),\n",
       " ('The Killing Fields', 1),\n",
       " ('Ray', 1),\n",
       " ('Wall Street', 1),\n",
       " ('The Lion King', 1),\n",
       " ('The Dirty Dozen', 1),\n",
       " ('Network', 1),\n",
       " ('Slumdog Millionaire', 1),\n",
       " ('Yojimbo', 1),\n",
       " ('The Sandlot', 1),\n",
       " ('Lust, Caution', 1),\n",
       " ('Toki o kakeru shojo', 1),\n",
       " ('A Few Good Men', 1),\n",
       " ('Mud', 1),\n",
       " ('The Matrix', 1),\n",
       " (\"Buffalo '66\", 1),\n",
       " ('Toy Story', 1),\n",
       " ('Short Term 12', 1),\n",
       " ('Running Scared', 1),\n",
       " ('My Left Foot', 1),\n",
       " ('The Bridge on the River Kwai', 1),\n",
       " ('Escape from Alcatraz', 1),\n",
       " ('Trading Places', 1),\n",
       " ('Brokeback Mountain', 1),\n",
       " (\"Hachi: A Dog's Tale\", 1),\n",
       " ('The Visitor', 1),\n",
       " ('Elizabeth', 1),\n",
       " ('La Femme Nikita', 1),\n",
       " ('The Insider', 1),\n",
       " ('Donnie Brasco', 1),\n",
       " ('Birdman: Or (The Unexpected Virtue of Ignorance)', 1),\n",
       " ('[Rec]', 1),\n",
       " ('The Illusionist', 1),\n",
       " ('Cat on a Hot Tin Roof', 1),\n",
       " ('The Muppet Christmas Carol', 1),\n",
       " ('Frankenstein', 1),\n",
       " ('Still Alice', 1),\n",
       " ('Equilibrium', 1),\n",
       " ('The Hurt Locker', 1),\n",
       " ('The Jungle Book', 1),\n",
       " ('Source Code', 1),\n",
       " ('What Ever Happened to Baby Jane?', 1),\n",
       " ('Bicycle Thieves', 1),\n",
       " ('Princess Mononoke', 1),\n",
       " ('Withnail & I', 1),\n",
       " ('Heavenly Creatures', 1),\n",
       " ('Despicable Me', 1),\n",
       " ('Eraserhead', 1),\n",
       " ('Mulholland Dr.', 1),\n",
       " ('The Dinner Game', 1),\n",
       " ('The Three Burials of Melquiades Estrada', 1),\n",
       " ('Eastern Promises', 1),\n",
       " ('Relatos salvajes', 1),\n",
       " ('3-Iron', 1),\n",
       " ('Pleasantville', 1),\n",
       " ('Whiplash', 1),\n",
       " ('Tombstone', 1),\n",
       " ('West Side Story', 1),\n",
       " ('La Dolce Vita', 1),\n",
       " ('Brazil', 1),\n",
       " ('The Last of the Mohicans', 1),\n",
       " ('Reservoir Dogs', 1),\n",
       " ('Selma', 1),\n",
       " ('Wings of Desire', 1),\n",
       " ('Menace II Society', 1),\n",
       " ('The Last Emperor', 1),\n",
       " ('Hugo', 1),\n",
       " ('The Best Offer', 1),\n",
       " ('The Bucket List', 1),\n",
       " ('The Day of the Jackal', 1),\n",
       " ('The Outlaw Josey Wales', 1),\n",
       " (\"Kiki's Delivery Service\", 1),\n",
       " ('The Crow', 1),\n",
       " ('Lost in Translation', 1),\n",
       " ('Rebel Without a Cause', 1),\n",
       " ('Life Is Beautiful', 1),\n",
       " ('The Big Lebowski', 1),\n",
       " ('Pulp Fiction', 1),\n",
       " ('The Last Temptation of Christ', 1),\n",
       " ('Excalibur', 1),\n",
       " ('Gallipoli', 1),\n",
       " ('Shane', 1),\n",
       " ('Fearless', 1),\n",
       " ('The Sting', 1),\n",
       " (\"All the President's Men\", 1),\n",
       " ('Young Frankenstein', 1),\n",
       " ('MASH', 1),\n",
       " ('V for Vendetta', 1),\n",
       " ('The Lord of the Rings: The Return of the King', 1),\n",
       " ('Sunset Blvd.', 1),\n",
       " ('North by Northwest', 1),\n",
       " ('The Hobbit: An Unexpected Journey', 1),\n",
       " ('Dog Day Afternoon', 1),\n",
       " ('X-Men: Days of Future Past', 1),\n",
       " ('Rebecca', 1),\n",
       " ('This Is England', 1),\n",
       " ('Cinema Paradiso', 1),\n",
       " ('The Bourne Ultimatum', 1),\n",
       " ('Rang De Basanti', 1),\n",
       " ('The Hours', 1),\n",
       " ('Before Midnight', 1),\n",
       " ('Invasion of the Body Snatchers', 1),\n",
       " ('In the Mood for Love', 1),\n",
       " ('The Proposition', 1),\n",
       " ('Remember the Titans', 1),\n",
       " ('The 400 Blows', 1),\n",
       " ('Delicatessen', 1),\n",
       " ('Dawn of the Planet of the Apes', 1),\n",
       " ('In a Better World', 1),\n",
       " ('Serenity', 1),\n",
       " ('The Breakfast Club', 1),\n",
       " ('Mean Streets', 1),\n",
       " ('Harry Potter and the Prisoner of Azkaban', 1),\n",
       " ('Head-On', 1),\n",
       " ('Batman Begins', 1),\n",
       " ('Lost Highway', 1),\n",
       " ('Master and Commander: The Far Side of the World', 1),\n",
       " ('The Way Way Back', 1),\n",
       " ('Sabrina', 1),\n",
       " ('The Elephant Man', 1),\n",
       " ('Lilya 4-Ever', 1),\n",
       " ('The Others', 1),\n",
       " ('Gladiator', 1),\n",
       " ('Beetlejuice', 1),\n",
       " ('127 Hours', 1),\n",
       " ('The Impossible', 1),\n",
       " ('A Very Long Engagement', 1),\n",
       " ('Nausicaa of the Valley of the Wind', 1),\n",
       " ('Furious 7', 1),\n",
       " ('Black Swan', 1),\n",
       " ('End of Watch', 1),\n",
       " ('I Am Sam', 1),\n",
       " ('Bringing Up Baby', 1),\n",
       " ('Se7en', 1),\n",
       " ('Le passe', 1),\n",
       " ('Ip Man 2', 1),\n",
       " ('2001: A Space Odyssey', 1),\n",
       " (\"National Lampoon's Vacation\", 1),\n",
       " ('Rushmore', 1),\n",
       " ('Hoosiers', 1),\n",
       " ('Twelve Monkeys', 1),\n",
       " (\"A Hard Day's Night\", 1),\n",
       " ('United 93', 1),\n",
       " ('Zelig', 1),\n",
       " ('Batman', 1),\n",
       " ('Open Your Eyes', 1),\n",
       " ('A Fistful of Dollars', 1),\n",
       " ('Predator', 1),\n",
       " ('Stranger Than Fiction', 1),\n",
       " ('His Girl Friday', 1),\n",
       " ('The Usual Suspects', 1),\n",
       " ('Memories of Murder', 1),\n",
       " ('Night on Earth', 1),\n",
       " ('Blood Simple.', 1),\n",
       " ('Taare Zameen Par', 1),\n",
       " ('Harry Potter and the Order of the Phoenix', 1),\n",
       " ('Battle Royale', 1),\n",
       " ('Forrest Gump', 1),\n",
       " ('Anatomy of a Murder', 1),\n",
       " ('Barton Fink', 1),\n",
       " ('Home Alone', 1),\n",
       " ('Man on the Moon', 1),\n",
       " ('Blazing Saddles', 1),\n",
       " ('Fight Club', 1),\n",
       " ('A Streetcar Named Desire', 1),\n",
       " ('M', 1),\n",
       " ('Titanic', 1),\n",
       " ('The Lord of the Rings: The Fellowship of the Ring', 1),\n",
       " ('The Philadelphia Story', 1),\n",
       " ('Gandhi', 1),\n",
       " ('Dawn of the Dead', 1),\n",
       " ('On the Waterfront', 1),\n",
       " ('The Goonies', 1),\n",
       " ('Zodiac', 1),\n",
       " ('A Fish Called Wanda', 1),\n",
       " ('Nightcrawler', 1),\n",
       " ('The Curse of the Were-Rabbit', 1),\n",
       " ('Marathon Man', 1),\n",
       " ('The Man Who Would Be King', 1),\n",
       " ('Sling Blade', 1),\n",
       " ('Terminator 2: Judgment Day', 1),\n",
       " ('Prisoners', 1),\n",
       " ('Bound', 1),\n",
       " ('The Departed', 1),\n",
       " ('Edward Scissorhands', 1),\n",
       " ('Finding Nemo', 1),\n",
       " ('Barfi!', 1),\n",
       " ('Minority Report', 1),\n",
       " ('Ikiru', 1),\n",
       " ('Gone Girl', 1),\n",
       " ('Zombieland', 1),\n",
       " ('Platoon', 1),\n",
       " ('Coraline', 1),\n",
       " ('American Splendor', 1),\n",
       " ('Animal House', 1),\n",
       " ('Clerks II', 1),\n",
       " ('The Theory of Everything', 1),\n",
       " ('Adaptation.', 1),\n",
       " ('Jackie Brown', 1),\n",
       " ('Fantasia', 1),\n",
       " ('The Big Blue', 1),\n",
       " ('Pink Floyd The Wall', 1),\n",
       " ('The Celebration', 1),\n",
       " ('The Remains of the Day', 1),\n",
       " ('Dead Poets Society', 1),\n",
       " ('The Shining', 1),\n",
       " ('Unforgiven', 1),\n",
       " ('Traffic', 1),\n",
       " ('Donnie Darko', 1),\n",
       " ('Star Trek II: The Wrath of Khan', 1),\n",
       " ('The Manchurian Candidate', 1),\n",
       " ('Frenzy', 1),\n",
       " (\"Devil's Advocate\", 1),\n",
       " ('Aguirre, the Wrath of God', 1),\n",
       " ('Ghost in the Shell', 1),\n",
       " ('Moonrise Kingdom', 1),\n",
       " ('Ordinary People', 1),\n",
       " ('Ben-Hur', 1),\n",
       " ('The Grapes of Wrath', 1),\n",
       " ('Catch Me If You Can', 1),\n",
       " ('American History X', 1),\n",
       " ('The Treasure of the Sierra Madre', 1),\n",
       " ('American Psycho', 1),\n",
       " ('Control', 1),\n",
       " ('The Color Purple', 1),\n",
       " ('A Royal Affair', 1),\n",
       " ('Once', 1),\n",
       " ('Rise of the Planet of the Apes', 1),\n",
       " ('Say Anything...', 1),\n",
       " ('The Hobbit: The Desolation of Smaug', 1),\n",
       " (\"Pan's Labyrinth\", 1),\n",
       " ('The Intouchables', 1),\n",
       " (\"The King's Speech\", 1),\n",
       " ('Blow-Up', 1),\n",
       " ('Shaun of the Dead', 1),\n",
       " ('Hunger', 1),\n",
       " ('Tootsie', 1),\n",
       " ('The Seventh Seal', 1),\n",
       " (\"Miller's Crossing\", 1),\n",
       " ('American Gangster', 1),\n",
       " ('Bonnie and Clyde', 1),\n",
       " (\"Singin' in the Rain\", 1),\n",
       " ('X2', 1),\n",
       " ('A History of Violence', 1),\n",
       " ('The Girl with the Dragon Tattoo', 2),\n",
       " ('Aladdin', 1),\n",
       " ('Lucky Number Slevin', 1),\n",
       " ('A Beautiful Mind', 1),\n",
       " ('Back to the Future Part III', 1),\n",
       " ('Kaze tachinu', 1),\n",
       " ('Legends of the Fall', 1),\n",
       " ('August Rush', 1),\n",
       " ('Grave of the Fireflies', 1),\n",
       " ('Lethal Weapon', 1),\n",
       " ('The Party', 1),\n",
       " ('From Russia with Love', 1),\n",
       " ('The Hustler', 1),\n",
       " ('Lincoln', 1),\n",
       " ('Predestination', 1),\n",
       " ('Double Indemnity', 1),\n",
       " ('Forbidden Planet', 1),\n",
       " ('The Godfather', 1),\n",
       " ('The Bourne Identity', 1),\n",
       " ('The Last King of Scotland', 1),\n",
       " ('The Life of David Gale', 1),\n",
       " ('Mississippi Burning', 1),\n",
       " ('The Man Who Knew Too Much', 1),\n",
       " ('The Pursuit of Happyness', 1),\n",
       " ('Indiana Jones and the Temple of Doom', 1),\n",
       " ('Love Me If You Dare', 1),\n",
       " ('Garden State', 1),\n",
       " ('Letters from Iwo Jima', 1),\n",
       " ('Some Like It Hot', 1),\n",
       " ('Saving Private Ryan', 1),\n",
       " ('The Lord of the Rings: The Two Towers', 1),\n",
       " ('Ponyo', 1),\n",
       " ('Elite Squad', 1),\n",
       " ('Dead Man Walking', 1),\n",
       " ('Babel', 1),\n",
       " ('House of Sand and Fog', 1),\n",
       " ('Three Colors: Red', 1),\n",
       " ('Persepolis', 1),\n",
       " ('3:10 to Yuma', 1),\n",
       " ('Seven Pounds', 1),\n",
       " ('Incendies', 1),\n",
       " ('Nine Queens', 1),\n",
       " ('Fried Green Tomatoes', 1),\n",
       " ('The Adventures of Robin Hood', 1),\n",
       " ('Jaws', 1),\n",
       " ('Star Wars: Episode VI - Return of the Jedi', 1),\n",
       " (\"Guess Who's Coming to Dinner\", 1),\n",
       " ('Laura', 1),\n",
       " ('My Name Is Khan', 1),\n",
       " ('The Third Man', 1),\n",
       " ('The Fall', 1),\n",
       " ('Airplane!', 1),\n",
       " ('The Ten Commandments', 1),\n",
       " ('Repulsion', 1),\n",
       " ('Before Sunset', 1),\n",
       " ('Crimes and Misdemeanors', 1),\n",
       " ('Goodfellas', 1),\n",
       " ('The Hunt for Red October', 1),\n",
       " ('Amores Perros', 1),\n",
       " ('Inside Man', 1),\n",
       " ('Seven Samurai', 1),\n",
       " ('American Beauty', 1),\n",
       " ('Her', 1),\n",
       " ('Braveheart', 1),\n",
       " ('Groundhog Day', 1),\n",
       " ('Swades', 1),\n",
       " ('Patton', 1),\n",
       " ('Secondhand Lions', 1),\n",
       " ('Office Space', 1),\n",
       " ('Papillon', 1),\n",
       " ('Django Unchained', 1),\n",
       " ('Kick-Ass', 1),\n",
       " ('Maria Full of Grace', 1),\n",
       " ('Black Hawk Down', 1),\n",
       " ('Cowboy Bebop: The Movie', 1),\n",
       " ('The Bourne Supremacy', 1),\n",
       " ('In the Bedroom', 1),\n",
       " ('The Iron Giant', 1),\n",
       " ('As Good as It Gets', 1),\n",
       " ('Sense and Sensibility', 1),\n",
       " ('Once Upon a Time in America', 1),\n",
       " ('Big Fish', 1),\n",
       " ('The Dark Knight', 1),\n",
       " ('Skyfall', 1),\n",
       " ('The Abyss', 1),\n",
       " ('Mr. Smith Goes to Washington', 1),\n",
       " ('Green Street Hooligans', 1),\n",
       " ('12 Angry Men', 1),\n",
       " ('Talk to Her', 1),\n",
       " (\"The Devil's Backbone\", 1),\n",
       " ('Breaking the Waves', 1),\n",
       " ('Three Days of the Condor', 1),\n",
       " ('Les Miserables', 2),\n",
       " ('Malena', 1),\n",
       " ('The Royal Tenenbaums', 1),\n",
       " ('The Producers', 1),\n",
       " ('Christmas Vacation', 1),\n",
       " ('Blue Velvet', 1),\n",
       " ('Good Bye Lenin!', 1),\n",
       " ('Crazy, Stupid, Love.', 1),\n",
       " ('Casino', 1),\n",
       " ('Philadelphia', 1),\n",
       " ('Shutter Island', 1),\n",
       " ('Sympathy for Mr. Vengeance', 1),\n",
       " ('Misery', 1),\n",
       " ('The Blind Swordsman: Zatoichi', 1),\n",
       " ('Transamerica', 1),\n",
       " ('Pirates of the Caribbean: The Curse of the Black Pearl', 1),\n",
       " ('A Single Man', 1),\n",
       " ('Porco Rosso', 1),\n",
       " ('Spring, Summer, Fall, Winter... and Spring', 1),\n",
       " ('Apollo 13', 1),\n",
       " ('True Grit', 2),\n",
       " ('Midnight Cowboy', 1),\n",
       " ('Midnight Run', 1),\n",
       " ('Halloween', 1),\n",
       " ('Interstellar', 1),\n",
       " ('The Lady Vanishes', 1),\n",
       " ('Little Miss Sunshine', 1),\n",
       " ('Mary Poppins', 1),\n",
       " ('Funny Games', 1),\n",
       " ('Scent of a Woman', 1),\n",
       " ('Amour', 1),\n",
       " ('Elite Squad: The Enemy Within', 1),\n",
       " ('Amarcord', 1),\n",
       " ('Three Colors: Blue', 1),\n",
       " (\"It's a Wonderful Life\", 1),\n",
       " ('The Imitation Game', 1),\n",
       " ('Miracle', 1),\n",
       " ('Manhattan Murder Mystery', 1),\n",
       " ('The Boy in the Striped Pajamas', 1),\n",
       " ('In America', 1),\n",
       " ('The Fugitive', 1),\n",
       " ('The Curious Case of Benjamin Button', 1),\n",
       " (\"Who's Afraid of Virginia Woolf?\", 1),\n",
       " ('Who Framed Roger Rabbit', 1),\n",
       " ('Full Metal Jacket', 1),\n",
       " ('Ying xiong', 1),\n",
       " ('Being John Malkovich', 1),\n",
       " ('Witness', 1),\n",
       " ('Kung Fu Panda', 1),\n",
       " ('Inglourious Basterds', 1),\n",
       " ('Nosferatu', 1),\n",
       " ('High Plains Drifter', 1),\n",
       " ('The Book Thief', 1),\n",
       " ('Raiders of the Lost Ark', 1),\n",
       " (\"What's Eating Gilbert Grape\", 1),\n",
       " ('For a Few Dollars More', 1),\n",
       " ('Dracula', 2),\n",
       " ('District 9', 1),\n",
       " ('Judgment at Nuremberg', 1),\n",
       " ('Wreck-It Ralph', 1),\n",
       " ('Boyz n the Hood', 1),\n",
       " ('The Great Dictator', 1),\n",
       " ('The Help', 1),\n",
       " ('A Bridge Too Far', 1),\n",
       " ('Life as a House', 1),\n",
       " ('Amelie', 1),\n",
       " ('Shine', 1),\n",
       " ('American Graffiti', 1),\n",
       " ('The Perks of Being a Wallflower', 1),\n",
       " ('Chinatown', 1),\n",
       " ('The Sea Inside', 1),\n",
       " ('The Big Sleep', 1),\n",
       " ('3 Idiots', 1),\n",
       " ('The Godfather: Part II', 1),\n",
       " ('Avatar', 1),\n",
       " ('Jodaeiye Nader az Simin', 1),\n",
       " ('How to Train Your Dragon', 1),\n",
       " ('Where Eagles Dare', 1),\n",
       " ('28 Days Later...', 1),\n",
       " (\"No Man's Land\", 1),\n",
       " ('The Aviator', 1),\n",
       " ('Serpico', 1),\n",
       " ('Billy Elliot', 1),\n",
       " ('Tell No One', 1),\n",
       " ('Akira', 1),\n",
       " ('Down by Law', 1),\n",
       " ('The 39 Steps', 1),\n",
       " ('I Saw the Devil', 1),\n",
       " (\"One Flew Over the Cuckoo's Nest\", 1),\n",
       " ('Stardust', 1),\n",
       " ('Infernal Affairs', 1),\n",
       " ('Far from Heaven', 1),\n",
       " ('Show Me Love', 1),\n",
       " ('Straw Dogs', 1),\n",
       " ('Munna Bhai M.B.B.S.', 1),\n",
       " ('The Godfather: Part III', 1),\n",
       " ('Gone Baby Gone', 1),\n",
       " ('Jin ling shi san chai', 1),\n",
       " ('42', 1),\n",
       " ('4 Months, 3 Weeks and 2 Days', 1),\n",
       " ('50/50', 1),\n",
       " ('Arsenic and Old Lace', 1),\n",
       " ('Harry Potter and the Goblet of Fire', 1),\n",
       " ('The Diving Bell and the Butterfly', 1),\n",
       " ('Lawrence of Arabia', 1),\n",
       " ('Hot Fuzz', 1),\n",
       " ('Notorious', 1),\n",
       " ('Taken', 1),\n",
       " ('The Reader', 1),\n",
       " ('The Longest Day', 1),\n",
       " ('Scott Pilgrim vs. the World', 1),\n",
       " ('Sympathy for Lady Vengeance', 1),\n",
       " ('The Right Stuff', 1),\n",
       " ('My Sassy Girl', 1),\n",
       " ('The Avengers', 1),\n",
       " ('Lone Survivor', 1),\n",
       " ('East of Eden', 1),\n",
       " ('Kill Bill: Vol. 2', 1),\n",
       " ('Kill Bill: Vol. 1', 1),\n",
       " ('City Lights', 1),\n",
       " ('A Perfect World', 1),\n",
       " ('To Catch a Thief', 1),\n",
       " ('The Count of Monte Cristo', 1),\n",
       " ('Inception', 1),\n",
       " ('Ghost Dog: The Way of the Samurai', 1),\n",
       " ('All About My Mother', 1),\n",
       " ('House of Flying Daggers', 1),\n",
       " ('Amadeus', 1),\n",
       " ('Ed Wood', 1),\n",
       " ('The Warriors', 1),\n",
       " ('It Happened One Night', 1),\n",
       " ('Glory', 1),\n",
       " ('Fruitvale Station', 1),\n",
       " ('In the Name of the Father', 1),\n",
       " ('In the Loop', 1),\n",
       " ('Thank You for Smoking', 1),\n",
       " ('Leon: The Professional', 1),\n",
       " ('The Dark Knight Rises', 1),\n",
       " ('Wild Strawberries', 1),\n",
       " ('Taxi Driver', 1),\n",
       " ('Star Trek: First Contact', 1),\n",
       " ('Oldeuboi', 1),\n",
       " ('High Fidelity', 1),\n",
       " ('(500) Days of Summer', 1),\n",
       " ('The Hobbit: The Battle of the Five Armies', 1),\n",
       " ('Casablanca', 1),\n",
       " ('Barry Lyndon', 1),\n",
       " ('Sweeney Todd: The Demon Barber of Fleet Street', 1),\n",
       " ('Kingsman: The Secret Service', 1),\n",
       " (\"Howl's Moving Castle\", 1),\n",
       " ('Inside Llewyn Davis', 1),\n",
       " ('The Bride of Frankenstein', 1),\n",
       " ('After Hours', 1),\n",
       " ('Deliverance', 1),\n",
       " ('Fear and Loathing in Las Vegas', 1),\n",
       " ('This Is Spinal Tap', 1),\n",
       " (\"Breakfast at Tiffany's\", 1),\n",
       " ('Driving Miss Daisy', 1),\n",
       " ('Saving Mr. Banks', 1),\n",
       " ('Paris, Texas', 1),\n",
       " ('The Lego Movie', 1),\n",
       " ('The Bridges of Madison County', 1),\n",
       " ('Modern Times', 1),\n",
       " ('Walk the Line', 1),\n",
       " ('Capote', 1),\n",
       " ('Apocalypto', 1),\n",
       " ('Fargo', 1),\n",
       " ('Moneyball', 1),\n",
       " (\"Jacob's Ladder\", 1),\n",
       " ('Brick', 1),\n",
       " ('Dil Chahta Hai', 1),\n",
       " ('Grindhouse', 1),\n",
       " ('Warrior', 1),\n",
       " ('Belle de Jour', 1),\n",
       " ('The Game', 1),\n",
       " ('Raging Bull', 1),\n",
       " ('Limitless', 1),\n",
       " ('Mr. Nobody', 1),\n",
       " ('Frozen', 1),\n",
       " ('The Town', 1),\n",
       " ('The Shawshank Redemption', 1),\n",
       " ('The Hunger Games: Catching Fire', 1),\n",
       " ('Bad Education', 1),\n",
       " ('Strangers on a Train', 1),\n",
       " ('The French Connection', 1),\n",
       " (\"Harry Potter and the Sorcerer's Stone\", 1),\n",
       " ('The Player', 1),\n",
       " (\"Boys Don't Cry\", 1),\n",
       " ('Zero Dark Thirty', 1),\n",
       " ('Match Point', 1),\n",
       " ('Castle in the Sky', 1),\n",
       " ('300', 1),\n",
       " ('The Birds', 1),\n",
       " ('Field of Dreams', 1),\n",
       " ('The Cider House Rules', 1),\n",
       " ('Up', 1),\n",
       " ('A Prophet', 1),\n",
       " ('Drive', 1),\n",
       " ('Empire of the Sun', 1),\n",
       " (\"Rosemary's Baby\", 1),\n",
       " ('Back to the Future Part II', 1),\n",
       " ('The Hangover', 1),\n",
       " ('Sleuth', 1),\n",
       " ('Man on Fire', 1),\n",
       " ('The Artist', 1),\n",
       " ('Hodejegerne', 1),\n",
       " ('The Fighter', 1),\n",
       " ('South Park: Bigger Longer & Uncut', 1),\n",
       " ('The Deer Hunter', 1),\n",
       " ('Milk', 1),\n",
       " ('About Time', 1),\n",
       " ('Close Encounters of the Third Kind', 1),\n",
       " (\"The Man Who Wasn't There\", 1),\n",
       " ('Scarface', 1),\n",
       " ('The Cabinet of Dr. Caligari', 1),\n",
       " ('Stalker', 1),\n",
       " ('Planet of the Apes', 1),\n",
       " ('Stagecoach', 1),\n",
       " ('Midnight in Paris', 1),\n",
       " ('Dangerous Liaisons', 1),\n",
       " ('Mystic River', 1),\n",
       " ('Butch Cassidy and the Sundance Kid', 1),\n",
       " ('The Triplets of Belleville', 1),\n",
       " ('Cloud Atlas', 1),\n",
       " ('Pinocchio', 1),\n",
       " ('In the Heat of the Night', 1),\n",
       " ('The Adventures of Priscilla, Queen of the Desert', 1),\n",
       " ('Raising Arizona', 1),\n",
       " ('Star Trek', 1),\n",
       " ('Being There', 1),\n",
       " ('Freaks', 1),\n",
       " ('Tucker and Dale vs. Evil', 1),\n",
       " (\"Ferris Bueller's Day Off\", 1),\n",
       " ('Spartacus', 1),\n",
       " ('The Prestige', 1),\n",
       " ('Gattaca', 1),\n",
       " ('Training Day', 1),\n",
       " ('The Boondock Saints', 1),\n",
       " ('Die Hard', 1),\n",
       " ('Finding Neverland', 1),\n",
       " ('Lord of War', 1),\n",
       " ('Run Lola Run', 1),\n",
       " ('Departures', 1),\n",
       " ('Fiddler on the Roof', 1),\n",
       " ('O Brother, Where Art Thou?', 1),\n",
       " ('The Thin Red Line', 1),\n",
       " (\"The World's Fastest Indian\", 1),\n",
       " ('Cool Hand Luke', 1),\n",
       " ('The Motorcycle Diaries', 1),\n",
       " ('The Omen', 1),\n",
       " ('Superbad', 1),\n",
       " ('Sin City', 1),\n",
       " ('Rocky', 1),\n",
       " ('Ratatouille', 1),\n",
       " (\"Schindler's List\", 1),\n",
       " ('Jagten', 1),\n",
       " ('Death at a Funeral', 1),\n",
       " ('The Fisher King', 1),\n",
       " ('The Thing', 1),\n",
       " ('Harry Potter and the Half-Blood Prince', 1),\n",
       " ('La Strada', 1),\n",
       " ('Following', 1),\n",
       " ('Fanny and Alexander', 1),\n",
       " ('Stalag 17', 1),\n",
       " ('The Simpsons Movie', 1),\n",
       " (\"Carlito's Way\", 1),\n",
       " ('Star Wars', 1),\n",
       " ('The Exorcist', 1),\n",
       " ('Malcolm X', 1),\n",
       " ('Apocalypse Now', 1),\n",
       " ('The Rock', 1),\n",
       " ('Freedom Writers', 1),\n",
       " ('My Neighbor Totoro', 1),\n",
       " ('Let the Right One In', 1),\n",
       " ('Looper', 1),\n",
       " ('When Harry Met Sally...', 1),\n",
       " ('Dr. Strangelove or: How I Learned to Stop Worrying and Love the Bomb', 1),\n",
       " ('Lock, Stock and Two Smoking Barrels', 1),\n",
       " ('Blow', 1),\n",
       " ('In Bruges', 1),\n",
       " ('Vertigo', 1),\n",
       " ('Y Tu Mama Tambien', 1),\n",
       " ('Key Largo', 1),\n",
       " ('Almost Famous', 1),\n",
       " ('Good Will Hunting', 1),\n",
       " (\"La leggenda del pianista sull'oceano\", 1),\n",
       " ('Dial M for Murder', 1),\n",
       " ('Black Cat, White Cat', 1),\n",
       " ('Underground', 1),\n",
       " ('Enter the Dragon', 1),\n",
       " ('The Fault in Our Stars', 1),\n",
       " ('Sleepy Hollow', 1),\n",
       " ('Manhattan', 1),\n",
       " ('Touch of Evil', 1),\n",
       " ('Everything Is Illuminated', 1),\n",
       " ('Persona', 1),\n",
       " ('Harold and Maude', 1),\n",
       " ('The Painted Veil', 1),\n",
       " (\"Kelly's Heroes\", 1),\n",
       " ('All Quiet on the Western Front', 1),\n",
       " ('A Clockwork Orange', 1),\n",
       " ('Frost/Nixon', 1),\n",
       " ('Interview with the Vampire: The Vampire Chronicles', 1),\n",
       " ('The Legend of Drunken Master', 1),\n",
       " ('The Grand Budapest Hotel', 1),\n",
       " ('The Machinist', 1),\n",
       " ('The King of Comedy', 1),\n",
       " ('Army of Darkness', 1),\n",
       " ('The Wages of Fear', 1),\n",
       " ('The General', 1),\n",
       " ('Toy Story 2', 1),\n",
       " ('The Judge', 1),\n",
       " ('Quiz Show', 1),\n",
       " ('The Wrestler', 1),\n",
       " ('The English Patient', 1),\n",
       " ('Evil Dead II', 1),\n",
       " ('Duck Soup', 1),\n",
       " ('Paprika', 1),\n",
       " ('Harry Potter and the Deathly Hallows: Part 2', 1),\n",
       " ('Harry Potter and the Deathly Hallows: Part 1', 1),\n",
       " ('The Naked Gun: From the Files of Police Squad!', 1),\n",
       " ('The Great Debaters', 1),\n",
       " ('Kiss Kiss Bang Bang', 1),\n",
       " ('Das Boot', 1),\n",
       " ('Monty Python and the Holy Grail', 1),\n",
       " ('Casino Royale', 1),\n",
       " ('Blue Is the Warmest Color', 1),\n",
       " ('Guardians of the Galaxy', 1),\n",
       " ('Little Children', 1),\n",
       " ('The Hurricane', 1),\n",
       " ('Night of the Living Dead', 1),\n",
       " ('The Best Years of Our Lives', 1),\n",
       " ('Dallas Buyers Club', 1),\n",
       " ('La Haine', 1),\n",
       " ('Dirty Harry', 1),\n",
       " ('The Untouchables', 1),\n",
       " ('Cabaret', 1),\n",
       " ('The Damned United', 1),\n",
       " ('The Terminator', 1),\n",
       " ('Kung Fu Hustle', 1)]"
      ]
     },
     "execution_count": 56,
     "metadata": {},
     "output_type": "execute_result"
    }
   ],
   "source": [
    "Counter(movies.title).items()"
   ]
  },
  {
   "cell_type": "code",
   "execution_count": 57,
   "metadata": {
    "collapsed": true
   },
   "outputs": [],
   "source": [
    "# use requests library to interact with a URL http://www.omdbapi.com\n",
    "r = requests.get('http://www.omdbapi.com?t=the shawshank redemption&r=json&type=movie')"
   ]
  },
  {
   "cell_type": "code",
   "execution_count": 78,
   "metadata": {
    "collapsed": false
   },
   "outputs": [],
   "source": [
    "r1 = requests.get('http://www.omdbapi.com?t=Argo&r=json')"
   ]
  },
  {
   "cell_type": "code",
   "execution_count": 83,
   "metadata": {
    "collapsed": false
   },
   "outputs": [
    {
     "data": {
      "text/plain": [
       "u'Ben Affleck'"
      ]
     },
     "execution_count": 83,
     "metadata": {},
     "output_type": "execute_result"
    }
   ],
   "source": [
    "r1.status_code\n",
    "\n",
    "r1.text\n",
    "r1.json()['Director']\n"
   ]
  },
  {
   "cell_type": "code",
   "execution_count": 58,
   "metadata": {
    "collapsed": false
   },
   "outputs": [
    {
     "data": {
      "text/plain": [
       "200"
      ]
     },
     "execution_count": 58,
     "metadata": {},
     "output_type": "execute_result"
    }
   ],
   "source": [
    "# check the status: 200 means success, 4xx or 5xx means error\n",
    "r.status_code"
   ]
  },
  {
   "cell_type": "code",
   "execution_count": 11,
   "metadata": {
    "collapsed": false
   },
   "outputs": [
    {
     "data": {
      "text/plain": [
       "u'{\"Title\":\"The Shawshank Redemption\",\"Year\":\"1994\",\"Rated\":\"R\",\"Released\":\"14 Oct 1994\",\"Runtime\":\"142 min\",\"Genre\":\"Crime, Drama\",\"Director\":\"Frank Darabont\",\"Writer\":\"Stephen King (short story \\\\\"Rita Hayworth and Shawshank Redemption\\\\\"), Frank Darabont (screenplay)\",\"Actors\":\"Tim Robbins, Morgan Freeman, Bob Gunton, William Sadler\",\"Plot\":\"Two imprisoned men bond over a number of years, finding solace and eventual redemption through acts of common decency.\",\"Language\":\"English\",\"Country\":\"USA\",\"Awards\":\"Nominated for 7 Oscars. Another 14 wins & 21 nominations.\",\"Poster\":\"http://ia.media-imdb.com/images/M/MV5BODU4MjU4NjIwNl5BMl5BanBnXkFtZTgwMDU2MjEyMDE@._V1_SX300.jpg\",\"Metascore\":\"80\",\"imdbRating\":\"9.3\",\"imdbVotes\":\"1,626,900\",\"imdbID\":\"tt0111161\",\"Type\":\"movie\",\"Response\":\"True\"}'"
      ]
     },
     "execution_count": 11,
     "metadata": {},
     "output_type": "execute_result"
    }
   ],
   "source": [
    "# view the raw response text\n",
    "r.text"
   ]
  },
  {
   "cell_type": "code",
   "execution_count": 12,
   "metadata": {
    "collapsed": false
   },
   "outputs": [
    {
     "data": {
      "text/plain": [
       "{u'Actors': u'Tim Robbins, Morgan Freeman, Bob Gunton, William Sadler',\n",
       " u'Awards': u'Nominated for 7 Oscars. Another 14 wins & 21 nominations.',\n",
       " u'Country': u'USA',\n",
       " u'Director': u'Frank Darabont',\n",
       " u'Genre': u'Crime, Drama',\n",
       " u'Language': u'English',\n",
       " u'Metascore': u'80',\n",
       " u'Plot': u'Two imprisoned men bond over a number of years, finding solace and eventual redemption through acts of common decency.',\n",
       " u'Poster': u'http://ia.media-imdb.com/images/M/MV5BODU4MjU4NjIwNl5BMl5BanBnXkFtZTgwMDU2MjEyMDE@._V1_SX300.jpg',\n",
       " u'Rated': u'R',\n",
       " u'Released': u'14 Oct 1994',\n",
       " u'Response': u'True',\n",
       " u'Runtime': u'142 min',\n",
       " u'Title': u'The Shawshank Redemption',\n",
       " u'Type': u'movie',\n",
       " u'Writer': u'Stephen King (short story \"Rita Hayworth and Shawshank Redemption\"), Frank Darabont (screenplay)',\n",
       " u'Year': u'1994',\n",
       " u'imdbID': u'tt0111161',\n",
       " u'imdbRating': u'9.3',\n",
       " u'imdbVotes': u'1,626,900'}"
      ]
     },
     "execution_count": 12,
     "metadata": {},
     "output_type": "execute_result"
    }
   ],
   "source": [
    "# decode the JSON response body into a dictionary\n",
    "r.json()"
   ]
  },
  {
   "cell_type": "code",
   "execution_count": 13,
   "metadata": {
    "collapsed": false
   },
   "outputs": [
    {
     "data": {
      "text/plain": [
       "u'1994'"
      ]
     },
     "execution_count": 13,
     "metadata": {},
     "output_type": "execute_result"
    }
   ],
   "source": [
    "# extracting the year from the dictionary\n",
    "r.json()['Year']"
   ]
  },
  {
   "cell_type": "code",
   "execution_count": 14,
   "metadata": {
    "collapsed": false
   },
   "outputs": [
    {
     "data": {
      "text/plain": [
       "{u'Error': u'Movie not found!', u'Response': u'False'}"
      ]
     },
     "execution_count": 14,
     "metadata": {},
     "output_type": "execute_result"
    }
   ],
   "source": [
    "# what happens if the movie name is not recognized?\n",
    "r = requests.get('http://www.omdbapi.com/?t=thebestmovieevermade&r=json&type=movie')\n",
    "r.status_code\n",
    "r.json()"
   ]
  },
  {
   "cell_type": "code",
   "execution_count": 25,
   "metadata": {
    "collapsed": false
   },
   "outputs": [],
   "source": [
    "##### Exercise #####\n",
    "\n",
    "# define a function to return the year\n",
    "def get_movie_year(title):\n",
    "    # use requests to grab the json of the data from omdb\n",
    "#     if the response was successful:\n",
    "#         return the year\n",
    "#     else:\n",
    "#         return None"
   ]
  },
  {
   "cell_type": "code",
   "execution_count": 155,
   "metadata": {
    "collapsed": false
   },
   "outputs": [],
   "source": [
    "def get_movie_year(title):\n",
    "    r = requests.get('http://www.omdbapi.com/?t='+title+'&r=json&type=movie')\n",
    "    a = r.json()\n",
    "    s = r.status_code\n",
    "    \n",
    "    if s == 200:\n",
    "        print a['Year']\n",
    "       \n",
    "    return \"None\""
   ]
  },
  {
   "cell_type": "code",
   "execution_count": 145,
   "metadata": {
    "collapsed": false
   },
   "outputs": [
    {
     "name": "stdout",
     "output_type": "stream",
     "text": [
      "2012\n"
     ]
    }
   ],
   "source": [
    "title = 'Argo'\n",
    "r = requests.get('http://www.omdbapi.com/?t='+title+'&r=json&type=movie')\n",
    "\n",
    "r.status_code\n",
    "\n",
    "a = r.json()['Year']\n",
    "print a\n",
    "\n"
   ]
  },
  {
   "cell_type": "code",
   "execution_count": 156,
   "metadata": {
    "collapsed": false
   },
   "outputs": [
    {
     "name": "stdout",
     "output_type": "stream",
     "text": [
      "2012\n"
     ]
    },
    {
     "data": {
      "text/plain": [
       "'None'"
      ]
     },
     "execution_count": 156,
     "metadata": {},
     "output_type": "execute_result"
    }
   ],
   "source": [
    "get_movie_year('Argo')"
   ]
  },
  {
   "cell_type": "code",
   "execution_count": 17,
   "metadata": {
    "collapsed": false
   },
   "outputs": [],
   "source": [
    "def get_movie_year(title):\n",
    "    r = requests.get('http://www.omdbapi.com/?t=thebestmovieevermade&r=json&type=movie')\n",
    "    response = r.jason()\n",
    "    if 'Error' not in response: return response['year']\n",
    "    \n",
    "    #if r.status_code == 200:\n",
    "    #    return title\n",
    "    #return 'none' # always returns code so no need to write this."
   ]
  },
  {
   "cell_type": "code",
   "execution_count": 18,
   "metadata": {
    "collapsed": false
   },
   "outputs": [
    {
     "name": "stdout",
     "output_type": "stream",
     "text": [
      "Finding dorey\n",
      "blahblahblah\n"
     ]
    }
   ],
   "source": [
    "# test the function\n",
    "print get_movie_year('Finding dorey')\n",
    "print get_movie_year('blahblahblah')"
   ]
  },
  {
   "cell_type": "code",
   "execution_count": 27,
   "metadata": {
    "collapsed": true
   },
   "outputs": [],
   "source": [
    "# create a smaller DataFrame for testing\n",
    "# the copy method makes a carbon copy of the dataframe\n",
    "top_movies = movies.head().copy()"
   ]
  },
  {
   "cell_type": "code",
   "execution_count": 28,
   "metadata": {
    "collapsed": false
   },
   "outputs": [],
   "source": [
    "# write a for loop to build a list of years\n",
    "from time import sleep # timey wimey stuff\n",
    "years = []\n",
    "for title in top_movies.title:\n",
    "    years.append(get_movie_year(title))\n",
    "    sleep(1)\n",
    "    \n",
    "# the sleep is used to not over hit the API\n",
    "# this is called \"rate limiting\"\n",
    "# Most APIs don't allow you to hit it too much"
   ]
  },
  {
   "cell_type": "code",
   "execution_count": 161,
   "metadata": {
    "collapsed": false
   },
   "outputs": [
    {
     "name": "stdout",
     "output_type": "stream",
     "text": [
      "1994\n",
      "1972\n",
      "1974\n",
      "2008\n",
      "1994\n"
     ]
    }
   ],
   "source": [
    "from time import sleep\n",
    "top_movies = movies.head().copy()\n",
    "top_movies.head()\n",
    "years = []\n",
    "\n",
    "for title in top_movies.title:\n",
    "    years.append(get_movie_year(title))\n",
    "    sleep(1)"
   ]
  },
  {
   "cell_type": "code",
   "execution_count": 29,
   "metadata": {
    "collapsed": false
   },
   "outputs": [
    {
     "ename": "AssertionError",
     "evalue": "",
     "output_type": "error",
     "traceback": [
      "\u001b[0;31m---------------------------------------------------------------------------\u001b[0m",
      "\u001b[0;31mAssertionError\u001b[0m                            Traceback (most recent call last)",
      "\u001b[0;32m<ipython-input-29-eda2d9072f25>\u001b[0m in \u001b[0;36m<module>\u001b[0;34m()\u001b[0m\n\u001b[1;32m      1\u001b[0m \u001b[0;31m# assert will throw an error if the value inside is NOT True\u001b[0m\u001b[0;34m\u001b[0m\u001b[0;34m\u001b[0m\u001b[0m\n\u001b[1;32m      2\u001b[0m \u001b[0;34m\u001b[0m\u001b[0m\n\u001b[0;32m----> 3\u001b[0;31m \u001b[0;32massert\u001b[0m\u001b[0;34m(\u001b[0m\u001b[0;36m3\u001b[0m\u001b[0;34m==\u001b[0m\u001b[0;36m4\u001b[0m\u001b[0;34m)\u001b[0m\u001b[0;34m\u001b[0m\u001b[0m\n\u001b[0m",
      "\u001b[0;31mAssertionError\u001b[0m: "
     ]
    }
   ],
   "source": [
    "# assert will throw an error if the value inside is NOT True\n",
    "\n",
    "assert(3==4)"
   ]
  },
  {
   "cell_type": "code",
   "execution_count": 165,
   "metadata": {
    "collapsed": false
   },
   "outputs": [
    {
     "data": {
      "text/plain": [
       "['None', 'None', 'None', 'None', 'None']"
      ]
     },
     "execution_count": 165,
     "metadata": {},
     "output_type": "execute_result"
    }
   ],
   "source": [
    "years"
   ]
  },
  {
   "cell_type": "code",
   "execution_count": null,
   "metadata": {
    "collapsed": false
   },
   "outputs": [],
   "source": [
    "# check that the DataFrame and the list of years are the same length\n",
    "assert(len(top_movies) == len(years))"
   ]
  },
  {
   "cell_type": "code",
   "execution_count": null,
   "metadata": {
    "collapsed": false
   },
   "outputs": [],
   "source": [
    "# save that list as a new column\n",
    "top_movies['year'] = years"
   ]
  },
  {
   "cell_type": "code",
   "execution_count": null,
   "metadata": {
    "collapsed": false
   },
   "outputs": [],
   "source": [
    "'''\n",
    "Bonus content: Updating the DataFrame as part of a loop\n",
    "'''\n",
    "\n",
    "# enumerate allows you to access the item location while iterating\n",
    "letters = ['a', 'b', 'c']\n",
    "for index, letter in enumerate(letters):\n",
    "    print index, letter"
   ]
  },
  {
   "cell_type": "code",
   "execution_count": null,
   "metadata": {
    "collapsed": false
   },
   "outputs": [],
   "source": [
    "# iterrows method for DataFrames is similar\n",
    "for index, row in top_movies.iterrows():\n",
    "    print index, row.title"
   ]
  },
  {
   "cell_type": "code",
   "execution_count": null,
   "metadata": {
    "collapsed": false
   },
   "outputs": [],
   "source": [
    "# create a new column and set a default value\n",
    "movies['yearsr'] = None\n",
    "movies.head()"
   ]
  },
  {
   "cell_type": "code",
   "execution_count": null,
   "metadata": {
    "collapsed": false
   },
   "outputs": [],
   "source": [
    "# loc method allows you to access a DataFrame element by 'label'\n",
    "movies.loc[0, 'year'] = 1994\n",
    "movies.head()"
   ]
  },
  {
   "cell_type": "code",
   "execution_count": null,
   "metadata": {
    "collapsed": false
   },
   "outputs": [],
   "source": [
    "# write a for loop to update the year for the first three movies\n",
    "for index, row in movies.iterrows():\n",
    "    if index < 3:\n",
    "        movies.loc[index, 'year'] = get_movie_year(row.title)\n",
    "        sleep(1)\n",
    "    else:\n",
    "        break"
   ]
  },
  {
   "cell_type": "code",
   "execution_count": 30,
   "metadata": {
    "collapsed": false
   },
   "outputs": [
    {
     "data": {
      "text/html": [
       "<div style=\"max-height:1000px;max-width:1500px;overflow:auto;\">\n",
       "<table border=\"1\" class=\"dataframe\">\n",
       "  <thead>\n",
       "    <tr style=\"text-align: right;\">\n",
       "      <th></th>\n",
       "      <th>star_rating</th>\n",
       "      <th>title</th>\n",
       "      <th>content_rating</th>\n",
       "      <th>genre</th>\n",
       "      <th>duration</th>\n",
       "      <th>actors_list</th>\n",
       "    </tr>\n",
       "  </thead>\n",
       "  <tbody>\n",
       "    <tr>\n",
       "      <th>0</th>\n",
       "      <td> 9.3</td>\n",
       "      <td> The Shawshank Redemption</td>\n",
       "      <td>     R</td>\n",
       "      <td>  Crime</td>\n",
       "      <td> 142</td>\n",
       "      <td> [u'Tim Robbins', u'Morgan Freeman', u'Bob Gunt...</td>\n",
       "    </tr>\n",
       "    <tr>\n",
       "      <th>1</th>\n",
       "      <td> 9.2</td>\n",
       "      <td>            The Godfather</td>\n",
       "      <td>     R</td>\n",
       "      <td>  Crime</td>\n",
       "      <td> 175</td>\n",
       "      <td>   [u'Marlon Brando', u'Al Pacino', u'James Caan']</td>\n",
       "    </tr>\n",
       "    <tr>\n",
       "      <th>2</th>\n",
       "      <td> 9.1</td>\n",
       "      <td>   The Godfather: Part II</td>\n",
       "      <td>     R</td>\n",
       "      <td>  Crime</td>\n",
       "      <td> 200</td>\n",
       "      <td> [u'Al Pacino', u'Robert De Niro', u'Robert Duv...</td>\n",
       "    </tr>\n",
       "    <tr>\n",
       "      <th>3</th>\n",
       "      <td> 9.0</td>\n",
       "      <td>          The Dark Knight</td>\n",
       "      <td> PG-13</td>\n",
       "      <td> Action</td>\n",
       "      <td> 152</td>\n",
       "      <td> [u'Christian Bale', u'Heath Ledger', u'Aaron E...</td>\n",
       "    </tr>\n",
       "    <tr>\n",
       "      <th>4</th>\n",
       "      <td> 8.9</td>\n",
       "      <td>             Pulp Fiction</td>\n",
       "      <td>     R</td>\n",
       "      <td>  Crime</td>\n",
       "      <td> 154</td>\n",
       "      <td> [u'John Travolta', u'Uma Thurman', u'Samuel L....</td>\n",
       "    </tr>\n",
       "  </tbody>\n",
       "</table>\n",
       "</div>"
      ],
      "text/plain": [
       "   star_rating                     title content_rating   genre  duration  \\\n",
       "0          9.3  The Shawshank Redemption              R   Crime       142   \n",
       "1          9.2             The Godfather              R   Crime       175   \n",
       "2          9.1    The Godfather: Part II              R   Crime       200   \n",
       "3          9.0           The Dark Knight          PG-13  Action       152   \n",
       "4          8.9              Pulp Fiction              R   Crime       154   \n",
       "\n",
       "                                         actors_list  \n",
       "0  [u'Tim Robbins', u'Morgan Freeman', u'Bob Gunt...  \n",
       "1    [u'Marlon Brando', u'Al Pacino', u'James Caan']  \n",
       "2  [u'Al Pacino', u'Robert De Niro', u'Robert Duv...  \n",
       "3  [u'Christian Bale', u'Heath Ledger', u'Aaron E...  \n",
       "4  [u'John Travolta', u'Uma Thurman', u'Samuel L....  "
      ]
     },
     "execution_count": 30,
     "metadata": {},
     "output_type": "execute_result"
    }
   ],
   "source": [
    "movies.head()"
   ]
  },
  {
   "cell_type": "code",
   "execution_count": null,
   "metadata": {
    "collapsed": false
   },
   "outputs": [],
   "source": []
  },
  {
   "cell_type": "code",
   "execution_count": null,
   "metadata": {
    "collapsed": true
   },
   "outputs": [],
   "source": []
  },
  {
   "cell_type": "code",
   "execution_count": 21,
   "metadata": {
    "collapsed": true
   },
   "outputs": [],
   "source": [
    "# this is my own personal twitter api information\n",
    "# if you could be so kind as to sign up yourself on both twitter and mashape that'd be great :)\n",
    "# It's FREEEEEEE\n",
    "api_key = 'g5uPIpw80nULQI1gfklv2zrh4'\n",
    "api_secret = 'cOWvNWxYvPmEZ0ArZVeeVVvJu41QYHdUS2GpqIKtSQ1isd5PJy'\n",
    "access_token = '49722956-TWl8J0aAS6KTdcbz3ppZ7NfqZEmrwmbsb9cYPNELG'\n",
    "access_secret = '3eqrVssF3ppv23qyflyAto8wLEiYRA8sXEPSghuOJWTub'\n",
    "\n",
    "# Masahpe Key\n",
    "mashape_key = '0CLvblsJOxmshWkaep4szo9CILOMp1PM3hhjsnDi4k8g8ME14o'"
   ]
  },
  {
   "cell_type": "code",
   "execution_count": 22,
   "metadata": {
    "collapsed": false
   },
   "outputs": [
    {
     "name": "stdout",
     "output_type": "stream",
     "text": [
      "{u'probability': {u'neg': 0.2906053804130494, u'neutral': 0.15976275669851123, u'pos': 0.7093946195869506}, u'label': u'pos'}\n"
     ]
    }
   ],
   "source": [
    "# more complicated request\n",
    "\n",
    "# HEADERS tell the API (or website) the type of system attempting the request\n",
    "# DATA tells the API (or website) any pertinent info needed to make the request\n",
    "# it is up to whoever wrote the API how access keys are passed in\n",
    "\n",
    "url = \"https://japerk-text-processing.p.mashape.com/sentiment/\"\n",
    "headers ={\n",
    "        \"X-Mashape-Key\": mashape_key,\n",
    "        \"Content-Type\": \"application/x-www-form-urlencoded\"\n",
    "        }\n",
    "data={\n",
    "        \"language\": \"english\",\n",
    "        \"text\": \"I love it!\"\n",
    "        }\n",
    "\n",
    "print requests.post(url, headers = headers, data = data).json()"
   ]
  },
  {
   "cell_type": "code",
   "execution_count": 23,
   "metadata": {
    "collapsed": false
   },
   "outputs": [
    {
     "data": {
      "text/plain": [
       "'\\nExample of API WITH WRAPPER\\ntweepy is the python wrapper for twitter data\\n'"
      ]
     },
     "execution_count": 23,
     "metadata": {},
     "output_type": "execute_result"
    }
   ],
   "source": [
    "'''\n",
    "Example of API WITH WRAPPER\n",
    "tweepy is the python wrapper for twitter data\n",
    "'''"
   ]
  },
  {
   "cell_type": "code",
   "execution_count": 24,
   "metadata": {
    "collapsed": true
   },
   "outputs": [],
   "source": [
    "\n",
    "import tweepy       # python wrapper for twitter api\n",
    "import json\n",
    "import time"
   ]
  },
  {
   "cell_type": "code",
   "execution_count": 25,
   "metadata": {
    "collapsed": false
   },
   "outputs": [],
   "source": [
    "tag = 'aapl'\n",
    "\n",
    "# Documentation is your friend! http://docs.tweepy.org/en/v3.1.0/\n",
    "auth = tweepy.OAuthHandler(api_key, api_secret)\n",
    "auth.set_access_token(access_token, access_secret)\n",
    "api = tweepy.API(auth) # returns a tweepy authorization handler object\n",
    "tweets = api.search(q=tag)"
   ]
  },
  {
   "cell_type": "code",
   "execution_count": 36,
   "metadata": {
    "collapsed": false
   },
   "outputs": [
    {
     "data": {
      "text/plain": [
       "Status(contributors=None, truncated=False, text=u'Apple Stock Price: 109.47 #apple $AAPL', is_quote_status=False, in_reply_to_status_id=None, id=718121193916727296, favorite_count=0, _api=<tweepy.api.API object at 0x10f5fb650>, author=User(follow_request_sent=False, has_extended_profile=False, profile_use_background_image=False, _json={u'follow_request_sent': False, u'has_extended_profile': False, u'profile_use_background_image': False, u'default_profile_image': False, u'id': 3374613730, u'profile_background_image_url_https': u'https://abs.twimg.com/images/themes/theme1/bg.png', u'verified': False, u'profile_text_color': u'000000', u'profile_image_url_https': u'https://pbs.twimg.com/profile_images/620690331416178688/lzrH--bM_normal.jpg', u'profile_sidebar_fill_color': u'000000', u'entities': {u'url': {u'urls': [{u'url': u'http://t.co/tPbBd0tAlH', u'indices': [0, 22], u'expanded_url': u'http://www.google.co.uk/finance?q=NASDAQ%3AAAPL', u'display_url': u'google.co.uk/finance?q=NASD\\u2026'}]}, u'description': {u'urls': []}}, u'followers_count': 29, u'profile_sidebar_border_color': u'000000', u'id_str': u'3374613730', u'profile_background_color': u'000000', u'listed_count': 8, u'is_translation_enabled': False, u'utc_offset': None, u'statuses_count': 1347, u'description': u'Follow to get the latest $AAPL price in your feed every hour. Powered by @Flutter_HQ #apple', u'friends_count': 19, u'location': u'', u'profile_link_color': u'ABB8C2', u'profile_image_url': u'http://pbs.twimg.com/profile_images/620690331416178688/lzrH--bM_normal.jpg', u'following': False, u'geo_enabled': False, u'profile_background_image_url': u'http://abs.twimg.com/images/themes/theme1/bg.png', u'screen_name': u'AppleStockPrice', u'lang': u'en', u'profile_background_tile': False, u'favourites_count': 1, u'name': u'Apple Stock Price', u'notifications': False, u'url': u'http://t.co/tPbBd0tAlH', u'created_at': u'Mon Jul 13 20:17:47 +0000 2015', u'contributors_enabled': False, u'time_zone': None, u'protected': False, u'default_profile': False, u'is_translator': False}, time_zone=None, id=3374613730, _api=<tweepy.api.API object at 0x10f5fb650>, verified=False, profile_text_color=u'000000', profile_image_url_https=u'https://pbs.twimg.com/profile_images/620690331416178688/lzrH--bM_normal.jpg', profile_sidebar_fill_color=u'000000', is_translator=False, geo_enabled=False, entities={u'url': {u'urls': [{u'url': u'http://t.co/tPbBd0tAlH', u'indices': [0, 22], u'expanded_url': u'http://www.google.co.uk/finance?q=NASDAQ%3AAAPL', u'display_url': u'google.co.uk/finance?q=NASD\\u2026'}]}, u'description': {u'urls': []}}, followers_count=29, protected=False, id_str=u'3374613730', default_profile_image=False, listed_count=8, lang=u'en', utc_offset=None, statuses_count=1347, description=u'Follow to get the latest $AAPL price in your feed every hour. Powered by @Flutter_HQ #apple', friends_count=19, profile_link_color=u'ABB8C2', profile_image_url=u'http://pbs.twimg.com/profile_images/620690331416178688/lzrH--bM_normal.jpg', notifications=False, profile_background_image_url_https=u'https://abs.twimg.com/images/themes/theme1/bg.png', profile_background_color=u'000000', profile_background_image_url=u'http://abs.twimg.com/images/themes/theme1/bg.png', name=u'Apple Stock Price', is_translation_enabled=False, profile_background_tile=False, favourites_count=1, screen_name=u'AppleStockPrice', url=u'http://t.co/tPbBd0tAlH', created_at=datetime.datetime(2015, 7, 13, 20, 17, 47), contributors_enabled=False, location=u'', profile_sidebar_border_color=u'000000', default_profile=False, following=False), _json={u'contributors': None, u'truncated': False, u'text': u'Apple Stock Price: 109.47 #apple $AAPL', u'is_quote_status': False, u'in_reply_to_status_id': None, u'id': 718121193916727296, u'favorite_count': 0, u'entities': {u'symbols': [{u'indices': [33, 38], u'text': u'AAPL'}], u'user_mentions': [], u'hashtags': [{u'indices': [26, 32], u'text': u'apple'}], u'urls': []}, u'retweeted': False, u'coordinates': None, u'source': u'<a href=\"https://flutter.social\" rel=\"nofollow\">Flutter_HQ</a>', u'in_reply_to_screen_name': None, u'in_reply_to_user_id': None, u'retweet_count': 0, u'id_str': u'718121193916727296', u'favorited': False, u'user': {u'follow_request_sent': False, u'has_extended_profile': False, u'profile_use_background_image': False, u'default_profile_image': False, u'id': 3374613730, u'profile_background_image_url_https': u'https://abs.twimg.com/images/themes/theme1/bg.png', u'verified': False, u'profile_text_color': u'000000', u'profile_image_url_https': u'https://pbs.twimg.com/profile_images/620690331416178688/lzrH--bM_normal.jpg', u'profile_sidebar_fill_color': u'000000', u'entities': {u'url': {u'urls': [{u'url': u'http://t.co/tPbBd0tAlH', u'indices': [0, 22], u'expanded_url': u'http://www.google.co.uk/finance?q=NASDAQ%3AAAPL', u'display_url': u'google.co.uk/finance?q=NASD\\u2026'}]}, u'description': {u'urls': []}}, u'followers_count': 29, u'profile_sidebar_border_color': u'000000', u'id_str': u'3374613730', u'profile_background_color': u'000000', u'listed_count': 8, u'is_translation_enabled': False, u'utc_offset': None, u'statuses_count': 1347, u'description': u'Follow to get the latest $AAPL price in your feed every hour. Powered by @Flutter_HQ #apple', u'friends_count': 19, u'location': u'', u'profile_link_color': u'ABB8C2', u'profile_image_url': u'http://pbs.twimg.com/profile_images/620690331416178688/lzrH--bM_normal.jpg', u'following': False, u'geo_enabled': False, u'profile_background_image_url': u'http://abs.twimg.com/images/themes/theme1/bg.png', u'screen_name': u'AppleStockPrice', u'lang': u'en', u'profile_background_tile': False, u'favourites_count': 1, u'name': u'Apple Stock Price', u'notifications': False, u'url': u'http://t.co/tPbBd0tAlH', u'created_at': u'Mon Jul 13 20:17:47 +0000 2015', u'contributors_enabled': False, u'time_zone': None, u'protected': False, u'default_profile': False, u'is_translator': False}, u'geo': None, u'in_reply_to_user_id_str': None, u'lang': u'en', u'created_at': u'Thu Apr 07 17:00:09 +0000 2016', u'in_reply_to_status_id_str': None, u'place': None, u'metadata': {u'iso_language_code': u'en', u'result_type': u'recent'}}, coordinates=None, entities={u'symbols': [{u'indices': [33, 38], u'text': u'AAPL'}], u'user_mentions': [], u'hashtags': [{u'indices': [26, 32], u'text': u'apple'}], u'urls': []}, in_reply_to_screen_name=None, id_str=u'718121193916727296', retweet_count=0, in_reply_to_user_id=None, favorited=False, source_url=u'https://flutter.social', user=User(follow_request_sent=False, has_extended_profile=False, profile_use_background_image=False, _json={u'follow_request_sent': False, u'has_extended_profile': False, u'profile_use_background_image': False, u'default_profile_image': False, u'id': 3374613730, u'profile_background_image_url_https': u'https://abs.twimg.com/images/themes/theme1/bg.png', u'verified': False, u'profile_text_color': u'000000', u'profile_image_url_https': u'https://pbs.twimg.com/profile_images/620690331416178688/lzrH--bM_normal.jpg', u'profile_sidebar_fill_color': u'000000', u'entities': {u'url': {u'urls': [{u'url': u'http://t.co/tPbBd0tAlH', u'indices': [0, 22], u'expanded_url': u'http://www.google.co.uk/finance?q=NASDAQ%3AAAPL', u'display_url': u'google.co.uk/finance?q=NASD\\u2026'}]}, u'description': {u'urls': []}}, u'followers_count': 29, u'profile_sidebar_border_color': u'000000', u'id_str': u'3374613730', u'profile_background_color': u'000000', u'listed_count': 8, u'is_translation_enabled': False, u'utc_offset': None, u'statuses_count': 1347, u'description': u'Follow to get the latest $AAPL price in your feed every hour. Powered by @Flutter_HQ #apple', u'friends_count': 19, u'location': u'', u'profile_link_color': u'ABB8C2', u'profile_image_url': u'http://pbs.twimg.com/profile_images/620690331416178688/lzrH--bM_normal.jpg', u'following': False, u'geo_enabled': False, u'profile_background_image_url': u'http://abs.twimg.com/images/themes/theme1/bg.png', u'screen_name': u'AppleStockPrice', u'lang': u'en', u'profile_background_tile': False, u'favourites_count': 1, u'name': u'Apple Stock Price', u'notifications': False, u'url': u'http://t.co/tPbBd0tAlH', u'created_at': u'Mon Jul 13 20:17:47 +0000 2015', u'contributors_enabled': False, u'time_zone': None, u'protected': False, u'default_profile': False, u'is_translator': False}, time_zone=None, id=3374613730, _api=<tweepy.api.API object at 0x10f5fb650>, verified=False, profile_text_color=u'000000', profile_image_url_https=u'https://pbs.twimg.com/profile_images/620690331416178688/lzrH--bM_normal.jpg', profile_sidebar_fill_color=u'000000', is_translator=False, geo_enabled=False, entities={u'url': {u'urls': [{u'url': u'http://t.co/tPbBd0tAlH', u'indices': [0, 22], u'expanded_url': u'http://www.google.co.uk/finance?q=NASDAQ%3AAAPL', u'display_url': u'google.co.uk/finance?q=NASD\\u2026'}]}, u'description': {u'urls': []}}, followers_count=29, protected=False, id_str=u'3374613730', default_profile_image=False, listed_count=8, lang=u'en', utc_offset=None, statuses_count=1347, description=u'Follow to get the latest $AAPL price in your feed every hour. Powered by @Flutter_HQ #apple', friends_count=19, profile_link_color=u'ABB8C2', profile_image_url=u'http://pbs.twimg.com/profile_images/620690331416178688/lzrH--bM_normal.jpg', notifications=False, profile_background_image_url_https=u'https://abs.twimg.com/images/themes/theme1/bg.png', profile_background_color=u'000000', profile_background_image_url=u'http://abs.twimg.com/images/themes/theme1/bg.png', name=u'Apple Stock Price', is_translation_enabled=False, profile_background_tile=False, favourites_count=1, screen_name=u'AppleStockPrice', url=u'http://t.co/tPbBd0tAlH', created_at=datetime.datetime(2015, 7, 13, 20, 17, 47), contributors_enabled=False, location=u'', profile_sidebar_border_color=u'000000', default_profile=False, following=False), geo=None, in_reply_to_user_id_str=None, lang=u'en', created_at=datetime.datetime(2016, 4, 7, 17, 0, 9), in_reply_to_status_id_str=None, place=None, source=u'Flutter_HQ', retweeted=False, metadata={u'iso_language_code': u'en', u'result_type': u'recent'})"
      ]
     },
     "execution_count": 36,
     "metadata": {},
     "output_type": "execute_result"
    }
   ],
   "source": [
    "# let's take a look at the first one\n",
    "tweets[0]"
   ]
  },
  {
   "cell_type": "code",
   "execution_count": 29,
   "metadata": {
    "collapsed": false
   },
   "outputs": [
    {
     "name": "stdout",
     "output_type": "stream",
     "text": [
      "2016-04-08 03:41:09\n",
      "$SPY 2morrow is going 2B Bear-u-tiful! Bulls BETTER cash out!! $SPX $QQQ  $ES_F $IWM $DJIA $AAPL $GOOGL $GS $USO $FB https://t.co/pJM7TGoHJX\n"
     ]
    }
   ],
   "source": [
    "# wrappers come with built in python attributes and methods!\n",
    "print tweets[0].created_at\n",
    "print tweets[0].text"
   ]
  },
  {
   "cell_type": "code",
   "execution_count": 38,
   "metadata": {
    "collapsed": false
   },
   "outputs": [
    {
     "data": {
      "text/plain": [
       "User(follow_request_sent=False, has_extended_profile=False, profile_use_background_image=False, _json={u'follow_request_sent': False, u'has_extended_profile': False, u'profile_use_background_image': False, u'default_profile_image': False, u'id': 3374613730, u'profile_background_image_url_https': u'https://abs.twimg.com/images/themes/theme1/bg.png', u'verified': False, u'profile_text_color': u'000000', u'profile_image_url_https': u'https://pbs.twimg.com/profile_images/620690331416178688/lzrH--bM_normal.jpg', u'profile_sidebar_fill_color': u'000000', u'entities': {u'url': {u'urls': [{u'url': u'http://t.co/tPbBd0tAlH', u'indices': [0, 22], u'expanded_url': u'http://www.google.co.uk/finance?q=NASDAQ%3AAAPL', u'display_url': u'google.co.uk/finance?q=NASD\\u2026'}]}, u'description': {u'urls': []}}, u'followers_count': 29, u'profile_sidebar_border_color': u'000000', u'id_str': u'3374613730', u'profile_background_color': u'000000', u'listed_count': 8, u'is_translation_enabled': False, u'utc_offset': None, u'statuses_count': 1347, u'description': u'Follow to get the latest $AAPL price in your feed every hour. Powered by @Flutter_HQ #apple', u'friends_count': 19, u'location': u'', u'profile_link_color': u'ABB8C2', u'profile_image_url': u'http://pbs.twimg.com/profile_images/620690331416178688/lzrH--bM_normal.jpg', u'following': False, u'geo_enabled': False, u'profile_background_image_url': u'http://abs.twimg.com/images/themes/theme1/bg.png', u'screen_name': u'AppleStockPrice', u'lang': u'en', u'profile_background_tile': False, u'favourites_count': 1, u'name': u'Apple Stock Price', u'notifications': False, u'url': u'http://t.co/tPbBd0tAlH', u'created_at': u'Mon Jul 13 20:17:47 +0000 2015', u'contributors_enabled': False, u'time_zone': None, u'protected': False, u'default_profile': False, u'is_translator': False}, time_zone=None, id=3374613730, _api=<tweepy.api.API object at 0x10f5fb650>, verified=False, profile_text_color=u'000000', profile_image_url_https=u'https://pbs.twimg.com/profile_images/620690331416178688/lzrH--bM_normal.jpg', profile_sidebar_fill_color=u'000000', is_translator=False, geo_enabled=False, entities={u'url': {u'urls': [{u'url': u'http://t.co/tPbBd0tAlH', u'indices': [0, 22], u'expanded_url': u'http://www.google.co.uk/finance?q=NASDAQ%3AAAPL', u'display_url': u'google.co.uk/finance?q=NASD\\u2026'}]}, u'description': {u'urls': []}}, followers_count=29, protected=False, id_str=u'3374613730', default_profile_image=False, listed_count=8, lang=u'en', utc_offset=None, statuses_count=1347, description=u'Follow to get the latest $AAPL price in your feed every hour. Powered by @Flutter_HQ #apple', friends_count=19, profile_link_color=u'ABB8C2', profile_image_url=u'http://pbs.twimg.com/profile_images/620690331416178688/lzrH--bM_normal.jpg', notifications=False, profile_background_image_url_https=u'https://abs.twimg.com/images/themes/theme1/bg.png', profile_background_color=u'000000', profile_background_image_url=u'http://abs.twimg.com/images/themes/theme1/bg.png', name=u'Apple Stock Price', is_translation_enabled=False, profile_background_tile=False, favourites_count=1, screen_name=u'AppleStockPrice', url=u'http://t.co/tPbBd0tAlH', created_at=datetime.datetime(2015, 7, 13, 20, 17, 47), contributors_enabled=False, location=u'', profile_sidebar_border_color=u'000000', default_profile=False, following=False)"
      ]
     },
     "execution_count": 38,
     "metadata": {},
     "output_type": "execute_result"
    }
   ],
   "source": [
    "# the author is an object in and of itself\n",
    "tweets[0].author"
   ]
  },
  {
   "cell_type": "code",
   "execution_count": 31,
   "metadata": {
    "collapsed": false
   },
   "outputs": [
    {
     "name": "stdout",
     "output_type": "stream",
     "text": [
      "420WeedStreet\n",
      "http://pbs.twimg.com/profile_images/590496287658676224/jw7b-HVM_normal.jpg\n"
     ]
    }
   ],
   "source": [
    "# the author's handle\n",
    "print tweets[0].author.screen_name\n",
    "print tweets[0].author.profile_image_url"
   ]
  },
  {
   "cell_type": "markdown",
   "metadata": {},
   "source": [
    "<img src=\"http://pbs.twimg.com/profile_images/620690331416178688/lzrH--bM_normal.jpg\">"
   ]
  },
  {
   "cell_type": "code",
   "execution_count": 85,
   "metadata": {
    "collapsed": false
   },
   "outputs": [
    {
     "name": "stdout",
     "output_type": "stream",
     "text": [
      "beginning live feed....\n",
      "@iParisMD at 2016-04-07 09:16:06: RT @diegoluna_: The teaser is out! So exciting!!  https://t.co/2UjUXus9sc with 90 followers\n",
      "\n",
      "@vinizviana at 2016-04-07 09:16:07: RT @omelete: [OmeleTV] Agora, a surpresa final e discreta: DARTH VADER EST SIM NO TRAILER! #RogueOne https://t.co/5gFFVGCPSe with 799 followers\n",
      "\n",
      "@omgcantbreathe at 2016-04-07 09:16:07: any person whining that Star Wars is having awesome female leads can go cuddle a dianoga #rogueone with 626 followers\n",
      "\n",
      "@potentialKEN at 2016-04-07 09:16:07: #ROGUEONE teaser trailer looks like #Disney is doubling down on the idea that #STARWARS is for #girls too! #feminism https://t.co/ybLmIWZaEL with 1339 followers\n",
      "\n",
      "@mstaylorjordan at 2016-04-07 09:16:07: RT @starwars: \"I rebel.\" #RogueOne https://t.co/boMhrarHXV with 476 followers\n",
      "\n",
      "@Krelian29 at 2016-04-07 09:16:07: Star Wars Rogue One main villain ? #starwars #rogueone #starwarsrogueone #empire https://t.co/Cx0VseahDV with 84 followers\n",
      "\n",
      "@love_celeste1 at 2016-04-07 09:16:07: RT @deezytho: Starbucks  with 1776 followers\n",
      "\n",
      "@davidj_1914 at 2016-04-07 09:16:07: #StarWars releases a trailer and within hours they are trending world wide....brand power #StarWarsRogueOne #RogueOne #RogueOneTrailer with 293 followers\n",
      "\n",
      "@JessicaHickson at 2016-04-07 09:16:07: RT @abbigail_tracy: MTSU Students: RT for a chance to win a $15 Starbucks or Toots gift card, and vote for me for your Senator at Large! ht with 200 followers\n",
      "\n",
      "@chrisrussell81 at 2016-04-07 09:16:08: RT @cperrin24: YES!! https://t.co/ZVS4DABzUc with 77 followers\n",
      "\n",
      "@FrancoGabrielli at 2016-04-07 09:16:08: RT @starwars: \"I rebel.\" #RogueOne https://t.co/boMhrarHXV with 91 followers\n",
      "\n",
      "@dougalgodfrey at 2016-04-07 09:16:08: @ArtSinclair I hope that was a registered service dog! @Starbucks with 526 followers\n",
      "\n",
      "@JanzSkywalker at 2016-04-07 09:16:08: RT @starwars: \"I rebel.\" #RogueOne https://t.co/boMhrarHXV with 130 followers\n",
      "\n",
      "@TheLadonegro at 2016-04-07 09:16:08: Falar o que dessa crush no Star Wars Rogue One? shuahsau https://t.co/GaonfewEms with 201 followers\n",
      "\n",
      "@Peacelovechai at 2016-04-07 09:16:08: Anyone who hasn't seen the #RogueOne trailer should watch the #RogueOneTrailer a dozen times.  https://t.co/GgT6dv77gU with 483 followers\n",
      "\n",
      "@danielagranell at 2016-04-07 09:16:08: RT @starwars: Its here. The official teaser trailer for ROGUE ONE: A STAR WARS STORY. #RogueOne\n",
      "https://t.co/xRvI5eVapf with 403 followers\n",
      "\n",
      "@TinentColomb at 2016-04-07 09:16:09: RT @starwars: \"I rebel.\" #RogueOne https://t.co/boMhrarHXV with 107 followers\n",
      "\n",
      "@Tommy_Blackjack at 2016-04-07 09:16:09: RT @starwars: \"I rebel.\" #RogueOne https://t.co/boMhrarHXV with 300 followers\n",
      "\n",
      "@thisjohnd at 2016-04-07 09:16:09: RT @srDAVIDLAFUENTE: THIS IS A REBELLION, ISN'T IT? https://t.co/LucSD1Y0mV #RogueOne https://t.co/2Yq4FFaxKK with 51 followers\n",
      "\n",
      "@JimmSk8 at 2016-04-07 09:16:09: RT @starwars: Its here. The official teaser trailer for ROGUE ONE: A STAR WARS STORY. #RogueOne\n",
      "https://t.co/xRvI5eVapf with 1307 followers\n",
      "\n",
      "@supermansteel34 at 2016-04-07 09:16:09: RT @diegoluna_: The teaser is out! So exciting!!  https://t.co/2UjUXus9sc with 626 followers\n",
      "\n",
      "@thiscozyskull at 2016-04-07 09:16:09: RT @TheGeoffTodd: ! = You're excited.\n",
      "!! = You're really excited.\n",
      "!!! = You don't understand punctuation.\n",
      "!!!! = You just watched the #Rogu with 89 followers\n",
      "\n",
      "@kingb10161 at 2016-04-07 09:16:09: RT @starwars: Its here. The official teaser trailer for ROGUE ONE: A STAR WARS STORY. #RogueOne\n",
      "https://t.co/xRvI5eVapf with 100 followers\n",
      "\n",
      "@pulpfable at 2016-04-07 09:16:10: RT @starwars: Its here. The official teaser trailer for ROGUE ONE: A STAR WARS STORY. #RogueOne\n",
      "https://t.co/xRvI5eVapf with 673 followers\n",
      "\n",
      "@halavance at 2016-04-07 09:16:10: RT @starwars: Its here. The official teaser trailer for ROGUE ONE: A STAR WARS STORY. #RogueOne\n",
      "https://t.co/xRvI5eVapf with 105 followers\n",
      "\n",
      "@julianw1978 at 2016-04-07 09:16:10: RT @starwars: Its here. The official teaser trailer for ROGUE ONE: A STAR WARS STORY. #RogueOne\n",
      "https://t.co/xRvI5eVapf with 329 followers\n",
      "\n",
      "@TheTrollzYT at 2016-04-07 09:16:10: RT @turnt_bb8: Me attempting to wait patiently for December so I can see #RogueOne https://t.co/eIwNns0gHn with 261 followers\n",
      "\n",
      "@noa_yesk at 2016-04-07 09:16:10: RT @starwars: Its here. The official teaser trailer for ROGUE ONE: A STAR WARS STORY. #RogueOne\n",
      "https://t.co/xRvI5eVapf with 190 followers\n",
      "\n",
      "@rickelodeon_ at 2016-04-07 09:16:10: RT @starwars: \"I rebel.\" #RogueOne https://t.co/boMhrarHXV with 154 followers\n",
      "\n",
      "@shanejenk_SJ5 at 2016-04-07 09:16:10: RT @starwars: Its here. The official teaser trailer for ROGUE ONE: A STAR WARS STORY. #RogueOne\n",
      "https://t.co/xRvI5eVapf with 366 followers\n",
      "\n",
      "@marianadiasb at 2016-04-07 09:16:10: RT @omelete: [OmeleTV] Agora, a surpresa final e discreta: DARTH VADER EST SIM NO TRAILER! #RogueOne https://t.co/5gFFVGCPSe with 476 followers\n",
      "\n",
      "@capitaoinvernal at 2016-04-07 09:16:10: RT @Cinemark: Watch the brand new teaser trailer for ROGUE ONE: A STAR WARS STORY - coming to Cinemark this December! https://t.co/qojuIqBU with 755 followers\n",
      "\n",
      "@DavidKantrowitz at 2016-04-07 09:16:10: I'm sure I'll get sick of movies with Death Stars in them eventually, but for now HOLY SHIT #RogueOne !!!!! with 1315 followers\n",
      "\n",
      "@osadollor1 at 2016-04-07 09:16:11: RT @EmekaGift: @FODEastLothian,How Pro-Biafra Activists Were Murdered And Dumped At Onitsha Mortuary By Nigerian Soldiers https://t.co/HK7A with 88 followers\n",
      "\n",
      "@KyKy524 at 2016-04-07 09:16:11: RT @BadFatherHan: I'm going to freeze myself in carbonite until #RogueOne comes out. https://t.co/SSgqqaPloG with 238 followers\n",
      "\n",
      "@VoodooRoo556 at 2016-04-07 09:16:11: Can we have one major movie release without a question of racism or sexism? Please? #RogueOne #StarWars with 62 followers\n",
      "\n",
      "@ricardoautobahn at 2016-04-07 09:16:11: RT @Mumbler3: Laughing at the menbabies again. Do you do this when women are in anything? Oh yes. Course you do. #rogueone with 629 followers\n",
      "\n",
      "@t_eggplant at 2016-04-07 09:16:11: RT @starwars: Tune in to @GMA tomorrow for the debut of the brand new teaser trailer for ROGUE ONE: A STAR WARS STORY. #RogueOne\n",
      "https://t. with 126 followers\n",
      "\n",
      "@EAPhoneHome at 2016-04-07 09:16:11: That #RogueOne trailer is 70s as fuck! #SoPumped with 92 followers\n",
      "\n",
      "@a24dowell at 2016-04-07 09:16:11: @SD_JimmyFisher I call bro date in December https://t.co/aS0sFQIyAY with 404 followers\n",
      "\n",
      "@JERRY_RY2 at 2016-04-07 09:16:12: RT @starwars: \"I rebel.\" #RogueOne https://t.co/boMhrarHXV with 36 followers\n",
      "\n",
      "@FatimaAR33 at 2016-04-07 09:16:12: #Margaritaville AD3100 Glass Jar for DM2000 Series - NEW IN BOX  #WorldHealthDay #RogueOne #Mashable #Meek\n",
      "https://t.co/gRcHdnTsZn via @eBay with 470 followers\n",
      "\n",
      "@vaporvinyls at 2016-04-07 09:16:12: the next katniss everdeen https://t.co/I7YDkvNVZU with 2459 followers\n",
      "\n",
      "@Nubysh at 2016-04-07 09:16:12: RT @peopleschoice: The Star Wars Trailer For #RogueOne Is Finally Here, And Well Be Watching It On Repeat: https://t.co/5oLy9p8sOv https with 122 followers\n",
      "\n",
      "@SW_ArtGallery at 2016-04-07 09:16:11: \"Star Wars Rogue One\" | by @DarthTemoc #StarWars #RogueOne #fanart https://t.co/M1iK1fjCfh with 707 followers\n",
      "\n",
      "@ant3YT94 at 2016-04-07 09:16:12: RT @IGN: Star Wars: Who is Jyn Erso? #RogueOne https://t.co/N5FAqz7sSQ https://t.co/ffTEYjSJaA with 999 followers\n",
      "\n",
      "@_reeyees at 2016-04-07 09:16:12: RT @starwars: Its here. The official teaser trailer for ROGUE ONE: A STAR WARS STORY. #RogueOne\n",
      "https://t.co/xRvI5eVapf with 178 followers\n",
      "\n",
      "@_nathy at 2016-04-07 09:16:12: RT @starwars: \"I rebel.\" #RogueOne https://t.co/boMhrarHXV with 1165 followers\n",
      "\n",
      "@afisch01 at 2016-04-07 09:16:12: @Cyclopaat @Chrisdotfisch PS...I love you both #StarWars #RogueOne #geekout #fangirling with 198 followers\n",
      "\n"
     ]
    },
    {
     "ename": "KeyboardInterrupt",
     "evalue": "",
     "output_type": "error",
     "traceback": [
      "\u001b[0;31m---------------------------------------------------------------------------\u001b[0m",
      "\u001b[0;31mKeyboardInterrupt\u001b[0m                         Traceback (most recent call last)",
      "\u001b[0;32m<ipython-input-85-d9191b55bd2d>\u001b[0m in \u001b[0;36m<module>\u001b[0;34m()\u001b[0m\n\u001b[1;32m     29\u001b[0m     \u001b[0mstream\u001b[0m\u001b[0;34m.\u001b[0m\u001b[0mfilter\u001b[0m\u001b[0;34m(\u001b[0m\u001b[0mtrack\u001b[0m\u001b[0;34m=\u001b[0m\u001b[0mtags_to_follow\u001b[0m\u001b[0;34m)\u001b[0m\u001b[0;34m\u001b[0m\u001b[0m\n\u001b[1;32m     30\u001b[0m \u001b[0;34m\u001b[0m\u001b[0m\n\u001b[0;32m---> 31\u001b[0;31m \u001b[0mbegin_live_feed\u001b[0m\u001b[0;34m(\u001b[0m\u001b[0;34m[\u001b[0m\u001b[0;34m'#rogueone'\u001b[0m\u001b[0;34m,\u001b[0m \u001b[0;34m'starbucks'\u001b[0m\u001b[0;34m]\u001b[0m\u001b[0;34m)\u001b[0m\u001b[0;34m\u001b[0m\u001b[0m\n\u001b[0m\u001b[1;32m     32\u001b[0m \u001b[0;31m# this is an example use, if you create a list of words and phrases,\u001b[0m\u001b[0;34m\u001b[0m\u001b[0;34m\u001b[0m\u001b[0m\n\u001b[1;32m     33\u001b[0m \u001b[0;31m# a live stream of tweets about them will show up\u001b[0m\u001b[0;34m\u001b[0m\u001b[0;34m\u001b[0m\u001b[0m\n",
      "\u001b[0;32m<ipython-input-85-d9191b55bd2d>\u001b[0m in \u001b[0;36mbegin_live_feed\u001b[0;34m(tags_to_follow)\u001b[0m\n\u001b[1;32m     27\u001b[0m     \u001b[0mauth\u001b[0m\u001b[0;34m.\u001b[0m\u001b[0mset_access_token\u001b[0m\u001b[0;34m(\u001b[0m\u001b[0maccess_token\u001b[0m\u001b[0;34m,\u001b[0m \u001b[0maccess_secret\u001b[0m\u001b[0;34m)\u001b[0m\u001b[0;34m\u001b[0m\u001b[0m\n\u001b[1;32m     28\u001b[0m     \u001b[0mstream\u001b[0m \u001b[0;34m=\u001b[0m \u001b[0mtweepy\u001b[0m\u001b[0;34m.\u001b[0m\u001b[0mStream\u001b[0m\u001b[0;34m(\u001b[0m\u001b[0mauth\u001b[0m\u001b[0;34m,\u001b[0m \u001b[0ml\u001b[0m\u001b[0;34m)\u001b[0m\u001b[0;34m\u001b[0m\u001b[0m\n\u001b[0;32m---> 29\u001b[0;31m     \u001b[0mstream\u001b[0m\u001b[0;34m.\u001b[0m\u001b[0mfilter\u001b[0m\u001b[0;34m(\u001b[0m\u001b[0mtrack\u001b[0m\u001b[0;34m=\u001b[0m\u001b[0mtags_to_follow\u001b[0m\u001b[0;34m)\u001b[0m\u001b[0;34m\u001b[0m\u001b[0m\n\u001b[0m\u001b[1;32m     30\u001b[0m \u001b[0;34m\u001b[0m\u001b[0m\n\u001b[1;32m     31\u001b[0m \u001b[0mbegin_live_feed\u001b[0m\u001b[0;34m(\u001b[0m\u001b[0;34m[\u001b[0m\u001b[0;34m'#rogueone'\u001b[0m\u001b[0;34m,\u001b[0m \u001b[0;34m'starbucks'\u001b[0m\u001b[0;34m]\u001b[0m\u001b[0;34m)\u001b[0m\u001b[0;34m\u001b[0m\u001b[0m\n",
      "\u001b[0;32m/Library/Frameworks/Python.framework/Versions/2.7/lib/python2.7/site-packages/tweepy/streaming.pyc\u001b[0m in \u001b[0;36mfilter\u001b[0;34m(self, follow, track, async, locations, stall_warnings, languages, encoding)\u001b[0m\n\u001b[1;32m    426\u001b[0m         \u001b[0mself\u001b[0m\u001b[0;34m.\u001b[0m\u001b[0msession\u001b[0m\u001b[0;34m.\u001b[0m\u001b[0mparams\u001b[0m \u001b[0;34m=\u001b[0m \u001b[0;34m{\u001b[0m\u001b[0;34m'delimited'\u001b[0m\u001b[0;34m:\u001b[0m \u001b[0;34m'length'\u001b[0m\u001b[0;34m}\u001b[0m\u001b[0;34m\u001b[0m\u001b[0m\n\u001b[1;32m    427\u001b[0m         \u001b[0mself\u001b[0m\u001b[0;34m.\u001b[0m\u001b[0mhost\u001b[0m \u001b[0;34m=\u001b[0m \u001b[0;34m'stream.twitter.com'\u001b[0m\u001b[0;34m\u001b[0m\u001b[0m\n\u001b[0;32m--> 428\u001b[0;31m         \u001b[0mself\u001b[0m\u001b[0;34m.\u001b[0m\u001b[0m_start\u001b[0m\u001b[0;34m(\u001b[0m\u001b[0masync\u001b[0m\u001b[0;34m)\u001b[0m\u001b[0;34m\u001b[0m\u001b[0m\n\u001b[0m\u001b[1;32m    429\u001b[0m \u001b[0;34m\u001b[0m\u001b[0m\n\u001b[1;32m    430\u001b[0m     def sitestream(self, follow, stall_warnings=False,\n",
      "\u001b[0;32m/Library/Frameworks/Python.framework/Versions/2.7/lib/python2.7/site-packages/tweepy/streaming.pyc\u001b[0m in \u001b[0;36m_start\u001b[0;34m(self, async)\u001b[0m\n\u001b[1;32m    344\u001b[0m             \u001b[0mself\u001b[0m\u001b[0;34m.\u001b[0m\u001b[0m_thread\u001b[0m\u001b[0;34m.\u001b[0m\u001b[0mstart\u001b[0m\u001b[0;34m(\u001b[0m\u001b[0;34m)\u001b[0m\u001b[0;34m\u001b[0m\u001b[0m\n\u001b[1;32m    345\u001b[0m         \u001b[0;32melse\u001b[0m\u001b[0;34m:\u001b[0m\u001b[0;34m\u001b[0m\u001b[0m\n\u001b[0;32m--> 346\u001b[0;31m             \u001b[0mself\u001b[0m\u001b[0;34m.\u001b[0m\u001b[0m_run\u001b[0m\u001b[0;34m(\u001b[0m\u001b[0;34m)\u001b[0m\u001b[0;34m\u001b[0m\u001b[0m\n\u001b[0m\u001b[1;32m    347\u001b[0m \u001b[0;34m\u001b[0m\u001b[0m\n\u001b[1;32m    348\u001b[0m     \u001b[0;32mdef\u001b[0m \u001b[0mon_closed\u001b[0m\u001b[0;34m(\u001b[0m\u001b[0mself\u001b[0m\u001b[0;34m,\u001b[0m \u001b[0mresp\u001b[0m\u001b[0;34m)\u001b[0m\u001b[0;34m:\u001b[0m\u001b[0;34m\u001b[0m\u001b[0m\n",
      "\u001b[0;32m/Library/Frameworks/Python.framework/Versions/2.7/lib/python2.7/site-packages/tweepy/streaming.pyc\u001b[0m in \u001b[0;36m_run\u001b[0;34m(self)\u001b[0m\n\u001b[1;32m    253\u001b[0m                     \u001b[0mself\u001b[0m\u001b[0;34m.\u001b[0m\u001b[0msnooze_time\u001b[0m \u001b[0;34m=\u001b[0m \u001b[0mself\u001b[0m\u001b[0;34m.\u001b[0m\u001b[0msnooze_time_step\u001b[0m\u001b[0;34m\u001b[0m\u001b[0m\n\u001b[1;32m    254\u001b[0m                     \u001b[0mself\u001b[0m\u001b[0;34m.\u001b[0m\u001b[0mlistener\u001b[0m\u001b[0;34m.\u001b[0m\u001b[0mon_connect\u001b[0m\u001b[0;34m(\u001b[0m\u001b[0;34m)\u001b[0m\u001b[0;34m\u001b[0m\u001b[0m\n\u001b[0;32m--> 255\u001b[0;31m                     \u001b[0mself\u001b[0m\u001b[0;34m.\u001b[0m\u001b[0m_read_loop\u001b[0m\u001b[0;34m(\u001b[0m\u001b[0mresp\u001b[0m\u001b[0;34m)\u001b[0m\u001b[0;34m\u001b[0m\u001b[0m\n\u001b[0m\u001b[1;32m    256\u001b[0m             \u001b[0;32mexcept\u001b[0m \u001b[0;34m(\u001b[0m\u001b[0mTimeout\u001b[0m\u001b[0;34m,\u001b[0m \u001b[0mssl\u001b[0m\u001b[0;34m.\u001b[0m\u001b[0mSSLError\u001b[0m\u001b[0;34m)\u001b[0m \u001b[0;32mas\u001b[0m \u001b[0mexc\u001b[0m\u001b[0;34m:\u001b[0m\u001b[0;34m\u001b[0m\u001b[0m\n\u001b[1;32m    257\u001b[0m                 \u001b[0;31m# This is still necessary, as a SSLError can actually be\u001b[0m\u001b[0;34m\u001b[0m\u001b[0;34m\u001b[0m\u001b[0m\n",
      "\u001b[0;32m/Library/Frameworks/Python.framework/Versions/2.7/lib/python2.7/site-packages/tweepy/streaming.pyc\u001b[0m in \u001b[0;36m_read_loop\u001b[0;34m(self, resp)\u001b[0m\n\u001b[1;32m    296\u001b[0m             \u001b[0mlength\u001b[0m \u001b[0;34m=\u001b[0m \u001b[0;36m0\u001b[0m\u001b[0;34m\u001b[0m\u001b[0m\n\u001b[1;32m    297\u001b[0m             \u001b[0;32mwhile\u001b[0m \u001b[0;32mnot\u001b[0m \u001b[0mresp\u001b[0m\u001b[0;34m.\u001b[0m\u001b[0mraw\u001b[0m\u001b[0;34m.\u001b[0m\u001b[0mclosed\u001b[0m\u001b[0;34m:\u001b[0m\u001b[0;34m\u001b[0m\u001b[0m\n\u001b[0;32m--> 298\u001b[0;31m                 \u001b[0mline\u001b[0m \u001b[0;34m=\u001b[0m \u001b[0mbuf\u001b[0m\u001b[0;34m.\u001b[0m\u001b[0mread_line\u001b[0m\u001b[0;34m(\u001b[0m\u001b[0;34m)\u001b[0m\u001b[0;34m.\u001b[0m\u001b[0mstrip\u001b[0m\u001b[0;34m(\u001b[0m\u001b[0;34m)\u001b[0m\u001b[0;34m\u001b[0m\u001b[0m\n\u001b[0m\u001b[1;32m    299\u001b[0m                 \u001b[0;32mif\u001b[0m \u001b[0;32mnot\u001b[0m \u001b[0mline\u001b[0m\u001b[0;34m:\u001b[0m\u001b[0;34m\u001b[0m\u001b[0m\n\u001b[1;32m    300\u001b[0m                     \u001b[0mself\u001b[0m\u001b[0;34m.\u001b[0m\u001b[0mlistener\u001b[0m\u001b[0;34m.\u001b[0m\u001b[0mkeep_alive\u001b[0m\u001b[0;34m(\u001b[0m\u001b[0;34m)\u001b[0m  \u001b[0;31m# keep-alive new lines are expected\u001b[0m\u001b[0;34m\u001b[0m\u001b[0m\n",
      "\u001b[0;32m/Library/Frameworks/Python.framework/Versions/2.7/lib/python2.7/site-packages/tweepy/streaming.pyc\u001b[0m in \u001b[0;36mread_line\u001b[0;34m(self, sep)\u001b[0m\n\u001b[1;32m    169\u001b[0m             \u001b[0;32melse\u001b[0m\u001b[0;34m:\u001b[0m\u001b[0;34m\u001b[0m\u001b[0m\n\u001b[1;32m    170\u001b[0m                 \u001b[0mstart\u001b[0m \u001b[0;34m=\u001b[0m \u001b[0mlen\u001b[0m\u001b[0;34m(\u001b[0m\u001b[0mself\u001b[0m\u001b[0;34m.\u001b[0m\u001b[0m_buffer\u001b[0m\u001b[0;34m)\u001b[0m\u001b[0;34m\u001b[0m\u001b[0m\n\u001b[0;32m--> 171\u001b[0;31m             \u001b[0mself\u001b[0m\u001b[0;34m.\u001b[0m\u001b[0m_buffer\u001b[0m \u001b[0;34m+=\u001b[0m \u001b[0mself\u001b[0m\u001b[0;34m.\u001b[0m\u001b[0m_stream\u001b[0m\u001b[0;34m.\u001b[0m\u001b[0mread\u001b[0m\u001b[0;34m(\u001b[0m\u001b[0mself\u001b[0m\u001b[0;34m.\u001b[0m\u001b[0m_chunk_size\u001b[0m\u001b[0;34m)\u001b[0m\u001b[0;34m.\u001b[0m\u001b[0mdecode\u001b[0m\u001b[0;34m(\u001b[0m\u001b[0;34m\"ascii\"\u001b[0m\u001b[0;34m)\u001b[0m\u001b[0;34m\u001b[0m\u001b[0m\n\u001b[0m\u001b[1;32m    172\u001b[0m \u001b[0;34m\u001b[0m\u001b[0m\n\u001b[1;32m    173\u001b[0m     \u001b[0;32mdef\u001b[0m \u001b[0m_pop\u001b[0m\u001b[0;34m(\u001b[0m\u001b[0mself\u001b[0m\u001b[0;34m,\u001b[0m \u001b[0mlength\u001b[0m\u001b[0;34m)\u001b[0m\u001b[0;34m:\u001b[0m\u001b[0;34m\u001b[0m\u001b[0m\n",
      "\u001b[0;32m/Library/Frameworks/Python.framework/Versions/2.7/lib/python2.7/site-packages/requests/packages/urllib3/response.pyc\u001b[0m in \u001b[0;36mread\u001b[0;34m(self, amt, decode_content, cache_content)\u001b[0m\n\u001b[1;32m    181\u001b[0m             \u001b[0;32melse\u001b[0m\u001b[0;34m:\u001b[0m\u001b[0;34m\u001b[0m\u001b[0m\n\u001b[1;32m    182\u001b[0m                 \u001b[0mcache_content\u001b[0m \u001b[0;34m=\u001b[0m \u001b[0mFalse\u001b[0m\u001b[0;34m\u001b[0m\u001b[0m\n\u001b[0;32m--> 183\u001b[0;31m                 \u001b[0mdata\u001b[0m \u001b[0;34m=\u001b[0m \u001b[0mself\u001b[0m\u001b[0;34m.\u001b[0m\u001b[0m_fp\u001b[0m\u001b[0;34m.\u001b[0m\u001b[0mread\u001b[0m\u001b[0;34m(\u001b[0m\u001b[0mamt\u001b[0m\u001b[0;34m)\u001b[0m\u001b[0;34m\u001b[0m\u001b[0m\n\u001b[0m\u001b[1;32m    184\u001b[0m                 \u001b[0;32mif\u001b[0m \u001b[0mamt\u001b[0m \u001b[0;34m!=\u001b[0m \u001b[0;36m0\u001b[0m \u001b[0;32mand\u001b[0m \u001b[0;32mnot\u001b[0m \u001b[0mdata\u001b[0m\u001b[0;34m:\u001b[0m  \u001b[0;31m# Platform-specific: Buggy versions of Python.\u001b[0m\u001b[0;34m\u001b[0m\u001b[0m\n\u001b[1;32m    185\u001b[0m                     \u001b[0;31m# Close the connection when no data is returned\u001b[0m\u001b[0;34m\u001b[0m\u001b[0;34m\u001b[0m\u001b[0m\n",
      "\u001b[0;32m/System/Library/Frameworks/Python.framework/Versions/2.7/lib/python2.7/httplib.pyc\u001b[0m in \u001b[0;36mread\u001b[0;34m(self, amt)\u001b[0m\n\u001b[1;32m    586\u001b[0m \u001b[0;34m\u001b[0m\u001b[0m\n\u001b[1;32m    587\u001b[0m         \u001b[0;32mif\u001b[0m \u001b[0mself\u001b[0m\u001b[0;34m.\u001b[0m\u001b[0mchunked\u001b[0m\u001b[0;34m:\u001b[0m\u001b[0;34m\u001b[0m\u001b[0m\n\u001b[0;32m--> 588\u001b[0;31m             \u001b[0;32mreturn\u001b[0m \u001b[0mself\u001b[0m\u001b[0;34m.\u001b[0m\u001b[0m_read_chunked\u001b[0m\u001b[0;34m(\u001b[0m\u001b[0mamt\u001b[0m\u001b[0;34m)\u001b[0m\u001b[0;34m\u001b[0m\u001b[0m\n\u001b[0m\u001b[1;32m    589\u001b[0m \u001b[0;34m\u001b[0m\u001b[0m\n\u001b[1;32m    590\u001b[0m         \u001b[0;32mif\u001b[0m \u001b[0mamt\u001b[0m \u001b[0;32mis\u001b[0m \u001b[0mNone\u001b[0m\u001b[0;34m:\u001b[0m\u001b[0;34m\u001b[0m\u001b[0m\n",
      "\u001b[0;32m/System/Library/Frameworks/Python.framework/Versions/2.7/lib/python2.7/httplib.pyc\u001b[0m in \u001b[0;36m_read_chunked\u001b[0;34m(self, amt)\u001b[0m\n\u001b[1;32m    628\u001b[0m         \u001b[0;32mwhile\u001b[0m \u001b[0mTrue\u001b[0m\u001b[0;34m:\u001b[0m\u001b[0;34m\u001b[0m\u001b[0m\n\u001b[1;32m    629\u001b[0m             \u001b[0;32mif\u001b[0m \u001b[0mchunk_left\u001b[0m \u001b[0;32mis\u001b[0m \u001b[0mNone\u001b[0m\u001b[0;34m:\u001b[0m\u001b[0;34m\u001b[0m\u001b[0m\n\u001b[0;32m--> 630\u001b[0;31m                 \u001b[0mline\u001b[0m \u001b[0;34m=\u001b[0m \u001b[0mself\u001b[0m\u001b[0;34m.\u001b[0m\u001b[0mfp\u001b[0m\u001b[0;34m.\u001b[0m\u001b[0mreadline\u001b[0m\u001b[0;34m(\u001b[0m\u001b[0m_MAXLINE\u001b[0m \u001b[0;34m+\u001b[0m \u001b[0;36m1\u001b[0m\u001b[0;34m)\u001b[0m\u001b[0;34m\u001b[0m\u001b[0m\n\u001b[0m\u001b[1;32m    631\u001b[0m                 \u001b[0;32mif\u001b[0m \u001b[0mlen\u001b[0m\u001b[0;34m(\u001b[0m\u001b[0mline\u001b[0m\u001b[0;34m)\u001b[0m \u001b[0;34m>\u001b[0m \u001b[0m_MAXLINE\u001b[0m\u001b[0;34m:\u001b[0m\u001b[0;34m\u001b[0m\u001b[0m\n\u001b[1;32m    632\u001b[0m                     \u001b[0;32mraise\u001b[0m \u001b[0mLineTooLong\u001b[0m\u001b[0;34m(\u001b[0m\u001b[0;34m\"chunk size\"\u001b[0m\u001b[0;34m)\u001b[0m\u001b[0;34m\u001b[0m\u001b[0m\n",
      "\u001b[0;32m/System/Library/Frameworks/Python.framework/Versions/2.7/lib/python2.7/socket.pyc\u001b[0m in \u001b[0;36mreadline\u001b[0;34m(self, size)\u001b[0m\n\u001b[1;32m    478\u001b[0m             \u001b[0;32mwhile\u001b[0m \u001b[0mTrue\u001b[0m\u001b[0;34m:\u001b[0m\u001b[0;34m\u001b[0m\u001b[0m\n\u001b[1;32m    479\u001b[0m                 \u001b[0;32mtry\u001b[0m\u001b[0;34m:\u001b[0m\u001b[0;34m\u001b[0m\u001b[0m\n\u001b[0;32m--> 480\u001b[0;31m                     \u001b[0mdata\u001b[0m \u001b[0;34m=\u001b[0m \u001b[0mself\u001b[0m\u001b[0;34m.\u001b[0m\u001b[0m_sock\u001b[0m\u001b[0;34m.\u001b[0m\u001b[0mrecv\u001b[0m\u001b[0;34m(\u001b[0m\u001b[0mself\u001b[0m\u001b[0;34m.\u001b[0m\u001b[0m_rbufsize\u001b[0m\u001b[0;34m)\u001b[0m\u001b[0;34m\u001b[0m\u001b[0m\n\u001b[0m\u001b[1;32m    481\u001b[0m                 \u001b[0;32mexcept\u001b[0m \u001b[0merror\u001b[0m\u001b[0;34m,\u001b[0m \u001b[0me\u001b[0m\u001b[0;34m:\u001b[0m\u001b[0;34m\u001b[0m\u001b[0m\n\u001b[1;32m    482\u001b[0m                     \u001b[0;32mif\u001b[0m \u001b[0me\u001b[0m\u001b[0;34m.\u001b[0m\u001b[0margs\u001b[0m\u001b[0;34m[\u001b[0m\u001b[0;36m0\u001b[0m\u001b[0;34m]\u001b[0m \u001b[0;34m==\u001b[0m \u001b[0mEINTR\u001b[0m\u001b[0;34m:\u001b[0m\u001b[0;34m\u001b[0m\u001b[0m\n",
      "\u001b[0;32m/System/Library/Frameworks/Python.framework/Versions/2.7/lib/python2.7/ssl.pyc\u001b[0m in \u001b[0;36mrecv\u001b[0;34m(self, buflen, flags)\u001b[0m\n\u001b[1;32m    732\u001b[0m                     \u001b[0;34m\"non-zero flags not allowed in calls to recv() on %s\"\u001b[0m \u001b[0;34m%\u001b[0m\u001b[0;34m\u001b[0m\u001b[0m\n\u001b[1;32m    733\u001b[0m                     self.__class__)\n\u001b[0;32m--> 734\u001b[0;31m             \u001b[0;32mreturn\u001b[0m \u001b[0mself\u001b[0m\u001b[0;34m.\u001b[0m\u001b[0mread\u001b[0m\u001b[0;34m(\u001b[0m\u001b[0mbuflen\u001b[0m\u001b[0;34m)\u001b[0m\u001b[0;34m\u001b[0m\u001b[0m\n\u001b[0m\u001b[1;32m    735\u001b[0m         \u001b[0;32melse\u001b[0m\u001b[0;34m:\u001b[0m\u001b[0;34m\u001b[0m\u001b[0m\n\u001b[1;32m    736\u001b[0m             \u001b[0;32mreturn\u001b[0m \u001b[0mself\u001b[0m\u001b[0;34m.\u001b[0m\u001b[0m_sock\u001b[0m\u001b[0;34m.\u001b[0m\u001b[0mrecv\u001b[0m\u001b[0;34m(\u001b[0m\u001b[0mbuflen\u001b[0m\u001b[0;34m,\u001b[0m \u001b[0mflags\u001b[0m\u001b[0;34m)\u001b[0m\u001b[0;34m\u001b[0m\u001b[0m\n",
      "\u001b[0;32m/System/Library/Frameworks/Python.framework/Versions/2.7/lib/python2.7/ssl.pyc\u001b[0m in \u001b[0;36mread\u001b[0;34m(self, len, buffer)\u001b[0m\n\u001b[1;32m    619\u001b[0m                 \u001b[0mv\u001b[0m \u001b[0;34m=\u001b[0m \u001b[0mself\u001b[0m\u001b[0;34m.\u001b[0m\u001b[0m_sslobj\u001b[0m\u001b[0;34m.\u001b[0m\u001b[0mread\u001b[0m\u001b[0;34m(\u001b[0m\u001b[0mlen\u001b[0m\u001b[0;34m,\u001b[0m \u001b[0mbuffer\u001b[0m\u001b[0;34m)\u001b[0m\u001b[0;34m\u001b[0m\u001b[0m\n\u001b[1;32m    620\u001b[0m             \u001b[0;32melse\u001b[0m\u001b[0;34m:\u001b[0m\u001b[0;34m\u001b[0m\u001b[0m\n\u001b[0;32m--> 621\u001b[0;31m                 \u001b[0mv\u001b[0m \u001b[0;34m=\u001b[0m \u001b[0mself\u001b[0m\u001b[0;34m.\u001b[0m\u001b[0m_sslobj\u001b[0m\u001b[0;34m.\u001b[0m\u001b[0mread\u001b[0m\u001b[0;34m(\u001b[0m\u001b[0mlen\u001b[0m \u001b[0;32mor\u001b[0m \u001b[0;36m1024\u001b[0m\u001b[0;34m)\u001b[0m\u001b[0;34m\u001b[0m\u001b[0m\n\u001b[0m\u001b[1;32m    622\u001b[0m             \u001b[0;32mreturn\u001b[0m \u001b[0mv\u001b[0m\u001b[0;34m\u001b[0m\u001b[0m\n\u001b[1;32m    623\u001b[0m         \u001b[0;32mexcept\u001b[0m \u001b[0mSSLError\u001b[0m \u001b[0;32mas\u001b[0m \u001b[0mx\u001b[0m\u001b[0;34m:\u001b[0m\u001b[0;34m\u001b[0m\u001b[0m\n",
      "\u001b[0;31mKeyboardInterrupt\u001b[0m: "
     ]
    }
   ],
   "source": [
    "'''\n",
    "THE BELOW CODE IS OPTIONAl\n",
    "It creates a stream of a given tag!\n",
    "'''\n",
    "\n",
    "# This is the listener, resposible for receiving data\n",
    "# I will not be covering this in class\n",
    "class StdOutListener(tweepy.StreamListener):\n",
    "    def on_data(self, data):\n",
    "        # Twitter returns data in JSON format - we need to decode it first\n",
    "        decoded = json.loads(data)\n",
    "        #print decoded\n",
    "        time_ =  time.strftime('%Y-%m-%d %H:%M:%S', time.localtime(int(decoded['timestamp_ms']) / 1000))\n",
    "        handle = decoded['user']['screen_name']\n",
    "        tweet_text = decoded['text'].encode('ascii', 'ignore')\n",
    "        num_followers = int(decoded['user']['followers_count'])\n",
    "        # Also, we convert UTF-8 to ASCII ignoring all bad characters sent by users\n",
    "        print '@%s at %s: %s with %d followers' % (handle, time_, tweet_text, num_followers)\n",
    "        print ''\n",
    "        return True\n",
    "    def on_error(self, status):\n",
    "        print status\n",
    "def begin_live_feed(tags_to_follow):\n",
    "    print \"beginning live feed....\"\n",
    "    l = StdOutListener()\n",
    "    auth = tweepy.OAuthHandler(api_key, api_secret)\n",
    "    auth.set_access_token(access_token, access_secret)\n",
    "    stream = tweepy.Stream(auth, l)\n",
    "    stream.filter(track=tags_to_follow)\n",
    "\n",
    "begin_live_feed(['#rogueone', 'starbucks'])\n",
    "# this is an example use, if you create a list of words and phrases, \n",
    "# a live stream of tweets about them will show up\n",
    "\n",
    "# INTERUPT THE KERNEL TO STOP THE MADNESS"
   ]
  },
  {
   "cell_type": "code",
   "execution_count": 40,
   "metadata": {
    "collapsed": false
   },
   "outputs": [
    {
     "data": {
      "text/plain": [
       "'\\nOther considerations when accessing APIs:\\n- Most APIs require you to have an access key (which you should store outside your code)\\n- Most APIs limit the number of API calls you can make (per day, hour, minute, etc.)\\n- Not all APIs are free\\n- Not all APIs are well-documented\\n- Pay attention to the API version\\n\\nPython wrapper is another option for accessing an API:\\n- Set of functions that \"wrap\" the API code for ease of use\\n- Potentially simplifies your code\\n- But, wrapper could have bugs or be out-of-date or poorly documented\\n'"
      ]
     },
     "execution_count": 40,
     "metadata": {},
     "output_type": "execute_result"
    }
   ],
   "source": [
    "'''\n",
    "Other considerations when accessing APIs:\n",
    "- Most APIs require you to have an access key (which you should store outside your code)\n",
    "- Most APIs limit the number of API calls you can make (per day, hour, minute, etc.)\n",
    "- Not all APIs are free\n",
    "- Not all APIs are well-documented\n",
    "- Pay attention to the API version\n",
    "\n",
    "Python wrapper is another option for accessing an API:\n",
    "- Set of functions that \"wrap\" the API code for ease of use\n",
    "- Potentially simplifies your code\n",
    "- But, wrapper could have bugs or be out-of-date or poorly documented\n",
    "'''"
   ]
  },
  {
   "cell_type": "code",
   "execution_count": 42,
   "metadata": {
    "collapsed": false
   },
   "outputs": [
    {
     "data": {
      "text/plain": [
       "u'https://www.facebook.com/login.php?skip_api_login=1&api_key=464891386855067&signed_next=1&next=https%3A%2F%2Fwww.facebook.com%2Fv2.0%2Fdialog%2Foauth%3Fredirect_uri%3Dhttps%253A%252F%252Fwww.facebook.com%252Fconnect%252Flogin_success.html%26scope%3Dbasic_info%252Cemail%252Cpublic_profile%252Cuser_about_me%252Cuser_activities%252Cuser_birthday%252Cuser_education_history%252Cuser_friends%252Cuser_interests%252Cuser_likes%252Cuser_location%252Cuser_photos%252Cuser_relationship_details%26response_type%3Dtoken%26client_id%3D464891386855067%26ret%3Dlogin&cancel_url=https%3A%2F%2Fwww.facebook.com%2Fconnect%2Flogin_success.html%3Ferror%3Daccess_denied%26error_code%3D200%26error_description%3DPermissions%2Berror%26error_reason%3Duser_denied%23_%3D_&display=page&locale=en_US'"
      ]
     },
     "execution_count": 42,
     "metadata": {},
     "output_type": "execute_result"
    }
   ],
   "source": [
    "#### TINDER #####\n",
    "# https://gist.github.com/rtt/10403467\n",
    "\n",
    "link = 'https://www.facebook.com/dialog/oauth?client_id=464891386855067&redirect_uri=https://www.facebook.com/connect/login_success.html&scope=basic_info,email,public_profile,user_about_me,user_activities,user_birthday,user_education_history,user_friends,user_interests,user_likes,user_location,user_photos,user_relationship_details&response_type=token'\n",
    "token_req = requests.get(link, allow_redirects = True)\n",
    "token_req.headers\n",
    "token_req.url"
   ]
  },
  {
   "cell_type": "code",
   "execution_count": null,
   "metadata": {
    "collapsed": false
   },
   "outputs": [],
   "source": []
  },
  {
   "cell_type": "code",
   "execution_count": 43,
   "metadata": {
    "collapsed": true
   },
   "outputs": [],
   "source": [
    "token = 'EAAGm0PX4ZCpsBAEPhbX0HUZCc095HjwZAMB630ClGGc7FRDaXrZCLyZBReaF8bEvJCITPcx6ZAZAHysG4DLLNEBLafiabCYZARMyY020dwPa7qYq9WJZCGbZC8SETdkGcTuy2NXqecfk2j0Hla6RX2ZACUeRCX8P9CcOOBCitKI8DSZA3BKZAaaXuZAKHj'"
   ]
  },
  {
   "cell_type": "code",
   "execution_count": 44,
   "metadata": {
    "collapsed": true
   },
   "outputs": [],
   "source": [
    "facebbok_id = '1342020603'"
   ]
  },
  {
   "cell_type": "code",
   "execution_count": 45,
   "metadata": {
    "collapsed": true
   },
   "outputs": [],
   "source": [
    "r = requests.post('https://api.gotinder.com/auth',\n",
    "                  data = {\n",
    "                  'facebook_token':token,\n",
    "                  'facebook_id':facebbok_id}\n",
    "                  )"
   ]
  },
  {
   "cell_type": "code",
   "execution_count": 46,
   "metadata": {
    "collapsed": false
   },
   "outputs": [
    {
     "data": {
      "text/plain": [
       "200"
      ]
     },
     "execution_count": 46,
     "metadata": {},
     "output_type": "execute_result"
    }
   ],
   "source": [
    "r.status_code"
   ]
  },
  {
   "cell_type": "code",
   "execution_count": 47,
   "metadata": {
    "collapsed": false
   },
   "outputs": [],
   "source": [
    "j = r.json()"
   ]
  },
  {
   "cell_type": "code",
   "execution_count": 48,
   "metadata": {
    "collapsed": true
   },
   "outputs": [],
   "source": [
    "h = {'X-Auth-Token': j['token']}"
   ]
  },
  {
   "cell_type": "code",
   "execution_count": 49,
   "metadata": {
    "collapsed": false
   },
   "outputs": [],
   "source": [
    "recs = requests.get('https://api.gotinder.com/user/recs', headers = h)\n",
    "matches = recs.json()\n"
   ]
  },
  {
   "cell_type": "code",
   "execution_count": 50,
   "metadata": {
    "collapsed": false
   },
   "outputs": [
    {
     "data": {
      "text/plain": [
       "{u'_id': u'56dd03b223701bcc5c132e83',\n",
       " u'badges': [],\n",
       " u'bio': u'I\\u2019m not really single, I\\u2019m dating myself. I take me out to eat, I buy me clothes. I love me.\\n\\U0001f1e7\\U0001f1f7\\U0001f341\\U0001f46f\\U0001f47d\\U0001f480\\nFOR THE LOVE OF GOD DO NOT JUST SEND ME \"Hey\". \\nI\\'ll hate you for it :/\\n',\n",
       " u'birth_date': u'1994-03-09T00:00:00.000Z',\n",
       " u'birth_date_info': u'fuzzy birthdate active, not displaying real birth_date',\n",
       " u'common_friend_count': 0,\n",
       " u'common_friends': [],\n",
       " u'common_interests': [],\n",
       " u'common_like_count': 0,\n",
       " u'common_likes': [],\n",
       " u'connection_count': 81,\n",
       " u'distance_mi': 12,\n",
       " u'gender': 1,\n",
       " u'jobs': [],\n",
       " u'name': u'Sarah',\n",
       " u'photos': [{u'id': u'f6a6c9bb-41f9-4705-aab5-5fd0d666cb5a',\n",
       "   u'processedFiles': [{u'height': 640,\n",
       "     u'url': u'http://images.gotinder.com/56dd03b223701bcc5c132e83/640x640_f6a6c9bb-41f9-4705-aab5-5fd0d666cb5a.jpg',\n",
       "     u'width': 640},\n",
       "    {u'height': 320,\n",
       "     u'url': u'http://images.gotinder.com/56dd03b223701bcc5c132e83/320x320_f6a6c9bb-41f9-4705-aab5-5fd0d666cb5a.jpg',\n",
       "     u'width': 320},\n",
       "    {u'height': 172,\n",
       "     u'url': u'http://images.gotinder.com/56dd03b223701bcc5c132e83/172x172_f6a6c9bb-41f9-4705-aab5-5fd0d666cb5a.jpg',\n",
       "     u'width': 172},\n",
       "    {u'height': 84,\n",
       "     u'url': u'http://images.gotinder.com/56dd03b223701bcc5c132e83/84x84_f6a6c9bb-41f9-4705-aab5-5fd0d666cb5a.jpg',\n",
       "     u'width': 84}],\n",
       "   u'url': u'http://images.gotinder.com/56dd03b223701bcc5c132e83/f6a6c9bb-41f9-4705-aab5-5fd0d666cb5a.jpg'},\n",
       "  {u'id': u'632166e4-9776-49b7-8cbf-b9abf9176eee',\n",
       "   u'processedFiles': [{u'height': 640,\n",
       "     u'url': u'http://images.gotinder.com/56dd03b223701bcc5c132e83/640x640_632166e4-9776-49b7-8cbf-b9abf9176eee.jpg',\n",
       "     u'width': 640},\n",
       "    {u'height': 320,\n",
       "     u'url': u'http://images.gotinder.com/56dd03b223701bcc5c132e83/320x320_632166e4-9776-49b7-8cbf-b9abf9176eee.jpg',\n",
       "     u'width': 320},\n",
       "    {u'height': 172,\n",
       "     u'url': u'http://images.gotinder.com/56dd03b223701bcc5c132e83/172x172_632166e4-9776-49b7-8cbf-b9abf9176eee.jpg',\n",
       "     u'width': 172},\n",
       "    {u'height': 84,\n",
       "     u'url': u'http://images.gotinder.com/56dd03b223701bcc5c132e83/84x84_632166e4-9776-49b7-8cbf-b9abf9176eee.jpg',\n",
       "     u'width': 84}],\n",
       "   u'url': u'http://images.gotinder.com/56dd03b223701bcc5c132e83/632166e4-9776-49b7-8cbf-b9abf9176eee.jpg'},\n",
       "  {u'id': u'f5a13808-99d9-4928-b483-17138b54c84c',\n",
       "   u'processedFiles': [{u'height': 640,\n",
       "     u'url': u'http://images.gotinder.com/56dd03b223701bcc5c132e83/640x640_f5a13808-99d9-4928-b483-17138b54c84c.jpg',\n",
       "     u'width': 640},\n",
       "    {u'height': 320,\n",
       "     u'url': u'http://images.gotinder.com/56dd03b223701bcc5c132e83/320x320_f5a13808-99d9-4928-b483-17138b54c84c.jpg',\n",
       "     u'width': 320},\n",
       "    {u'height': 172,\n",
       "     u'url': u'http://images.gotinder.com/56dd03b223701bcc5c132e83/172x172_f5a13808-99d9-4928-b483-17138b54c84c.jpg',\n",
       "     u'width': 172},\n",
       "    {u'height': 84,\n",
       "     u'url': u'http://images.gotinder.com/56dd03b223701bcc5c132e83/84x84_f5a13808-99d9-4928-b483-17138b54c84c.jpg',\n",
       "     u'width': 84}],\n",
       "   u'url': u'http://images.gotinder.com/56dd03b223701bcc5c132e83/f5a13808-99d9-4928-b483-17138b54c84c.jpg'},\n",
       "  {u'id': u'b2ebf19d-d454-46c6-8fb0-8ec7259a0c27',\n",
       "   u'processedFiles': [{u'height': 640,\n",
       "     u'url': u'http://images.gotinder.com/56dd03b223701bcc5c132e83/640x640_b2ebf19d-d454-46c6-8fb0-8ec7259a0c27.jpg',\n",
       "     u'width': 640},\n",
       "    {u'height': 320,\n",
       "     u'url': u'http://images.gotinder.com/56dd03b223701bcc5c132e83/320x320_b2ebf19d-d454-46c6-8fb0-8ec7259a0c27.jpg',\n",
       "     u'width': 320},\n",
       "    {u'height': 172,\n",
       "     u'url': u'http://images.gotinder.com/56dd03b223701bcc5c132e83/172x172_b2ebf19d-d454-46c6-8fb0-8ec7259a0c27.jpg',\n",
       "     u'width': 172},\n",
       "    {u'height': 84,\n",
       "     u'url': u'http://images.gotinder.com/56dd03b223701bcc5c132e83/84x84_b2ebf19d-d454-46c6-8fb0-8ec7259a0c27.jpg',\n",
       "     u'width': 84}],\n",
       "   u'url': u'http://images.gotinder.com/56dd03b223701bcc5c132e83/b2ebf19d-d454-46c6-8fb0-8ec7259a0c27.jpg'},\n",
       "  {u'id': u'bb6b469c-45c8-49ad-aa1b-167fbe6e186c',\n",
       "   u'processedFiles': [{u'height': 640,\n",
       "     u'url': u'http://images.gotinder.com/56dd03b223701bcc5c132e83/640x640_bb6b469c-45c8-49ad-aa1b-167fbe6e186c.jpg',\n",
       "     u'width': 640},\n",
       "    {u'height': 320,\n",
       "     u'url': u'http://images.gotinder.com/56dd03b223701bcc5c132e83/320x320_bb6b469c-45c8-49ad-aa1b-167fbe6e186c.jpg',\n",
       "     u'width': 320},\n",
       "    {u'height': 172,\n",
       "     u'url': u'http://images.gotinder.com/56dd03b223701bcc5c132e83/172x172_bb6b469c-45c8-49ad-aa1b-167fbe6e186c.jpg',\n",
       "     u'width': 172},\n",
       "    {u'height': 84,\n",
       "     u'url': u'http://images.gotinder.com/56dd03b223701bcc5c132e83/84x84_bb6b469c-45c8-49ad-aa1b-167fbe6e186c.jpg',\n",
       "     u'width': 84}],\n",
       "   u'url': u'http://images.gotinder.com/56dd03b223701bcc5c132e83/bb6b469c-45c8-49ad-aa1b-167fbe6e186c.jpg'}],\n",
       " u'ping_time': u'2016-04-07T15:37:43.436Z',\n",
       " u'schools': [{u'id': u'10111634660', u'name': u'UC Berkeley'}],\n",
       " u'teaser': {u'string': u'UC Berkeley', u'type': u'school'},\n",
       " u'uncommon_interests': []}"
      ]
     },
     "execution_count": 50,
     "metadata": {},
     "output_type": "execute_result"
    }
   ],
   "source": [
    "first_match = matches['results'][0]\n",
    "first_match"
   ]
  },
  {
   "cell_type": "code",
   "execution_count": 52,
   "metadata": {
    "collapsed": false
   },
   "outputs": [
    {
     "name": "stdout",
     "output_type": "stream",
     "text": [
      "I’m not really single, I’m dating myself. I take me out to eat, I buy me clothes. I love me.\n",
      "🇧🇷🍁👯👽💀\n",
      "FOR THE LOVE OF GOD DO NOT JUST SEND ME \"Hey\". \n",
      "I'll hate you for it :/\n",
      "\n",
      "1994-03-09T00:00:00.000Z\n",
      "[]\n",
      "1\n",
      "Sarah\n",
      "http://images.gotinder.com/56dd03b223701bcc5c132e83/640x640_f6a6c9bb-41f9-4705-aab5-5fd0d666cb5a.jpg\n"
     ]
    }
   ],
   "source": [
    "print first_match['bio']\n",
    "print first_match['birth_date']\n",
    "print first_match['common_likes']\n",
    "print first_match['gender']\n",
    "print first_match['name']\n",
    "print first_match['photos'][0]['processedFiles'][0]['url']"
   ]
  },
  {
   "cell_type": "code",
   "execution_count": null,
   "metadata": {
    "collapsed": true
   },
   "outputs": [],
   "source": []
  }
 ],
 "metadata": {
  "kernelspec": {
   "display_name": "Python 2",
   "language": "python",
   "name": "python2"
  },
  "language_info": {
   "codemirror_mode": {
    "name": "ipython",
    "version": 2
   },
   "file_extension": ".py",
   "mimetype": "text/x-python",
   "name": "python",
   "nbconvert_exporter": "python",
   "pygments_lexer": "ipython2",
   "version": "2.7.10"
  }
 },
 "nbformat": 4,
 "nbformat_minor": 0
}
