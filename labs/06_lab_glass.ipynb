{
 "cells": [
  {
   "cell_type": "code",
   "execution_count": 1,
   "metadata": {
    "collapsed": true
   },
   "outputs": [],
   "source": [
    "'''\n",
    "LAB: Glass Identification\n",
    "'''\n",
    "\n",
    "import pandas as pd\n",
    "import numpy as np\n",
    "from sklearn.neighbors import KNeighborsClassifier\n"
   ]
  },
  {
   "cell_type": "code",
   "execution_count": 2,
   "metadata": {
    "collapsed": false
   },
   "outputs": [
    {
     "data": {
      "text/html": [
       "<div>\n",
       "<table border=\"1\" class=\"dataframe\">\n",
       "  <thead>\n",
       "    <tr style=\"text-align: right;\">\n",
       "      <th></th>\n",
       "      <th>ri</th>\n",
       "      <th>na</th>\n",
       "      <th>mg</th>\n",
       "      <th>al</th>\n",
       "      <th>si</th>\n",
       "      <th>k</th>\n",
       "      <th>ca</th>\n",
       "      <th>ba</th>\n",
       "      <th>fe</th>\n",
       "      <th>glass_type</th>\n",
       "    </tr>\n",
       "    <tr>\n",
       "      <th>id</th>\n",
       "      <th></th>\n",
       "      <th></th>\n",
       "      <th></th>\n",
       "      <th></th>\n",
       "      <th></th>\n",
       "      <th></th>\n",
       "      <th></th>\n",
       "      <th></th>\n",
       "      <th></th>\n",
       "      <th></th>\n",
       "    </tr>\n",
       "  </thead>\n",
       "  <tbody>\n",
       "    <tr>\n",
       "      <th>1</th>\n",
       "      <td>1.52101</td>\n",
       "      <td>13.64</td>\n",
       "      <td>4.49</td>\n",
       "      <td>1.10</td>\n",
       "      <td>71.78</td>\n",
       "      <td>0.06</td>\n",
       "      <td>8.75</td>\n",
       "      <td>0.0</td>\n",
       "      <td>0.0</td>\n",
       "      <td>1</td>\n",
       "    </tr>\n",
       "    <tr>\n",
       "      <th>2</th>\n",
       "      <td>1.51761</td>\n",
       "      <td>13.89</td>\n",
       "      <td>3.60</td>\n",
       "      <td>1.36</td>\n",
       "      <td>72.73</td>\n",
       "      <td>0.48</td>\n",
       "      <td>7.83</td>\n",
       "      <td>0.0</td>\n",
       "      <td>0.0</td>\n",
       "      <td>1</td>\n",
       "    </tr>\n",
       "    <tr>\n",
       "      <th>3</th>\n",
       "      <td>1.51618</td>\n",
       "      <td>13.53</td>\n",
       "      <td>3.55</td>\n",
       "      <td>1.54</td>\n",
       "      <td>72.99</td>\n",
       "      <td>0.39</td>\n",
       "      <td>7.78</td>\n",
       "      <td>0.0</td>\n",
       "      <td>0.0</td>\n",
       "      <td>1</td>\n",
       "    </tr>\n",
       "    <tr>\n",
       "      <th>4</th>\n",
       "      <td>1.51766</td>\n",
       "      <td>13.21</td>\n",
       "      <td>3.69</td>\n",
       "      <td>1.29</td>\n",
       "      <td>72.61</td>\n",
       "      <td>0.57</td>\n",
       "      <td>8.22</td>\n",
       "      <td>0.0</td>\n",
       "      <td>0.0</td>\n",
       "      <td>1</td>\n",
       "    </tr>\n",
       "    <tr>\n",
       "      <th>5</th>\n",
       "      <td>1.51742</td>\n",
       "      <td>13.27</td>\n",
       "      <td>3.62</td>\n",
       "      <td>1.24</td>\n",
       "      <td>73.08</td>\n",
       "      <td>0.55</td>\n",
       "      <td>8.07</td>\n",
       "      <td>0.0</td>\n",
       "      <td>0.0</td>\n",
       "      <td>1</td>\n",
       "    </tr>\n",
       "  </tbody>\n",
       "</table>\n",
       "</div>"
      ],
      "text/plain": [
       "         ri     na    mg    al     si     k    ca   ba   fe  glass_type\n",
       "id                                                                     \n",
       "1   1.52101  13.64  4.49  1.10  71.78  0.06  8.75  0.0  0.0           1\n",
       "2   1.51761  13.89  3.60  1.36  72.73  0.48  7.83  0.0  0.0           1\n",
       "3   1.51618  13.53  3.55  1.54  72.99  0.39  7.78  0.0  0.0           1\n",
       "4   1.51766  13.21  3.69  1.29  72.61  0.57  8.22  0.0  0.0           1\n",
       "5   1.51742  13.27  3.62  1.24  73.08  0.55  8.07  0.0  0.0           1"
      ]
     },
     "execution_count": 2,
     "metadata": {},
     "output_type": "execute_result"
    }
   ],
   "source": [
    "## PART 1\n",
    "\n",
    "# read data into a DataFrame\n",
    "df = pd.read_csv('http://archive.ics.uci.edu/ml/machine-learning-databases/glass/glass.data',\n",
    "                 header=None, names=['id','ri','na','mg','al','si','k','ca','ba','fe','glass_type'],\n",
    "                 index_col='id')\n",
    "df.head()"
   ]
  },
  {
   "cell_type": "code",
   "execution_count": 3,
   "metadata": {
    "collapsed": false
   },
   "outputs": [
    {
     "data": {
      "text/plain": [
       "ri            0\n",
       "na            0\n",
       "mg            0\n",
       "al            0\n",
       "si            0\n",
       "k             0\n",
       "ca            0\n",
       "ba            0\n",
       "fe            0\n",
       "glass_type    0\n",
       "dtype: int64"
      ]
     },
     "execution_count": 3,
     "metadata": {},
     "output_type": "execute_result"
    }
   ],
   "source": [
    "# Question 1. Are there any null values? If so, where?\n",
    "df.isnull().sum()\n"
   ]
  },
  {
   "cell_type": "code",
   "execution_count": 5,
   "metadata": {
    "collapsed": false
   },
   "outputs": [
    {
     "data": {
      "text/plain": [
       "array([1, 2, 3, 5, 6, 7])"
      ]
     },
     "execution_count": 5,
     "metadata": {},
     "output_type": "execute_result"
    }
   ],
   "source": [
    "# Question 2. Is this problem classification or regression?\n",
    "df.glass_type.unique()\n",
    "#Classification"
   ]
  },
  {
   "cell_type": "code",
   "execution_count": 6,
   "metadata": {
    "collapsed": false
   },
   "outputs": [],
   "source": [
    "# Question 3: Create a new column called \"glass_type_binary\"\n",
    "# convert to binary classification problem:\n",
    "#   types 1/2/3/4 are mapped to 0 in glass_type_binary\n",
    "#   types 5/6/7 are mapped to 1 in glass_type_binary\n",
    "\n",
    "\n",
    "def binary_type(x):\n",
    "    if x in [1,2,3,4]:\n",
    "        return 0\n",
    "    else:\n",
    "        return 1\n",
    "    \n",
    "df['glass_type_binary'] = df['glass_type'].apply(binary_type)\n"
   ]
  },
  {
   "cell_type": "code",
   "execution_count": 7,
   "metadata": {
    "collapsed": false
   },
   "outputs": [
    {
     "data": {
      "text/html": [
       "<div>\n",
       "<table border=\"1\" class=\"dataframe\">\n",
       "  <thead>\n",
       "    <tr style=\"text-align: right;\">\n",
       "      <th></th>\n",
       "      <th>ri</th>\n",
       "      <th>na</th>\n",
       "      <th>mg</th>\n",
       "      <th>al</th>\n",
       "      <th>si</th>\n",
       "      <th>k</th>\n",
       "      <th>ca</th>\n",
       "      <th>ba</th>\n",
       "      <th>fe</th>\n",
       "      <th>glass_type</th>\n",
       "      <th>glass_type_binary</th>\n",
       "    </tr>\n",
       "    <tr>\n",
       "      <th>id</th>\n",
       "      <th></th>\n",
       "      <th></th>\n",
       "      <th></th>\n",
       "      <th></th>\n",
       "      <th></th>\n",
       "      <th></th>\n",
       "      <th></th>\n",
       "      <th></th>\n",
       "      <th></th>\n",
       "      <th></th>\n",
       "      <th></th>\n",
       "    </tr>\n",
       "  </thead>\n",
       "  <tbody>\n",
       "    <tr>\n",
       "      <th>1</th>\n",
       "      <td>1.52101</td>\n",
       "      <td>13.64</td>\n",
       "      <td>4.49</td>\n",
       "      <td>1.10</td>\n",
       "      <td>71.78</td>\n",
       "      <td>0.06</td>\n",
       "      <td>8.75</td>\n",
       "      <td>0.0</td>\n",
       "      <td>0.0</td>\n",
       "      <td>1</td>\n",
       "      <td>0</td>\n",
       "    </tr>\n",
       "    <tr>\n",
       "      <th>2</th>\n",
       "      <td>1.51761</td>\n",
       "      <td>13.89</td>\n",
       "      <td>3.60</td>\n",
       "      <td>1.36</td>\n",
       "      <td>72.73</td>\n",
       "      <td>0.48</td>\n",
       "      <td>7.83</td>\n",
       "      <td>0.0</td>\n",
       "      <td>0.0</td>\n",
       "      <td>1</td>\n",
       "      <td>0</td>\n",
       "    </tr>\n",
       "    <tr>\n",
       "      <th>3</th>\n",
       "      <td>1.51618</td>\n",
       "      <td>13.53</td>\n",
       "      <td>3.55</td>\n",
       "      <td>1.54</td>\n",
       "      <td>72.99</td>\n",
       "      <td>0.39</td>\n",
       "      <td>7.78</td>\n",
       "      <td>0.0</td>\n",
       "      <td>0.0</td>\n",
       "      <td>1</td>\n",
       "      <td>0</td>\n",
       "    </tr>\n",
       "    <tr>\n",
       "      <th>4</th>\n",
       "      <td>1.51766</td>\n",
       "      <td>13.21</td>\n",
       "      <td>3.69</td>\n",
       "      <td>1.29</td>\n",
       "      <td>72.61</td>\n",
       "      <td>0.57</td>\n",
       "      <td>8.22</td>\n",
       "      <td>0.0</td>\n",
       "      <td>0.0</td>\n",
       "      <td>1</td>\n",
       "      <td>0</td>\n",
       "    </tr>\n",
       "    <tr>\n",
       "      <th>5</th>\n",
       "      <td>1.51742</td>\n",
       "      <td>13.27</td>\n",
       "      <td>3.62</td>\n",
       "      <td>1.24</td>\n",
       "      <td>73.08</td>\n",
       "      <td>0.55</td>\n",
       "      <td>8.07</td>\n",
       "      <td>0.0</td>\n",
       "      <td>0.0</td>\n",
       "      <td>1</td>\n",
       "      <td>0</td>\n",
       "    </tr>\n",
       "  </tbody>\n",
       "</table>\n",
       "</div>"
      ],
      "text/plain": [
       "         ri     na    mg    al     si     k    ca   ba   fe  glass_type  \\\n",
       "id                                                                        \n",
       "1   1.52101  13.64  4.49  1.10  71.78  0.06  8.75  0.0  0.0           1   \n",
       "2   1.51761  13.89  3.60  1.36  72.73  0.48  7.83  0.0  0.0           1   \n",
       "3   1.51618  13.53  3.55  1.54  72.99  0.39  7.78  0.0  0.0           1   \n",
       "4   1.51766  13.21  3.69  1.29  72.61  0.57  8.22  0.0  0.0           1   \n",
       "5   1.51742  13.27  3.62  1.24  73.08  0.55  8.07  0.0  0.0           1   \n",
       "\n",
       "    glass_type_binary  \n",
       "id                     \n",
       "1                   0  \n",
       "2                   0  \n",
       "3                   0  \n",
       "4                   0  \n",
       "5                   0  "
      ]
     },
     "execution_count": 7,
     "metadata": {},
     "output_type": "execute_result"
    }
   ],
   "source": [
    "df.head()"
   ]
  },
  {
   "cell_type": "code",
   "execution_count": 8,
   "metadata": {
    "collapsed": false
   },
   "outputs": [],
   "source": [
    "## PART 2 Setting it all up\n",
    "\n",
    "# create a list of feature names\n",
    "feature_cols = ['ri','na','mg','al','si','k','ca','ba','fe']\n",
    "\n",
    "\n",
    "# define X (features) and y (response)\n",
    "X = df[feature_cols]        # features\n",
    "y = df.glass_type_binary    # binary response\n",
    "y2 = df.glass_type          # multinomial response"
   ]
  },
  {
   "cell_type": "code",
   "execution_count": 9,
   "metadata": {
    "collapsed": false
   },
   "outputs": [
    {
     "data": {
      "text/plain": [
       "2    0.355140\n",
       "1    0.327103\n",
       "7    0.135514\n",
       "3    0.079439\n",
       "5    0.060748\n",
       "6    0.042056\n",
       "Name: glass_type, dtype: float64"
      ]
     },
     "execution_count": 9,
     "metadata": {},
     "output_type": "execute_result"
    }
   ],
   "source": [
    "# the null accuracy rate is an accuracy rate in which you always predict the majority class in\n",
    "# a prediction problem. \n",
    "\n",
    "\n",
    "# Question 4: What is the null accuracy rate for the binomial and the multinomial problem?\n",
    "y.value_counts()\n",
    "y.count()\n",
    "y2.value_counts()\n",
    "y2.count()\n",
    "\n",
    "null_accuracyrate1 = y.value_counts()/y.count()\n",
    "null_accuracyrate1\n",
    "\n",
    "null_accuracyrate2 = y2.value_counts()/y2.count()\n",
    "null_accuracyrate2\n"
   ]
  },
  {
   "cell_type": "code",
   "execution_count": 16,
   "metadata": {
    "collapsed": false
   },
   "outputs": [
    {
     "data": {
      "text/plain": [
       "0    0.761682\n",
       "1    0.238318\n",
       "Name: glass_type_binary, dtype: float64"
      ]
     },
     "execution_count": 16,
     "metadata": {},
     "output_type": "execute_result"
    }
   ],
   "source": [
    "null_accuracyrate1 = y.value_counts()/y.count()\n",
    "null_accuracyrate1"
   ]
  },
  {
   "cell_type": "code",
   "execution_count": 24,
   "metadata": {
    "collapsed": false
   },
   "outputs": [
    {
     "data": {
      "text/plain": [
       "0"
      ]
     },
     "execution_count": 24,
     "metadata": {},
     "output_type": "execute_result"
    }
   ],
   "source": [
    "# QUESTION - What does null accuracy mean? and how to calculate them?"
   ]
  },
  {
   "cell_type": "code",
   "execution_count": 56,
   "metadata": {
    "collapsed": false
   },
   "outputs": [
    {
     "data": {
      "text/plain": [
       "array([ 0.95454545,  0.86046512,  0.93023256,  0.78571429,  0.97619048,\n",
       "        0.90909091,  0.8372093 ,  0.88372093,  0.71428571,  0.97619048,\n",
       "        0.84090909,  0.86046512,  0.88372093,  0.71428571,  1.        ])"
      ]
     },
     "execution_count": 56,
     "metadata": {},
     "output_type": "execute_result"
    }
   ],
   "source": [
    "## PART 3\n",
    "# fit a KNN model and make predictions with the binary response. \n",
    "knn = KNeighborsClassifier(n_neighbors=1)\n",
    "knn.fit(X,y)\n",
    "knn.predict([1.52,13.64, 4.4, 1.10,71.78,0.06,8.75,0.0,0.0])[0]\n",
    "\n",
    "# Question 5: Fit a KNN model with 1 3, and 5 neighbors\n",
    "# Be sure to use cross validation to get an accurate prediction of out of sample error\n",
    "k_range = range(1,6,2)\n",
    "from sklearn.cross_validation import cross_val_score\n",
    "scores = []\n",
    "for k in k_range:\n",
    "    knn = KNeighborsClassifier(n_neighbors=k)\n",
    "    s = cross_val_score(knn, X, y, cv=5, scoring='accuracy')\n",
    "    scores = np.append(scores, s)\n",
    "scores\n",
    "# plotting the kvalues and CV scores # THIS IS THROWING AN ERROR\n",
    "#import matplotlib.pyplot as plt\n",
    "#%matplotlib inline\n",
    "#plt.figure()\n",
    "#plt.plot(k_range, scores)\n"
   ]
  },
  {
   "cell_type": "code",
   "execution_count": 51,
   "metadata": {
    "collapsed": false
   },
   "outputs": [
    {
     "data": {
      "text/plain": [
       "[<matplotlib.lines.Line2D at 0x112bf2bd0>]"
      ]
     },
     "execution_count": 51,
     "metadata": {},
     "output_type": "execute_result"
    },
    {
     "data": {
      "image/png": "[encoded data removed]",
      "text/plain": [
       "<matplotlib.figure.Figure at 0x1126d5910>"
      ]
     },
     "metadata": {},
     "output_type": "display_data"
    }
   ],
   "source": [
    "# Question 6: Use grid search to find the optimal value of K and the best accuracy rate\n",
    "from sklearn.grid_search import GridSearchCV\n",
    "k_range = range(2,30,1) # since K=1 is overfitting\n",
    "knn = KNeighborsClassifier()\n",
    "param_grid = dict(n_neighbors=k_range)\n",
    "grid = GridSearchCV(knn, param_grid, cv=5, scoring='accuracy')\n",
    "grid.fit(X, y)\n",
    "grid.grid_scores_\n",
    "# mean value\n",
    "grid_mean_scores = [result[1] for result in grid.grid_scores_]\n",
    "grid_mean_scores\n",
    "\n",
    "# best scores\n",
    "grid.best_score_\n",
    "\n",
    "# optimal K value\n",
    "grid.best_params_\n",
    "\n",
    "#visualize the result\n",
    "plt.figure()\n",
    "plt.plot(k_range, grid_mean_scores)\n"
   ]
  },
  {
   "cell_type": "code",
   "execution_count": 54,
   "metadata": {
    "collapsed": false
   },
   "outputs": [
    {
     "data": {
      "text/plain": [
       "True"
      ]
     },
     "execution_count": 54,
     "metadata": {},
     "output_type": "execute_result"
    }
   ],
   "source": [
    "#Question 7: did your best score beat the null accuracy rate for the binary response?\n",
    "grid.best_score_ > null_accuracyrate1[0] # Yes it beat the null accuracy rate for the binary response. \n",
    "#grid.best_score_ #value is 0.87383177570093462\n",
    "\n"
   ]
  },
  {
   "cell_type": "code",
   "execution_count": 67,
   "metadata": {
    "collapsed": false
   },
   "outputs": [],
   "source": [
    "## PART 4\n",
    "# fit a KNN model and make predictions with the multinomial response. \n",
    "\n",
    "\n",
    "# Question 8: Fit a KNN model with 1 3, and 5 neighbors\n",
    "# Be sure to use cross validation to get an accurate prediction of out of sample error\n",
    "k_range = range(1,6,2)\n",
    "for k in k_range:\n",
    "    knn = KNeighborsClassifier()\n",
    "    s = cross_val_score(knn, X, y2, cv=5, scoring = 'accuracy')\n",
    "    mean_s = np.mean(s)\n",
    "    scores = np.append(scores, mean_s)\n",
    "\n",
    "\n",
    "\n",
    "#Visualizing the results - THROWING AN ERROR\n",
    "#plt.figure()\n",
    "#plt.plot(k_range, scores)\n",
    "\n",
    "\n"
   ]
  },
  {
   "cell_type": "code",
   "execution_count": 70,
   "metadata": {
    "collapsed": false
   },
   "outputs": [
    {
     "data": {
      "text/plain": [
       "[<matplotlib.lines.Line2D at 0x1133e8810>]"
      ]
     },
     "execution_count": 70,
     "metadata": {},
     "output_type": "execute_result"
    },
    {
     "data": {
      "image/png": "[encoded data removed]",
      "text/plain": [
       "<matplotlib.figure.Figure at 0x112705ad0>"
      ]
     },
     "metadata": {},
     "output_type": "display_data"
    }
   ],
   "source": [
    "\n",
    "# Question 9: Use grid search to find the optimal value of K and the best accuracy rate\n",
    "\n",
    "from sklearn.grid_search import GridSearchCV\n",
    "k_range = range(2,30,1) # since K=1 is overfitting\n",
    "knn = KNeighborsClassifier()\n",
    "param_grid = dict(n_neighbors=k_range)\n",
    "grid = GridSearchCV(knn, param_grid, cv=5, scoring='accuracy')\n",
    "grid.fit(X, y2)\n",
    "grid.grid_scores_\n",
    "# mean value\n",
    "grid_mean_scores = [result[1] for result in grid.grid_scores_]\n",
    "grid_mean_scores\n",
    "\n",
    "# best scores\n",
    "grid.best_score_  # is 0.62616822429906538\n",
    "\n",
    "# optimal K value\n",
    "grid.best_params_ # is {'n_neighbors': 17}\n",
    "\n",
    "#visualize the result\n",
    "plt.figure()\n",
    "plt.plot(k_range, grid_mean_scores)\n"
   ]
  },
  {
   "cell_type": "code",
   "execution_count": 78,
   "metadata": {
    "collapsed": false
   },
   "outputs": [
    {
     "name": "stdout",
     "output_type": "stream",
     "text": [
      "True\n",
      "True\n",
      "True\n",
      "True\n",
      "True\n",
      "True\n"
     ]
    }
   ],
   "source": [
    "# Question 10: did your best score beat the null accuracy rate for the multinomial response?\n",
    "print grid.best_score_ > null_accuracyrate2[1]\n",
    "print grid.best_score_ > null_accuracyrate2[2]\n",
    "print grid.best_score_ > null_accuracyrate2[3]\n",
    "\n",
    "print grid.best_score_ > null_accuracyrate2[5]\n",
    "print grid.best_score_ > null_accuracyrate2[6]\n",
    "print grid.best_score_ > null_accuracyrate2[7]"
   ]
  },
  {
   "cell_type": "code",
   "execution_count": 107,
   "metadata": {
    "collapsed": false
   },
   "outputs": [
    {
     "name": "stdout",
     "output_type": "stream",
     "text": [
      "****for binomial response****\n",
      "0.883177570093\n",
      "{'n_neighbors': 27}\n",
      "('Yes. The accuracy rate is', 0.88317757009345799)\n",
      "****for multinomial response****\n",
      "0.672897196262\n",
      "{'n_neighbors': 2}\n",
      "('Yes. The accuracy rate is', 0.67289719626168221)\n",
      "True\n",
      "True\n",
      "True\n",
      "True\n",
      "True\n",
      "True\n"
     ]
    },
    {
     "data": {
      "text/plain": [
       "<matplotlib.text.Text at 0x11272f710>"
      ]
     },
     "execution_count": 107,
     "metadata": {},
     "output_type": "execute_result"
    },
    {
     "data": {
      "image/png": "[encoded data removed]",
      "text/plain": [
       "<matplotlib.figure.Figure at 0x113314850>"
      ]
     },
     "metadata": {},
     "output_type": "display_data"
    },
    {
     "data": {
      "image/png": "[encoded data removed]",
      "text/plain": [
       "<matplotlib.figure.Figure at 0x112f84d90>"
      ]
     },
     "metadata": {},
     "output_type": "display_data"
    }
   ],
   "source": [
    "## PART 5 Fine tuning our data\n",
    "\n",
    "# As we learned previously, KNN is sensitive to irrelevant and non-scaled columns\n",
    "# Let's use sklearn to clean it up\n",
    "from sklearn import preprocessing\n",
    "\n",
    "# scale all data to a zero mean  and unit variance (std = 1)\n",
    "X_scaled = preprocessing.scale(X)\n",
    "X_scaled = pd.DataFrame(X_scaled)\n",
    "X_scaled.columns = feature_cols\n",
    "X_scaled\n",
    "\n",
    "# Question 11: Try all of the previous steps to grid search the optimal KNN model. \n",
    "# But this time used the scaled X values instead.\n",
    "\n",
    "print('****for binomial response****')\n",
    "k_range = range(2,30,1) # since K=1 is overfitting\n",
    "knn = KNeighborsClassifier()\n",
    "param_grid = dict(n_neighbors=k_range)\n",
    "grid = GridSearchCV(knn, param_grid, cv=5, scoring='accuracy')\n",
    "grid.fit(X_scaled, y)\n",
    "grid.grid_scores_\n",
    "mean_gridscores = [result[1] for result in grid.grid_scores_]\n",
    "print grid.best_score_\n",
    "print grid.best_params_\n",
    "\n",
    "# Do you better accuracy with scaled data?\n",
    "print(\"Yes. The accuracy rate is\", grid.best_score_)\n",
    "grid.best_score_ > null_accuracyrate1[1]\n",
    "\n",
    "# visualize the result:\n",
    "plt.figure()\n",
    "plt.plot(k_range,mean_gridscores) #, title = 'Binomial response') - why can't the title be defined inside the plot?\n",
    "plt.title('Binomial Response')\n",
    "\n",
    "\n",
    "print('****for multinomial response****')\n",
    "k_range = range(2,30,1) # since K=1 is overfitting\n",
    "knn = KNeighborsClassifier()\n",
    "param_grid = dict(n_neighbors=k_range)\n",
    "grid = GridSearchCV(knn, param_grid, cv=5, scoring='accuracy')\n",
    "grid.fit(X_scaled, y2)\n",
    "grid.grid_scores_\n",
    "mean_gridscores = [result[1] for result in grid.grid_scores_]\n",
    "print grid.best_score_\n",
    "print grid.best_params_\n",
    "\n",
    "# Do you better accuracy with scaled data?\n",
    "print(\"Yes. The accuracy rate is\", grid.best_score_)\n",
    "grid.best_score_ > null_accuracyrate2[1]\n",
    "print grid.best_score_ > null_accuracyrate2[1]\n",
    "print grid.best_score_ > null_accuracyrate2[2]\n",
    "print grid.best_score_ > null_accuracyrate2[3]\n",
    "\n",
    "print grid.best_score_ > null_accuracyrate2[5]\n",
    "print grid.best_score_ > null_accuracyrate2[6]\n",
    "print grid.best_score_ > null_accuracyrate2[7]\n",
    "\n",
    "# visualize the result:\n",
    "plt.figure()\n",
    "plt.plot(k_range,mean_gridscores) \n",
    "plt.title('Multi-nomial Response')\n"
   ]
  },
  {
   "cell_type": "code",
   "execution_count": 152,
   "metadata": {
    "collapsed": false
   },
   "outputs": [],
   "source": [
    "# Try playing around with different features (removing some) and seeing if this helps improve overall\n",
    "# predictive power.\n",
    "# Hint, try making a method that takes in feature columns and runs the entire process in order to compre\n",
    "# faster\n",
    "\n",
    "\n",
    "def all_feature_test(feature_cols, response, cv=5):\n",
    "    feature_cols = ['ri','na','mg','al','si','k','ca','ba', 'fe'] # as defined earlier in this lab\n",
    "    cmax = len(feature_cols)\n",
    "    k_range = range(2,30,1) # since K=1 is overfitting\n",
    "    #best_feature = []\n",
    "    best_score = 0\n",
    "    best_k = 0\n",
    "    \n",
    "    X_new = X[feature_cols[0:cmax]]\n",
    "    y = response\n",
    "    #k_range = range(2,kmax,ki)\n",
    "    for cmax in range(1,len(feature_cols)):\n",
    "        knn = KNeighborsClassifier()\n",
    "        param_grid = dict(n_neighbors=k_range)\n",
    "        grid = GridSearchCV(knn, param_grid, cv=5, scoring='accuracy')\n",
    "        grid.fit(X_new, y)\n",
    "        grid.grid_scores_\n",
    "        mean_gridscores = [result[1] for result in grid.grid_scores_]\n",
    "        best_score = grid.best_score_\n",
    "        if best_score > grid.best_score_:\n",
    "            best_score = grid.best_score_\n",
    "            best_mean_score = mean_gridscores\n",
    "            best_k = grid.best_params_\n",
    "        cmax -= 1\n",
    "        \n",
    "        \n",
    "    print(\"Best score for\", cmax, \"columns of features\", best_score)\n",
    "    print(\"Optimal K values\", best_k)\n",
    "    print(\"best_feature_set = \", feature_cols[0:cmax])\n",
    "        \n",
    "        "
   ]
  },
  {
   "cell_type": "code",
   "execution_count": 153,
   "metadata": {
    "collapsed": false
   },
   "outputs": [
    {
     "name": "stdout",
     "output_type": "stream",
     "text": [
      "('Best score for', 7, 'columns of features', 0.87383177570093462)\n",
      "('Optimal K values', 0)\n",
      "('best_feature_set = ', ['ri', 'na', 'mg', 'al', 'si', 'k', 'ca'])\n"
     ]
    }
   ],
   "source": [
    "feature_cols = ['ri','na','mg','al','si','k','ca','ba', 'fe']\n",
    "response = y\n",
    "all_feature_test(feature_cols, response, cv=5)\n",
    "\n"
   ]
  },
  {
   "cell_type": "code",
   "execution_count": null,
   "metadata": {
    "collapsed": true
   },
   "outputs": [],
   "source": []
  }
 ],
 "metadata": {
  "kernelspec": {
   "display_name": "Python 2",
   "language": "python",
   "name": "python2"
  },
  "language_info": {
   "codemirror_mode": {
    "name": "ipython",
    "version": 2
   },
   "file_extension": ".py",
   "mimetype": "text/x-python",
   "name": "python",
   "nbconvert_exporter": "python",
   "pygments_lexer": "ipython2",
   "version": "2.7.11"
  }
 },
 "nbformat": 4,
 "nbformat_minor": 0
}
